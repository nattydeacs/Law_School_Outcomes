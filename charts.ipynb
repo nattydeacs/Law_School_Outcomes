{
 "cells": [
  {
   "cell_type": "code",
   "execution_count": 218,
   "id": "cf6babdf",
   "metadata": {},
   "outputs": [],
   "source": [
    "import pandas as pd\n",
    "import numpy as np\n",
    "import plotly.express as px"
   ]
  },
  {
   "cell_type": "code",
   "execution_count": 246,
   "id": "f2492379",
   "metadata": {},
   "outputs": [],
   "source": [
    "#inputs\n",
    "schoolinput = ['GEORGETOWN UNIVERSITY']\n",
    "yearinputs = [2015,2016, 2017, 2018, 2019, 2020, 2021, 2022]\n",
    "terminputs = [\"longterm\", \"shortterm\", \"unemployed\", \"gradSchool\"]\n",
    "timeinputs = [\"fulltime\", \"parttime\", \"unemployed\", \"gradSchool\"]\n"
   ]
  },
  {
   "cell_type": "code",
   "execution_count": 247,
   "id": "3b332ef2",
   "metadata": {},
   "outputs": [
    {
     "data": {
      "application/vnd.plotly.v1+json": {
       "config": {
        "plotlyServerURL": "https://plot.ly"
       },
       "data": [
        {
         "alignmentgroup": "True",
         "hovertemplate": "State=District of Columbia<br>SchoolName=GEORGETOWN UNIVERSITY<br>Year=%{x}<br>number_grads=%{y}<extra></extra>",
         "legendgroup": "District of Columbia",
         "marker": {
          "color": "#636efa",
          "pattern": {
           "shape": ""
          }
         },
         "name": "District of Columbia",
         "offsetgroup": "District of Columbia",
         "orientation": "v",
         "showlegend": true,
         "textposition": "auto",
         "type": "bar",
         "x": [
          2015,
          2016,
          2017,
          2018,
          2019,
          2020,
          2021
         ],
         "xaxis": "x",
         "y": [
          240,
          201,
          232,
          237,
          252,
          272,
          273
         ],
         "yaxis": "y"
        },
        {
         "alignmentgroup": "True",
         "hovertemplate": "State=New York<br>SchoolName=GEORGETOWN UNIVERSITY<br>Year=%{x}<br>number_grads=%{y}<extra></extra>",
         "legendgroup": "New York",
         "marker": {
          "color": "#EF553B",
          "pattern": {
           "shape": ""
          }
         },
         "name": "New York",
         "offsetgroup": "New York",
         "orientation": "v",
         "showlegend": true,
         "textposition": "auto",
         "type": "bar",
         "x": [
          2015,
          2016,
          2017,
          2018,
          2019,
          2020,
          2021
         ],
         "xaxis": "x",
         "y": [
          155,
          142,
          146,
          150,
          147,
          155,
          138
         ],
         "yaxis": "y"
        },
        {
         "alignmentgroup": "True",
         "hovertemplate": "State=California<br>SchoolName=GEORGETOWN UNIVERSITY<br>Year=%{x}<br>number_grads=%{y}<extra></extra>",
         "legendgroup": "California",
         "marker": {
          "color": "#00cc96",
          "pattern": {
           "shape": ""
          }
         },
         "name": "California",
         "offsetgroup": "California",
         "orientation": "v",
         "showlegend": true,
         "textposition": "auto",
         "type": "bar",
         "x": [
          2015,
          2016,
          2017,
          2018,
          2019,
          2020,
          2021
         ],
         "xaxis": "x",
         "y": [
          52,
          31,
          44,
          45,
          36,
          31,
          30
         ],
         "yaxis": "y"
        }
       ],
       "layout": {
        "annotations": [
         {
          "font": {},
          "showarrow": false,
          "text": "SchoolName=GEORGETOWN UNIVERSITY",
          "x": 0.5,
          "xanchor": "center",
          "xref": "paper",
          "y": 1,
          "yanchor": "bottom",
          "yref": "paper"
         }
        ],
        "barmode": "relative",
        "legend": {
         "title": {
          "text": "State"
         },
         "tracegroupgap": 0
        },
        "margin": {
         "t": 60
        },
        "template": {
         "data": {
          "bar": [
           {
            "error_x": {
             "color": "#2a3f5f"
            },
            "error_y": {
             "color": "#2a3f5f"
            },
            "marker": {
             "line": {
              "color": "#E5ECF6",
              "width": 0.5
             },
             "pattern": {
              "fillmode": "overlay",
              "size": 10,
              "solidity": 0.2
             }
            },
            "type": "bar"
           }
          ],
          "barpolar": [
           {
            "marker": {
             "line": {
              "color": "#E5ECF6",
              "width": 0.5
             },
             "pattern": {
              "fillmode": "overlay",
              "size": 10,
              "solidity": 0.2
             }
            },
            "type": "barpolar"
           }
          ],
          "carpet": [
           {
            "aaxis": {
             "endlinecolor": "#2a3f5f",
             "gridcolor": "white",
             "linecolor": "white",
             "minorgridcolor": "white",
             "startlinecolor": "#2a3f5f"
            },
            "baxis": {
             "endlinecolor": "#2a3f5f",
             "gridcolor": "white",
             "linecolor": "white",
             "minorgridcolor": "white",
             "startlinecolor": "#2a3f5f"
            },
            "type": "carpet"
           }
          ],
          "choropleth": [
           {
            "colorbar": {
             "outlinewidth": 0,
             "ticks": ""
            },
            "type": "choropleth"
           }
          ],
          "contour": [
           {
            "colorbar": {
             "outlinewidth": 0,
             "ticks": ""
            },
            "colorscale": [
             [
              0,
              "#0d0887"
             ],
             [
              0.1111111111111111,
              "#46039f"
             ],
             [
              0.2222222222222222,
              "#7201a8"
             ],
             [
              0.3333333333333333,
              "#9c179e"
             ],
             [
              0.4444444444444444,
              "#bd3786"
             ],
             [
              0.5555555555555556,
              "#d8576b"
             ],
             [
              0.6666666666666666,
              "#ed7953"
             ],
             [
              0.7777777777777778,
              "#fb9f3a"
             ],
             [
              0.8888888888888888,
              "#fdca26"
             ],
             [
              1,
              "#f0f921"
             ]
            ],
            "type": "contour"
           }
          ],
          "contourcarpet": [
           {
            "colorbar": {
             "outlinewidth": 0,
             "ticks": ""
            },
            "type": "contourcarpet"
           }
          ],
          "heatmap": [
           {
            "colorbar": {
             "outlinewidth": 0,
             "ticks": ""
            },
            "colorscale": [
             [
              0,
              "#0d0887"
             ],
             [
              0.1111111111111111,
              "#46039f"
             ],
             [
              0.2222222222222222,
              "#7201a8"
             ],
             [
              0.3333333333333333,
              "#9c179e"
             ],
             [
              0.4444444444444444,
              "#bd3786"
             ],
             [
              0.5555555555555556,
              "#d8576b"
             ],
             [
              0.6666666666666666,
              "#ed7953"
             ],
             [
              0.7777777777777778,
              "#fb9f3a"
             ],
             [
              0.8888888888888888,
              "#fdca26"
             ],
             [
              1,
              "#f0f921"
             ]
            ],
            "type": "heatmap"
           }
          ],
          "heatmapgl": [
           {
            "colorbar": {
             "outlinewidth": 0,
             "ticks": ""
            },
            "colorscale": [
             [
              0,
              "#0d0887"
             ],
             [
              0.1111111111111111,
              "#46039f"
             ],
             [
              0.2222222222222222,
              "#7201a8"
             ],
             [
              0.3333333333333333,
              "#9c179e"
             ],
             [
              0.4444444444444444,
              "#bd3786"
             ],
             [
              0.5555555555555556,
              "#d8576b"
             ],
             [
              0.6666666666666666,
              "#ed7953"
             ],
             [
              0.7777777777777778,
              "#fb9f3a"
             ],
             [
              0.8888888888888888,
              "#fdca26"
             ],
             [
              1,
              "#f0f921"
             ]
            ],
            "type": "heatmapgl"
           }
          ],
          "histogram": [
           {
            "marker": {
             "pattern": {
              "fillmode": "overlay",
              "size": 10,
              "solidity": 0.2
             }
            },
            "type": "histogram"
           }
          ],
          "histogram2d": [
           {
            "colorbar": {
             "outlinewidth": 0,
             "ticks": ""
            },
            "colorscale": [
             [
              0,
              "#0d0887"
             ],
             [
              0.1111111111111111,
              "#46039f"
             ],
             [
              0.2222222222222222,
              "#7201a8"
             ],
             [
              0.3333333333333333,
              "#9c179e"
             ],
             [
              0.4444444444444444,
              "#bd3786"
             ],
             [
              0.5555555555555556,
              "#d8576b"
             ],
             [
              0.6666666666666666,
              "#ed7953"
             ],
             [
              0.7777777777777778,
              "#fb9f3a"
             ],
             [
              0.8888888888888888,
              "#fdca26"
             ],
             [
              1,
              "#f0f921"
             ]
            ],
            "type": "histogram2d"
           }
          ],
          "histogram2dcontour": [
           {
            "colorbar": {
             "outlinewidth": 0,
             "ticks": ""
            },
            "colorscale": [
             [
              0,
              "#0d0887"
             ],
             [
              0.1111111111111111,
              "#46039f"
             ],
             [
              0.2222222222222222,
              "#7201a8"
             ],
             [
              0.3333333333333333,
              "#9c179e"
             ],
             [
              0.4444444444444444,
              "#bd3786"
             ],
             [
              0.5555555555555556,
              "#d8576b"
             ],
             [
              0.6666666666666666,
              "#ed7953"
             ],
             [
              0.7777777777777778,
              "#fb9f3a"
             ],
             [
              0.8888888888888888,
              "#fdca26"
             ],
             [
              1,
              "#f0f921"
             ]
            ],
            "type": "histogram2dcontour"
           }
          ],
          "mesh3d": [
           {
            "colorbar": {
             "outlinewidth": 0,
             "ticks": ""
            },
            "type": "mesh3d"
           }
          ],
          "parcoords": [
           {
            "line": {
             "colorbar": {
              "outlinewidth": 0,
              "ticks": ""
             }
            },
            "type": "parcoords"
           }
          ],
          "pie": [
           {
            "automargin": true,
            "type": "pie"
           }
          ],
          "scatter": [
           {
            "fillpattern": {
             "fillmode": "overlay",
             "size": 10,
             "solidity": 0.2
            },
            "type": "scatter"
           }
          ],
          "scatter3d": [
           {
            "line": {
             "colorbar": {
              "outlinewidth": 0,
              "ticks": ""
             }
            },
            "marker": {
             "colorbar": {
              "outlinewidth": 0,
              "ticks": ""
             }
            },
            "type": "scatter3d"
           }
          ],
          "scattercarpet": [
           {
            "marker": {
             "colorbar": {
              "outlinewidth": 0,
              "ticks": ""
             }
            },
            "type": "scattercarpet"
           }
          ],
          "scattergeo": [
           {
            "marker": {
             "colorbar": {
              "outlinewidth": 0,
              "ticks": ""
             }
            },
            "type": "scattergeo"
           }
          ],
          "scattergl": [
           {
            "marker": {
             "colorbar": {
              "outlinewidth": 0,
              "ticks": ""
             }
            },
            "type": "scattergl"
           }
          ],
          "scattermapbox": [
           {
            "marker": {
             "colorbar": {
              "outlinewidth": 0,
              "ticks": ""
             }
            },
            "type": "scattermapbox"
           }
          ],
          "scatterpolar": [
           {
            "marker": {
             "colorbar": {
              "outlinewidth": 0,
              "ticks": ""
             }
            },
            "type": "scatterpolar"
           }
          ],
          "scatterpolargl": [
           {
            "marker": {
             "colorbar": {
              "outlinewidth": 0,
              "ticks": ""
             }
            },
            "type": "scatterpolargl"
           }
          ],
          "scatterternary": [
           {
            "marker": {
             "colorbar": {
              "outlinewidth": 0,
              "ticks": ""
             }
            },
            "type": "scatterternary"
           }
          ],
          "surface": [
           {
            "colorbar": {
             "outlinewidth": 0,
             "ticks": ""
            },
            "colorscale": [
             [
              0,
              "#0d0887"
             ],
             [
              0.1111111111111111,
              "#46039f"
             ],
             [
              0.2222222222222222,
              "#7201a8"
             ],
             [
              0.3333333333333333,
              "#9c179e"
             ],
             [
              0.4444444444444444,
              "#bd3786"
             ],
             [
              0.5555555555555556,
              "#d8576b"
             ],
             [
              0.6666666666666666,
              "#ed7953"
             ],
             [
              0.7777777777777778,
              "#fb9f3a"
             ],
             [
              0.8888888888888888,
              "#fdca26"
             ],
             [
              1,
              "#f0f921"
             ]
            ],
            "type": "surface"
           }
          ],
          "table": [
           {
            "cells": {
             "fill": {
              "color": "#EBF0F8"
             },
             "line": {
              "color": "white"
             }
            },
            "header": {
             "fill": {
              "color": "#C8D4E3"
             },
             "line": {
              "color": "white"
             }
            },
            "type": "table"
           }
          ]
         },
         "layout": {
          "annotationdefaults": {
           "arrowcolor": "#2a3f5f",
           "arrowhead": 0,
           "arrowwidth": 1
          },
          "autotypenumbers": "strict",
          "coloraxis": {
           "colorbar": {
            "outlinewidth": 0,
            "ticks": ""
           }
          },
          "colorscale": {
           "diverging": [
            [
             0,
             "#8e0152"
            ],
            [
             0.1,
             "#c51b7d"
            ],
            [
             0.2,
             "#de77ae"
            ],
            [
             0.3,
             "#f1b6da"
            ],
            [
             0.4,
             "#fde0ef"
            ],
            [
             0.5,
             "#f7f7f7"
            ],
            [
             0.6,
             "#e6f5d0"
            ],
            [
             0.7,
             "#b8e186"
            ],
            [
             0.8,
             "#7fbc41"
            ],
            [
             0.9,
             "#4d9221"
            ],
            [
             1,
             "#276419"
            ]
           ],
           "sequential": [
            [
             0,
             "#0d0887"
            ],
            [
             0.1111111111111111,
             "#46039f"
            ],
            [
             0.2222222222222222,
             "#7201a8"
            ],
            [
             0.3333333333333333,
             "#9c179e"
            ],
            [
             0.4444444444444444,
             "#bd3786"
            ],
            [
             0.5555555555555556,
             "#d8576b"
            ],
            [
             0.6666666666666666,
             "#ed7953"
            ],
            [
             0.7777777777777778,
             "#fb9f3a"
            ],
            [
             0.8888888888888888,
             "#fdca26"
            ],
            [
             1,
             "#f0f921"
            ]
           ],
           "sequentialminus": [
            [
             0,
             "#0d0887"
            ],
            [
             0.1111111111111111,
             "#46039f"
            ],
            [
             0.2222222222222222,
             "#7201a8"
            ],
            [
             0.3333333333333333,
             "#9c179e"
            ],
            [
             0.4444444444444444,
             "#bd3786"
            ],
            [
             0.5555555555555556,
             "#d8576b"
            ],
            [
             0.6666666666666666,
             "#ed7953"
            ],
            [
             0.7777777777777778,
             "#fb9f3a"
            ],
            [
             0.8888888888888888,
             "#fdca26"
            ],
            [
             1,
             "#f0f921"
            ]
           ]
          },
          "colorway": [
           "#636efa",
           "#EF553B",
           "#00cc96",
           "#ab63fa",
           "#FFA15A",
           "#19d3f3",
           "#FF6692",
           "#B6E880",
           "#FF97FF",
           "#FECB52"
          ],
          "font": {
           "color": "#2a3f5f"
          },
          "geo": {
           "bgcolor": "white",
           "lakecolor": "white",
           "landcolor": "#E5ECF6",
           "showlakes": true,
           "showland": true,
           "subunitcolor": "white"
          },
          "hoverlabel": {
           "align": "left"
          },
          "hovermode": "closest",
          "mapbox": {
           "style": "light"
          },
          "paper_bgcolor": "white",
          "plot_bgcolor": "#E5ECF6",
          "polar": {
           "angularaxis": {
            "gridcolor": "white",
            "linecolor": "white",
            "ticks": ""
           },
           "bgcolor": "#E5ECF6",
           "radialaxis": {
            "gridcolor": "white",
            "linecolor": "white",
            "ticks": ""
           }
          },
          "scene": {
           "xaxis": {
            "backgroundcolor": "#E5ECF6",
            "gridcolor": "white",
            "gridwidth": 2,
            "linecolor": "white",
            "showbackground": true,
            "ticks": "",
            "zerolinecolor": "white"
           },
           "yaxis": {
            "backgroundcolor": "#E5ECF6",
            "gridcolor": "white",
            "gridwidth": 2,
            "linecolor": "white",
            "showbackground": true,
            "ticks": "",
            "zerolinecolor": "white"
           },
           "zaxis": {
            "backgroundcolor": "#E5ECF6",
            "gridcolor": "white",
            "gridwidth": 2,
            "linecolor": "white",
            "showbackground": true,
            "ticks": "",
            "zerolinecolor": "white"
           }
          },
          "shapedefaults": {
           "line": {
            "color": "#2a3f5f"
           }
          },
          "ternary": {
           "aaxis": {
            "gridcolor": "white",
            "linecolor": "white",
            "ticks": ""
           },
           "baxis": {
            "gridcolor": "white",
            "linecolor": "white",
            "ticks": ""
           },
           "bgcolor": "#E5ECF6",
           "caxis": {
            "gridcolor": "white",
            "linecolor": "white",
            "ticks": ""
           }
          },
          "title": {
           "x": 0.05
          },
          "xaxis": {
           "automargin": true,
           "gridcolor": "white",
           "linecolor": "white",
           "ticks": "",
           "title": {
            "standoff": 15
           },
           "zerolinecolor": "white",
           "zerolinewidth": 2
          },
          "yaxis": {
           "automargin": true,
           "gridcolor": "white",
           "linecolor": "white",
           "ticks": "",
           "title": {
            "standoff": 15
           },
           "zerolinecolor": "white",
           "zerolinewidth": 2
          }
         }
        },
        "xaxis": {
         "anchor": "y",
         "domain": [
          0,
          1
         ],
         "title": {
          "text": "Year"
         }
        },
        "yaxis": {
         "anchor": "x",
         "domain": [
          0,
          1
         ],
         "title": {
          "text": "number_grads"
         }
        }
       }
      },
      "text/html": [
       "<div>                            <div id=\"bdc55b90-47e2-4554-bbfe-eb4dc14fad29\" class=\"plotly-graph-div\" style=\"height:525px; width:100%;\"></div>            <script type=\"text/javascript\">                require([\"plotly\"], function(Plotly) {                    window.PLOTLYENV=window.PLOTLYENV || {};                                    if (document.getElementById(\"bdc55b90-47e2-4554-bbfe-eb4dc14fad29\")) {                    Plotly.newPlot(                        \"bdc55b90-47e2-4554-bbfe-eb4dc14fad29\",                        [{\"alignmentgroup\":\"True\",\"hovertemplate\":\"State=District of Columbia<br>SchoolName=GEORGETOWN UNIVERSITY<br>Year=%{x}<br>number_grads=%{y}<extra></extra>\",\"legendgroup\":\"District of Columbia\",\"marker\":{\"color\":\"#636efa\",\"pattern\":{\"shape\":\"\"}},\"name\":\"District of Columbia\",\"offsetgroup\":\"District of Columbia\",\"orientation\":\"v\",\"showlegend\":true,\"textposition\":\"auto\",\"x\":[2015,2016,2017,2018,2019,2020,2021],\"xaxis\":\"x\",\"y\":[240,201,232,237,252,272,273],\"yaxis\":\"y\",\"type\":\"bar\"},{\"alignmentgroup\":\"True\",\"hovertemplate\":\"State=New York<br>SchoolName=GEORGETOWN UNIVERSITY<br>Year=%{x}<br>number_grads=%{y}<extra></extra>\",\"legendgroup\":\"New York\",\"marker\":{\"color\":\"#EF553B\",\"pattern\":{\"shape\":\"\"}},\"name\":\"New York\",\"offsetgroup\":\"New York\",\"orientation\":\"v\",\"showlegend\":true,\"textposition\":\"auto\",\"x\":[2015,2016,2017,2018,2019,2020,2021],\"xaxis\":\"x\",\"y\":[155,142,146,150,147,155,138],\"yaxis\":\"y\",\"type\":\"bar\"},{\"alignmentgroup\":\"True\",\"hovertemplate\":\"State=California<br>SchoolName=GEORGETOWN UNIVERSITY<br>Year=%{x}<br>number_grads=%{y}<extra></extra>\",\"legendgroup\":\"California\",\"marker\":{\"color\":\"#00cc96\",\"pattern\":{\"shape\":\"\"}},\"name\":\"California\",\"offsetgroup\":\"California\",\"orientation\":\"v\",\"showlegend\":true,\"textposition\":\"auto\",\"x\":[2015,2016,2017,2018,2019,2020,2021],\"xaxis\":\"x\",\"y\":[52,31,44,45,36,31,30],\"yaxis\":\"y\",\"type\":\"bar\"}],                        {\"template\":{\"data\":{\"histogram2dcontour\":[{\"type\":\"histogram2dcontour\",\"colorbar\":{\"outlinewidth\":0,\"ticks\":\"\"},\"colorscale\":[[0.0,\"#0d0887\"],[0.1111111111111111,\"#46039f\"],[0.2222222222222222,\"#7201a8\"],[0.3333333333333333,\"#9c179e\"],[0.4444444444444444,\"#bd3786\"],[0.5555555555555556,\"#d8576b\"],[0.6666666666666666,\"#ed7953\"],[0.7777777777777778,\"#fb9f3a\"],[0.8888888888888888,\"#fdca26\"],[1.0,\"#f0f921\"]]}],\"choropleth\":[{\"type\":\"choropleth\",\"colorbar\":{\"outlinewidth\":0,\"ticks\":\"\"}}],\"histogram2d\":[{\"type\":\"histogram2d\",\"colorbar\":{\"outlinewidth\":0,\"ticks\":\"\"},\"colorscale\":[[0.0,\"#0d0887\"],[0.1111111111111111,\"#46039f\"],[0.2222222222222222,\"#7201a8\"],[0.3333333333333333,\"#9c179e\"],[0.4444444444444444,\"#bd3786\"],[0.5555555555555556,\"#d8576b\"],[0.6666666666666666,\"#ed7953\"],[0.7777777777777778,\"#fb9f3a\"],[0.8888888888888888,\"#fdca26\"],[1.0,\"#f0f921\"]]}],\"heatmap\":[{\"type\":\"heatmap\",\"colorbar\":{\"outlinewidth\":0,\"ticks\":\"\"},\"colorscale\":[[0.0,\"#0d0887\"],[0.1111111111111111,\"#46039f\"],[0.2222222222222222,\"#7201a8\"],[0.3333333333333333,\"#9c179e\"],[0.4444444444444444,\"#bd3786\"],[0.5555555555555556,\"#d8576b\"],[0.6666666666666666,\"#ed7953\"],[0.7777777777777778,\"#fb9f3a\"],[0.8888888888888888,\"#fdca26\"],[1.0,\"#f0f921\"]]}],\"heatmapgl\":[{\"type\":\"heatmapgl\",\"colorbar\":{\"outlinewidth\":0,\"ticks\":\"\"},\"colorscale\":[[0.0,\"#0d0887\"],[0.1111111111111111,\"#46039f\"],[0.2222222222222222,\"#7201a8\"],[0.3333333333333333,\"#9c179e\"],[0.4444444444444444,\"#bd3786\"],[0.5555555555555556,\"#d8576b\"],[0.6666666666666666,\"#ed7953\"],[0.7777777777777778,\"#fb9f3a\"],[0.8888888888888888,\"#fdca26\"],[1.0,\"#f0f921\"]]}],\"contourcarpet\":[{\"type\":\"contourcarpet\",\"colorbar\":{\"outlinewidth\":0,\"ticks\":\"\"}}],\"contour\":[{\"type\":\"contour\",\"colorbar\":{\"outlinewidth\":0,\"ticks\":\"\"},\"colorscale\":[[0.0,\"#0d0887\"],[0.1111111111111111,\"#46039f\"],[0.2222222222222222,\"#7201a8\"],[0.3333333333333333,\"#9c179e\"],[0.4444444444444444,\"#bd3786\"],[0.5555555555555556,\"#d8576b\"],[0.6666666666666666,\"#ed7953\"],[0.7777777777777778,\"#fb9f3a\"],[0.8888888888888888,\"#fdca26\"],[1.0,\"#f0f921\"]]}],\"surface\":[{\"type\":\"surface\",\"colorbar\":{\"outlinewidth\":0,\"ticks\":\"\"},\"colorscale\":[[0.0,\"#0d0887\"],[0.1111111111111111,\"#46039f\"],[0.2222222222222222,\"#7201a8\"],[0.3333333333333333,\"#9c179e\"],[0.4444444444444444,\"#bd3786\"],[0.5555555555555556,\"#d8576b\"],[0.6666666666666666,\"#ed7953\"],[0.7777777777777778,\"#fb9f3a\"],[0.8888888888888888,\"#fdca26\"],[1.0,\"#f0f921\"]]}],\"mesh3d\":[{\"type\":\"mesh3d\",\"colorbar\":{\"outlinewidth\":0,\"ticks\":\"\"}}],\"scatter\":[{\"fillpattern\":{\"fillmode\":\"overlay\",\"size\":10,\"solidity\":0.2},\"type\":\"scatter\"}],\"parcoords\":[{\"type\":\"parcoords\",\"line\":{\"colorbar\":{\"outlinewidth\":0,\"ticks\":\"\"}}}],\"scatterpolargl\":[{\"type\":\"scatterpolargl\",\"marker\":{\"colorbar\":{\"outlinewidth\":0,\"ticks\":\"\"}}}],\"bar\":[{\"error_x\":{\"color\":\"#2a3f5f\"},\"error_y\":{\"color\":\"#2a3f5f\"},\"marker\":{\"line\":{\"color\":\"#E5ECF6\",\"width\":0.5},\"pattern\":{\"fillmode\":\"overlay\",\"size\":10,\"solidity\":0.2}},\"type\":\"bar\"}],\"scattergeo\":[{\"type\":\"scattergeo\",\"marker\":{\"colorbar\":{\"outlinewidth\":0,\"ticks\":\"\"}}}],\"scatterpolar\":[{\"type\":\"scatterpolar\",\"marker\":{\"colorbar\":{\"outlinewidth\":0,\"ticks\":\"\"}}}],\"histogram\":[{\"marker\":{\"pattern\":{\"fillmode\":\"overlay\",\"size\":10,\"solidity\":0.2}},\"type\":\"histogram\"}],\"scattergl\":[{\"type\":\"scattergl\",\"marker\":{\"colorbar\":{\"outlinewidth\":0,\"ticks\":\"\"}}}],\"scatter3d\":[{\"type\":\"scatter3d\",\"line\":{\"colorbar\":{\"outlinewidth\":0,\"ticks\":\"\"}},\"marker\":{\"colorbar\":{\"outlinewidth\":0,\"ticks\":\"\"}}}],\"scattermapbox\":[{\"type\":\"scattermapbox\",\"marker\":{\"colorbar\":{\"outlinewidth\":0,\"ticks\":\"\"}}}],\"scatterternary\":[{\"type\":\"scatterternary\",\"marker\":{\"colorbar\":{\"outlinewidth\":0,\"ticks\":\"\"}}}],\"scattercarpet\":[{\"type\":\"scattercarpet\",\"marker\":{\"colorbar\":{\"outlinewidth\":0,\"ticks\":\"\"}}}],\"carpet\":[{\"aaxis\":{\"endlinecolor\":\"#2a3f5f\",\"gridcolor\":\"white\",\"linecolor\":\"white\",\"minorgridcolor\":\"white\",\"startlinecolor\":\"#2a3f5f\"},\"baxis\":{\"endlinecolor\":\"#2a3f5f\",\"gridcolor\":\"white\",\"linecolor\":\"white\",\"minorgridcolor\":\"white\",\"startlinecolor\":\"#2a3f5f\"},\"type\":\"carpet\"}],\"table\":[{\"cells\":{\"fill\":{\"color\":\"#EBF0F8\"},\"line\":{\"color\":\"white\"}},\"header\":{\"fill\":{\"color\":\"#C8D4E3\"},\"line\":{\"color\":\"white\"}},\"type\":\"table\"}],\"barpolar\":[{\"marker\":{\"line\":{\"color\":\"#E5ECF6\",\"width\":0.5},\"pattern\":{\"fillmode\":\"overlay\",\"size\":10,\"solidity\":0.2}},\"type\":\"barpolar\"}],\"pie\":[{\"automargin\":true,\"type\":\"pie\"}]},\"layout\":{\"autotypenumbers\":\"strict\",\"colorway\":[\"#636efa\",\"#EF553B\",\"#00cc96\",\"#ab63fa\",\"#FFA15A\",\"#19d3f3\",\"#FF6692\",\"#B6E880\",\"#FF97FF\",\"#FECB52\"],\"font\":{\"color\":\"#2a3f5f\"},\"hovermode\":\"closest\",\"hoverlabel\":{\"align\":\"left\"},\"paper_bgcolor\":\"white\",\"plot_bgcolor\":\"#E5ECF6\",\"polar\":{\"bgcolor\":\"#E5ECF6\",\"angularaxis\":{\"gridcolor\":\"white\",\"linecolor\":\"white\",\"ticks\":\"\"},\"radialaxis\":{\"gridcolor\":\"white\",\"linecolor\":\"white\",\"ticks\":\"\"}},\"ternary\":{\"bgcolor\":\"#E5ECF6\",\"aaxis\":{\"gridcolor\":\"white\",\"linecolor\":\"white\",\"ticks\":\"\"},\"baxis\":{\"gridcolor\":\"white\",\"linecolor\":\"white\",\"ticks\":\"\"},\"caxis\":{\"gridcolor\":\"white\",\"linecolor\":\"white\",\"ticks\":\"\"}},\"coloraxis\":{\"colorbar\":{\"outlinewidth\":0,\"ticks\":\"\"}},\"colorscale\":{\"sequential\":[[0.0,\"#0d0887\"],[0.1111111111111111,\"#46039f\"],[0.2222222222222222,\"#7201a8\"],[0.3333333333333333,\"#9c179e\"],[0.4444444444444444,\"#bd3786\"],[0.5555555555555556,\"#d8576b\"],[0.6666666666666666,\"#ed7953\"],[0.7777777777777778,\"#fb9f3a\"],[0.8888888888888888,\"#fdca26\"],[1.0,\"#f0f921\"]],\"sequentialminus\":[[0.0,\"#0d0887\"],[0.1111111111111111,\"#46039f\"],[0.2222222222222222,\"#7201a8\"],[0.3333333333333333,\"#9c179e\"],[0.4444444444444444,\"#bd3786\"],[0.5555555555555556,\"#d8576b\"],[0.6666666666666666,\"#ed7953\"],[0.7777777777777778,\"#fb9f3a\"],[0.8888888888888888,\"#fdca26\"],[1.0,\"#f0f921\"]],\"diverging\":[[0,\"#8e0152\"],[0.1,\"#c51b7d\"],[0.2,\"#de77ae\"],[0.3,\"#f1b6da\"],[0.4,\"#fde0ef\"],[0.5,\"#f7f7f7\"],[0.6,\"#e6f5d0\"],[0.7,\"#b8e186\"],[0.8,\"#7fbc41\"],[0.9,\"#4d9221\"],[1,\"#276419\"]]},\"xaxis\":{\"gridcolor\":\"white\",\"linecolor\":\"white\",\"ticks\":\"\",\"title\":{\"standoff\":15},\"zerolinecolor\":\"white\",\"automargin\":true,\"zerolinewidth\":2},\"yaxis\":{\"gridcolor\":\"white\",\"linecolor\":\"white\",\"ticks\":\"\",\"title\":{\"standoff\":15},\"zerolinecolor\":\"white\",\"automargin\":true,\"zerolinewidth\":2},\"scene\":{\"xaxis\":{\"backgroundcolor\":\"#E5ECF6\",\"gridcolor\":\"white\",\"linecolor\":\"white\",\"showbackground\":true,\"ticks\":\"\",\"zerolinecolor\":\"white\",\"gridwidth\":2},\"yaxis\":{\"backgroundcolor\":\"#E5ECF6\",\"gridcolor\":\"white\",\"linecolor\":\"white\",\"showbackground\":true,\"ticks\":\"\",\"zerolinecolor\":\"white\",\"gridwidth\":2},\"zaxis\":{\"backgroundcolor\":\"#E5ECF6\",\"gridcolor\":\"white\",\"linecolor\":\"white\",\"showbackground\":true,\"ticks\":\"\",\"zerolinecolor\":\"white\",\"gridwidth\":2}},\"shapedefaults\":{\"line\":{\"color\":\"#2a3f5f\"}},\"annotationdefaults\":{\"arrowcolor\":\"#2a3f5f\",\"arrowhead\":0,\"arrowwidth\":1},\"geo\":{\"bgcolor\":\"white\",\"landcolor\":\"#E5ECF6\",\"subunitcolor\":\"white\",\"showland\":true,\"showlakes\":true,\"lakecolor\":\"white\"},\"title\":{\"x\":0.05},\"mapbox\":{\"style\":\"light\"}}},\"xaxis\":{\"anchor\":\"y\",\"domain\":[0.0,1.0],\"title\":{\"text\":\"Year\"}},\"yaxis\":{\"anchor\":\"x\",\"domain\":[0.0,1.0],\"title\":{\"text\":\"number_grads\"}},\"annotations\":[{\"font\":{},\"showarrow\":false,\"text\":\"SchoolName=GEORGETOWN UNIVERSITY\",\"x\":0.5,\"xanchor\":\"center\",\"xref\":\"paper\",\"y\":1.0,\"yanchor\":\"bottom\",\"yref\":\"paper\"}],\"legend\":{\"title\":{\"text\":\"State\"},\"tracegroupgap\":0},\"margin\":{\"t\":60},\"barmode\":\"relative\"},                        {\"responsive\": true}                    ).then(function(){\n",
       "                            \n",
       "var gd = document.getElementById('bdc55b90-47e2-4554-bbfe-eb4dc14fad29');\n",
       "var x = new MutationObserver(function (mutations, observer) {{\n",
       "        var display = window.getComputedStyle(gd).display;\n",
       "        if (!display || display === 'none') {{\n",
       "            console.log([gd, 'removed!']);\n",
       "            Plotly.purge(gd);\n",
       "            observer.disconnect();\n",
       "        }}\n",
       "}});\n",
       "\n",
       "// Listen for the removal of the full notebook cells\n",
       "var notebookContainer = gd.closest('#notebook-container');\n",
       "if (notebookContainer) {{\n",
       "    x.observe(notebookContainer, {childList: true});\n",
       "}}\n",
       "\n",
       "// Listen for the clearing of the current output cell\n",
       "var outputEl = gd.closest('.output');\n",
       "if (outputEl) {{\n",
       "    x.observe(outputEl, {childList: true});\n",
       "}}\n",
       "\n",
       "                        })                };                });            </script>        </div>"
      ]
     },
     "metadata": {},
     "output_type": "display_data"
    }
   ],
   "source": [
    "#state plot and data\n",
    "states = pd.read_csv(\"states.csv\")\n",
    "states[\"State\"] = states[\"State\"].str.replace(\"Of\", \"of\")\n",
    "\n",
    "statPlotData = states[(states.SchoolName.isin(schoolinput)) & (states.Year.isin(yearinputs))].copy()\n",
    "statePlot = px.bar(statPlotData, x='Year', y='number_grads', color = 'State', facet_col = 'SchoolName')\n",
    "statePlot"
   ]
  },
  {
   "cell_type": "code",
   "execution_count": 249,
   "id": "e81ef0b8",
   "metadata": {},
   "outputs": [
    {
     "data": {
      "application/vnd.plotly.v1+json": {
       "config": {
        "plotlyServerURL": "https://plot.ly"
       },
       "data": [
        {
         "alignmentgroup": "True",
         "hovertemplate": "employment_type=Employed_BarPassageRequired<br>Year=2015<br>SchoolName=%{x}<br>% of grads=%{y}<extra></extra>",
         "legendgroup": "Employed_BarPassageRequired",
         "marker": {
          "color": "#636efa",
          "pattern": {
           "shape": ""
          }
         },
         "name": "Employed_BarPassageRequired",
         "offsetgroup": "Employed_BarPassageRequired",
         "orientation": "v",
         "showlegend": true,
         "textposition": "auto",
         "type": "bar",
         "x": [
          "GEORGETOWN UNIVERSITY"
         ],
         "xaxis": "x",
         "y": [
          0.8027681660899654
         ],
         "yaxis": "y"
        },
        {
         "alignmentgroup": "True",
         "hovertemplate": "employment_type=Employed_BarPassageRequired<br>Year=2016<br>SchoolName=%{x}<br>% of grads=%{y}<extra></extra>",
         "legendgroup": "Employed_BarPassageRequired",
         "marker": {
          "color": "#636efa",
          "pattern": {
           "shape": ""
          }
         },
         "name": "Employed_BarPassageRequired",
         "offsetgroup": "Employed_BarPassageRequired",
         "orientation": "v",
         "showlegend": false,
         "textposition": "auto",
         "type": "bar",
         "x": [
          "GEORGETOWN UNIVERSITY"
         ],
         "xaxis": "x2",
         "y": [
          0.8382099827882961
         ],
         "yaxis": "y2"
        },
        {
         "alignmentgroup": "True",
         "hovertemplate": "employment_type=Employed_BarPassageRequired<br>Year=2017<br>SchoolName=%{x}<br>% of grads=%{y}<extra></extra>",
         "legendgroup": "Employed_BarPassageRequired",
         "marker": {
          "color": "#636efa",
          "pattern": {
           "shape": ""
          }
         },
         "name": "Employed_BarPassageRequired",
         "offsetgroup": "Employed_BarPassageRequired",
         "orientation": "v",
         "showlegend": false,
         "textposition": "auto",
         "type": "bar",
         "x": [
          "GEORGETOWN UNIVERSITY"
         ],
         "xaxis": "x3",
         "y": [
          0.8549747048903878
         ],
         "yaxis": "y3"
        },
        {
         "alignmentgroup": "True",
         "hovertemplate": "employment_type=Employed_BarPassageRequired<br>Year=2018<br>SchoolName=%{x}<br>% of grads=%{y}<extra></extra>",
         "legendgroup": "Employed_BarPassageRequired",
         "marker": {
          "color": "#636efa",
          "pattern": {
           "shape": ""
          }
         },
         "name": "Employed_BarPassageRequired",
         "offsetgroup": "Employed_BarPassageRequired",
         "orientation": "v",
         "showlegend": false,
         "textposition": "auto",
         "type": "bar",
         "x": [
          "GEORGETOWN UNIVERSITY"
         ],
         "xaxis": "x4",
         "y": [
          0.8826446280991735
         ],
         "yaxis": "y4"
        },
        {
         "alignmentgroup": "True",
         "hovertemplate": "employment_type=Employed_BarPassageRequired<br>Year=2019<br>SchoolName=%{x}<br>% of grads=%{y}<extra></extra>",
         "legendgroup": "Employed_BarPassageRequired",
         "marker": {
          "color": "#636efa",
          "pattern": {
           "shape": ""
          }
         },
         "name": "Employed_BarPassageRequired",
         "offsetgroup": "Employed_BarPassageRequired",
         "orientation": "v",
         "showlegend": false,
         "textposition": "auto",
         "type": "bar",
         "x": [
          "GEORGETOWN UNIVERSITY"
         ],
         "xaxis": "x5",
         "y": [
          0.8865478119935171
         ],
         "yaxis": "y5"
        },
        {
         "alignmentgroup": "True",
         "hovertemplate": "employment_type=Employed_BarPassageRequired<br>Year=2020<br>SchoolName=%{x}<br>% of grads=%{y}<extra></extra>",
         "legendgroup": "Employed_BarPassageRequired",
         "marker": {
          "color": "#636efa",
          "pattern": {
           "shape": ""
          }
         },
         "name": "Employed_BarPassageRequired",
         "offsetgroup": "Employed_BarPassageRequired",
         "orientation": "v",
         "showlegend": false,
         "textposition": "auto",
         "type": "bar",
         "x": [
          "GEORGETOWN UNIVERSITY"
         ],
         "xaxis": "x6",
         "y": [
          0.8782742681047766
         ],
         "yaxis": "y6"
        },
        {
         "alignmentgroup": "True",
         "hovertemplate": "employment_type=Employed_BarPassageRequired<br>Year=2021<br>SchoolName=%{x}<br>% of grads=%{y}<extra></extra>",
         "legendgroup": "Employed_BarPassageRequired",
         "marker": {
          "color": "#636efa",
          "pattern": {
           "shape": ""
          }
         },
         "name": "Employed_BarPassageRequired",
         "offsetgroup": "Employed_BarPassageRequired",
         "orientation": "v",
         "showlegend": false,
         "textposition": "auto",
         "type": "bar",
         "x": [
          "GEORGETOWN UNIVERSITY"
         ],
         "xaxis": "x7",
         "y": [
          0.8944881889763779
         ],
         "yaxis": "y7"
        },
        {
         "alignmentgroup": "True",
         "hovertemplate": "employment_type=Employed_JDAdvantage<br>Year=2015<br>SchoolName=%{x}<br>% of grads=%{y}<extra></extra>",
         "legendgroup": "Employed_JDAdvantage",
         "marker": {
          "color": "#EF553B",
          "pattern": {
           "shape": ""
          }
         },
         "name": "Employed_JDAdvantage",
         "offsetgroup": "Employed_JDAdvantage",
         "orientation": "v",
         "showlegend": true,
         "textposition": "auto",
         "type": "bar",
         "x": [
          "GEORGETOWN UNIVERSITY"
         ],
         "xaxis": "x",
         "y": [
          0.09169550173010381
         ],
         "yaxis": "y"
        },
        {
         "alignmentgroup": "True",
         "hovertemplate": "employment_type=Employed_JDAdvantage<br>Year=2016<br>SchoolName=%{x}<br>% of grads=%{y}<extra></extra>",
         "legendgroup": "Employed_JDAdvantage",
         "marker": {
          "color": "#EF553B",
          "pattern": {
           "shape": ""
          }
         },
         "name": "Employed_JDAdvantage",
         "offsetgroup": "Employed_JDAdvantage",
         "orientation": "v",
         "showlegend": false,
         "textposition": "auto",
         "type": "bar",
         "x": [
          "GEORGETOWN UNIVERSITY"
         ],
         "xaxis": "x2",
         "y": [
          0.06884681583476764
         ],
         "yaxis": "y2"
        },
        {
         "alignmentgroup": "True",
         "hovertemplate": "employment_type=Employed_JDAdvantage<br>Year=2017<br>SchoolName=%{x}<br>% of grads=%{y}<extra></extra>",
         "legendgroup": "Employed_JDAdvantage",
         "marker": {
          "color": "#EF553B",
          "pattern": {
           "shape": ""
          }
         },
         "name": "Employed_JDAdvantage",
         "offsetgroup": "Employed_JDAdvantage",
         "orientation": "v",
         "showlegend": false,
         "textposition": "auto",
         "type": "bar",
         "x": [
          "GEORGETOWN UNIVERSITY"
         ],
         "xaxis": "x3",
         "y": [
          0.07251264755480608
         ],
         "yaxis": "y3"
        },
        {
         "alignmentgroup": "True",
         "hovertemplate": "employment_type=Employed_JDAdvantage<br>Year=2018<br>SchoolName=%{x}<br>% of grads=%{y}<extra></extra>",
         "legendgroup": "Employed_JDAdvantage",
         "marker": {
          "color": "#EF553B",
          "pattern": {
           "shape": ""
          }
         },
         "name": "Employed_JDAdvantage",
         "offsetgroup": "Employed_JDAdvantage",
         "orientation": "v",
         "showlegend": false,
         "textposition": "auto",
         "type": "bar",
         "x": [
          "GEORGETOWN UNIVERSITY"
         ],
         "xaxis": "x4",
         "y": [
          0.05289256198347107
         ],
         "yaxis": "y4"
        },
        {
         "alignmentgroup": "True",
         "hovertemplate": "employment_type=Employed_JDAdvantage<br>Year=2019<br>SchoolName=%{x}<br>% of grads=%{y}<extra></extra>",
         "legendgroup": "Employed_JDAdvantage",
         "marker": {
          "color": "#EF553B",
          "pattern": {
           "shape": ""
          }
         },
         "name": "Employed_JDAdvantage",
         "offsetgroup": "Employed_JDAdvantage",
         "orientation": "v",
         "showlegend": false,
         "textposition": "auto",
         "type": "bar",
         "x": [
          "GEORGETOWN UNIVERSITY"
         ],
         "xaxis": "x5",
         "y": [
          0.05186385737439222
         ],
         "yaxis": "y5"
        },
        {
         "alignmentgroup": "True",
         "hovertemplate": "employment_type=Employed_JDAdvantage<br>Year=2020<br>SchoolName=%{x}<br>% of grads=%{y}<extra></extra>",
         "legendgroup": "Employed_JDAdvantage",
         "marker": {
          "color": "#EF553B",
          "pattern": {
           "shape": ""
          }
         },
         "name": "Employed_JDAdvantage",
         "offsetgroup": "Employed_JDAdvantage",
         "orientation": "v",
         "showlegend": false,
         "textposition": "auto",
         "type": "bar",
         "x": [
          "GEORGETOWN UNIVERSITY"
         ],
         "xaxis": "x6",
         "y": [
          0.04930662557781202
         ],
         "yaxis": "y6"
        },
        {
         "alignmentgroup": "True",
         "hovertemplate": "employment_type=Employed_JDAdvantage<br>Year=2021<br>SchoolName=%{x}<br>% of grads=%{y}<extra></extra>",
         "legendgroup": "Employed_JDAdvantage",
         "marker": {
          "color": "#EF553B",
          "pattern": {
           "shape": ""
          }
         },
         "name": "Employed_JDAdvantage",
         "offsetgroup": "Employed_JDAdvantage",
         "orientation": "v",
         "showlegend": false,
         "textposition": "auto",
         "type": "bar",
         "x": [
          "GEORGETOWN UNIVERSITY"
         ],
         "xaxis": "x7",
         "y": [
          0.05984251968503937
         ],
         "yaxis": "y7"
        },
        {
         "alignmentgroup": "True",
         "hovertemplate": "employment_type=Employed_OtherPosition<br>Year=2015<br>SchoolName=%{x}<br>% of grads=%{y}<extra></extra>",
         "legendgroup": "Employed_OtherPosition",
         "marker": {
          "color": "#00cc96",
          "pattern": {
           "shape": ""
          }
         },
         "name": "Employed_OtherPosition",
         "offsetgroup": "Employed_OtherPosition",
         "orientation": "v",
         "showlegend": true,
         "textposition": "auto",
         "type": "bar",
         "x": [
          "GEORGETOWN UNIVERSITY"
         ],
         "xaxis": "x",
         "y": [
          0.0034602076124567475
         ],
         "yaxis": "y"
        },
        {
         "alignmentgroup": "True",
         "hovertemplate": "employment_type=Employed_OtherPosition<br>Year=2016<br>SchoolName=%{x}<br>% of grads=%{y}<extra></extra>",
         "legendgroup": "Employed_OtherPosition",
         "marker": {
          "color": "#00cc96",
          "pattern": {
           "shape": ""
          }
         },
         "name": "Employed_OtherPosition",
         "offsetgroup": "Employed_OtherPosition",
         "orientation": "v",
         "showlegend": false,
         "textposition": "auto",
         "type": "bar",
         "x": [
          "GEORGETOWN UNIVERSITY"
         ],
         "xaxis": "x2",
         "y": [
          0.0068846815834767644
         ],
         "yaxis": "y2"
        },
        {
         "alignmentgroup": "True",
         "hovertemplate": "employment_type=Employed_OtherPosition<br>Year=2017<br>SchoolName=%{x}<br>% of grads=%{y}<extra></extra>",
         "legendgroup": "Employed_OtherPosition",
         "marker": {
          "color": "#00cc96",
          "pattern": {
           "shape": ""
          }
         },
         "name": "Employed_OtherPosition",
         "offsetgroup": "Employed_OtherPosition",
         "orientation": "v",
         "showlegend": false,
         "textposition": "auto",
         "type": "bar",
         "x": [
          "GEORGETOWN UNIVERSITY"
         ],
         "xaxis": "x3",
         "y": [
          0.003372681281618887
         ],
         "yaxis": "y3"
        },
        {
         "alignmentgroup": "True",
         "hovertemplate": "employment_type=Employed_OtherPosition<br>Year=2018<br>SchoolName=%{x}<br>% of grads=%{y}<extra></extra>",
         "legendgroup": "Employed_OtherPosition",
         "marker": {
          "color": "#00cc96",
          "pattern": {
           "shape": ""
          }
         },
         "name": "Employed_OtherPosition",
         "offsetgroup": "Employed_OtherPosition",
         "orientation": "v",
         "showlegend": false,
         "textposition": "auto",
         "type": "bar",
         "x": [
          "GEORGETOWN UNIVERSITY"
         ],
         "xaxis": "x4",
         "y": [
          0.001652892561983471
         ],
         "yaxis": "y4"
        },
        {
         "alignmentgroup": "True",
         "hovertemplate": "employment_type=Employed_OtherPosition<br>Year=2019<br>SchoolName=%{x}<br>% of grads=%{y}<extra></extra>",
         "legendgroup": "Employed_OtherPosition",
         "marker": {
          "color": "#00cc96",
          "pattern": {
           "shape": ""
          }
         },
         "name": "Employed_OtherPosition",
         "offsetgroup": "Employed_OtherPosition",
         "orientation": "v",
         "showlegend": false,
         "textposition": "auto",
         "type": "bar",
         "x": [
          "GEORGETOWN UNIVERSITY"
         ],
         "xaxis": "x5",
         "y": [
          0
         ],
         "yaxis": "y5"
        },
        {
         "alignmentgroup": "True",
         "hovertemplate": "employment_type=Employed_OtherPosition<br>Year=2020<br>SchoolName=%{x}<br>% of grads=%{y}<extra></extra>",
         "legendgroup": "Employed_OtherPosition",
         "marker": {
          "color": "#00cc96",
          "pattern": {
           "shape": ""
          }
         },
         "name": "Employed_OtherPosition",
         "offsetgroup": "Employed_OtherPosition",
         "orientation": "v",
         "showlegend": false,
         "textposition": "auto",
         "type": "bar",
         "x": [
          "GEORGETOWN UNIVERSITY"
         ],
         "xaxis": "x6",
         "y": [
          0.0015408320493066256
         ],
         "yaxis": "y6"
        },
        {
         "alignmentgroup": "True",
         "hovertemplate": "employment_type=Employed_OtherPosition<br>Year=2021<br>SchoolName=%{x}<br>% of grads=%{y}<extra></extra>",
         "legendgroup": "Employed_OtherPosition",
         "marker": {
          "color": "#00cc96",
          "pattern": {
           "shape": ""
          }
         },
         "name": "Employed_OtherPosition",
         "offsetgroup": "Employed_OtherPosition",
         "orientation": "v",
         "showlegend": false,
         "textposition": "auto",
         "type": "bar",
         "x": [
          "GEORGETOWN UNIVERSITY"
         ],
         "xaxis": "x7",
         "y": [
          0
         ],
         "yaxis": "y7"
        },
        {
         "alignmentgroup": "True",
         "hovertemplate": "employment_type=Employed_ProfessionPosition<br>Year=2015<br>SchoolName=%{x}<br>% of grads=%{y}<extra></extra>",
         "legendgroup": "Employed_ProfessionPosition",
         "marker": {
          "color": "#ab63fa",
          "pattern": {
           "shape": ""
          }
         },
         "name": "Employed_ProfessionPosition",
         "offsetgroup": "Employed_ProfessionPosition",
         "orientation": "v",
         "showlegend": true,
         "textposition": "auto",
         "type": "bar",
         "x": [
          "GEORGETOWN UNIVERSITY"
         ],
         "xaxis": "x",
         "y": [
          0.00865051903114187
         ],
         "yaxis": "y"
        },
        {
         "alignmentgroup": "True",
         "hovertemplate": "employment_type=Employed_ProfessionPosition<br>Year=2016<br>SchoolName=%{x}<br>% of grads=%{y}<extra></extra>",
         "legendgroup": "Employed_ProfessionPosition",
         "marker": {
          "color": "#ab63fa",
          "pattern": {
           "shape": ""
          }
         },
         "name": "Employed_ProfessionPosition",
         "offsetgroup": "Employed_ProfessionPosition",
         "orientation": "v",
         "showlegend": false,
         "textposition": "auto",
         "type": "bar",
         "x": [
          "GEORGETOWN UNIVERSITY"
         ],
         "xaxis": "x2",
         "y": [
          0.01549053356282272
         ],
         "yaxis": "y2"
        },
        {
         "alignmentgroup": "True",
         "hovertemplate": "employment_type=Employed_ProfessionPosition<br>Year=2017<br>SchoolName=%{x}<br>% of grads=%{y}<extra></extra>",
         "legendgroup": "Employed_ProfessionPosition",
         "marker": {
          "color": "#ab63fa",
          "pattern": {
           "shape": ""
          }
         },
         "name": "Employed_ProfessionPosition",
         "offsetgroup": "Employed_ProfessionPosition",
         "orientation": "v",
         "showlegend": false,
         "textposition": "auto",
         "type": "bar",
         "x": [
          "GEORGETOWN UNIVERSITY"
         ],
         "xaxis": "x3",
         "y": [
          0.00505902192242833
         ],
         "yaxis": "y3"
        },
        {
         "alignmentgroup": "True",
         "hovertemplate": "employment_type=Employed_ProfessionPosition<br>Year=2018<br>SchoolName=%{x}<br>% of grads=%{y}<extra></extra>",
         "legendgroup": "Employed_ProfessionPosition",
         "marker": {
          "color": "#ab63fa",
          "pattern": {
           "shape": ""
          }
         },
         "name": "Employed_ProfessionPosition",
         "offsetgroup": "Employed_ProfessionPosition",
         "orientation": "v",
         "showlegend": false,
         "textposition": "auto",
         "type": "bar",
         "x": [
          "GEORGETOWN UNIVERSITY"
         ],
         "xaxis": "x4",
         "y": [
          0.013223140495867768
         ],
         "yaxis": "y4"
        },
        {
         "alignmentgroup": "True",
         "hovertemplate": "employment_type=Employed_ProfessionPosition<br>Year=2019<br>SchoolName=%{x}<br>% of grads=%{y}<extra></extra>",
         "legendgroup": "Employed_ProfessionPosition",
         "marker": {
          "color": "#ab63fa",
          "pattern": {
           "shape": ""
          }
         },
         "name": "Employed_ProfessionPosition",
         "offsetgroup": "Employed_ProfessionPosition",
         "orientation": "v",
         "showlegend": false,
         "textposition": "auto",
         "type": "bar",
         "x": [
          "GEORGETOWN UNIVERSITY"
         ],
         "xaxis": "x5",
         "y": [
          0.014586709886547812
         ],
         "yaxis": "y5"
        },
        {
         "alignmentgroup": "True",
         "hovertemplate": "employment_type=Employed_ProfessionPosition<br>Year=2020<br>SchoolName=%{x}<br>% of grads=%{y}<extra></extra>",
         "legendgroup": "Employed_ProfessionPosition",
         "marker": {
          "color": "#ab63fa",
          "pattern": {
           "shape": ""
          }
         },
         "name": "Employed_ProfessionPosition",
         "offsetgroup": "Employed_ProfessionPosition",
         "orientation": "v",
         "showlegend": false,
         "textposition": "auto",
         "type": "bar",
         "x": [
          "GEORGETOWN UNIVERSITY"
         ],
         "xaxis": "x6",
         "y": [
          0.009244992295839754
         ],
         "yaxis": "y6"
        },
        {
         "alignmentgroup": "True",
         "hovertemplate": "employment_type=Employed_ProfessionPosition<br>Year=2021<br>SchoolName=%{x}<br>% of grads=%{y}<extra></extra>",
         "legendgroup": "Employed_ProfessionPosition",
         "marker": {
          "color": "#ab63fa",
          "pattern": {
           "shape": ""
          }
         },
         "name": "Employed_ProfessionPosition",
         "offsetgroup": "Employed_ProfessionPosition",
         "orientation": "v",
         "showlegend": false,
         "textposition": "auto",
         "type": "bar",
         "x": [
          "GEORGETOWN UNIVERSITY"
         ],
         "xaxis": "x7",
         "y": [
          0.0031496062992125984
         ],
         "yaxis": "y7"
        },
        {
         "alignmentgroup": "True",
         "hovertemplate": "employment_type=Employed_Undeterminable<br>Year=2015<br>SchoolName=%{x}<br>% of grads=%{y}<extra></extra>",
         "legendgroup": "Employed_Undeterminable",
         "marker": {
          "color": "#FFA15A",
          "pattern": {
           "shape": ""
          }
         },
         "name": "Employed_Undeterminable",
         "offsetgroup": "Employed_Undeterminable",
         "orientation": "v",
         "showlegend": true,
         "textposition": "auto",
         "type": "bar",
         "x": [
          "GEORGETOWN UNIVERSITY"
         ],
         "xaxis": "x",
         "y": [
          0.0017301038062283738
         ],
         "yaxis": "y"
        },
        {
         "alignmentgroup": "True",
         "hovertemplate": "employment_type=Employed_Undeterminable<br>Year=2016<br>SchoolName=%{x}<br>% of grads=%{y}<extra></extra>",
         "legendgroup": "Employed_Undeterminable",
         "marker": {
          "color": "#FFA15A",
          "pattern": {
           "shape": ""
          }
         },
         "name": "Employed_Undeterminable",
         "offsetgroup": "Employed_Undeterminable",
         "orientation": "v",
         "showlegend": false,
         "textposition": "auto",
         "type": "bar",
         "x": [
          "GEORGETOWN UNIVERSITY"
         ],
         "xaxis": "x2",
         "y": [
          0.0017211703958691911
         ],
         "yaxis": "y2"
        },
        {
         "alignmentgroup": "True",
         "hovertemplate": "employment_type=Employed_Undeterminable<br>Year=2017<br>SchoolName=%{x}<br>% of grads=%{y}<extra></extra>",
         "legendgroup": "Employed_Undeterminable",
         "marker": {
          "color": "#FFA15A",
          "pattern": {
           "shape": ""
          }
         },
         "name": "Employed_Undeterminable",
         "offsetgroup": "Employed_Undeterminable",
         "orientation": "v",
         "showlegend": false,
         "textposition": "auto",
         "type": "bar",
         "x": [
          "GEORGETOWN UNIVERSITY"
         ],
         "xaxis": "x3",
         "y": [
          0
         ],
         "yaxis": "y3"
        },
        {
         "alignmentgroup": "True",
         "hovertemplate": "employment_type=Employed_Undeterminable<br>Year=2018<br>SchoolName=%{x}<br>% of grads=%{y}<extra></extra>",
         "legendgroup": "Employed_Undeterminable",
         "marker": {
          "color": "#FFA15A",
          "pattern": {
           "shape": ""
          }
         },
         "name": "Employed_Undeterminable",
         "offsetgroup": "Employed_Undeterminable",
         "orientation": "v",
         "showlegend": false,
         "textposition": "auto",
         "type": "bar",
         "x": [
          "GEORGETOWN UNIVERSITY"
         ],
         "xaxis": "x4",
         "y": [
          0
         ],
         "yaxis": "y4"
        },
        {
         "alignmentgroup": "True",
         "hovertemplate": "employment_type=Employed_Undeterminable<br>Year=2019<br>SchoolName=%{x}<br>% of grads=%{y}<extra></extra>",
         "legendgroup": "Employed_Undeterminable",
         "marker": {
          "color": "#FFA15A",
          "pattern": {
           "shape": ""
          }
         },
         "name": "Employed_Undeterminable",
         "offsetgroup": "Employed_Undeterminable",
         "orientation": "v",
         "showlegend": false,
         "textposition": "auto",
         "type": "bar",
         "x": [
          "GEORGETOWN UNIVERSITY"
         ],
         "xaxis": "x5",
         "y": [
          0
         ],
         "yaxis": "y5"
        },
        {
         "alignmentgroup": "True",
         "hovertemplate": "employment_type=Employed_Undeterminable<br>Year=2020<br>SchoolName=%{x}<br>% of grads=%{y}<extra></extra>",
         "legendgroup": "Employed_Undeterminable",
         "marker": {
          "color": "#FFA15A",
          "pattern": {
           "shape": ""
          }
         },
         "name": "Employed_Undeterminable",
         "offsetgroup": "Employed_Undeterminable",
         "orientation": "v",
         "showlegend": false,
         "textposition": "auto",
         "type": "bar",
         "x": [
          "GEORGETOWN UNIVERSITY"
         ],
         "xaxis": "x6",
         "y": [
          0
         ],
         "yaxis": "y6"
        },
        {
         "alignmentgroup": "True",
         "hovertemplate": "employment_type=Employed_Undeterminable<br>Year=2021<br>SchoolName=%{x}<br>% of grads=%{y}<extra></extra>",
         "legendgroup": "Employed_Undeterminable",
         "marker": {
          "color": "#FFA15A",
          "pattern": {
           "shape": ""
          }
         },
         "name": "Employed_Undeterminable",
         "offsetgroup": "Employed_Undeterminable",
         "orientation": "v",
         "showlegend": false,
         "textposition": "auto",
         "type": "bar",
         "x": [
          "GEORGETOWN UNIVERSITY"
         ],
         "xaxis": "x7",
         "y": [
          0
         ],
         "yaxis": "y7"
        },
        {
         "alignmentgroup": "True",
         "hovertemplate": "employment_type=Employed_by_LawSchool<br>Year=2015<br>SchoolName=%{x}<br>% of grads=%{y}<extra></extra>",
         "legendgroup": "Employed_by_LawSchool",
         "marker": {
          "color": "#19d3f3",
          "pattern": {
           "shape": ""
          }
         },
         "name": "Employed_by_LawSchool",
         "offsetgroup": "Employed_by_LawSchool",
         "orientation": "v",
         "showlegend": true,
         "textposition": "auto",
         "type": "bar",
         "x": [
          "GEORGETOWN UNIVERSITY"
         ],
         "xaxis": "x",
         "y": [
          0
         ],
         "yaxis": "y"
        },
        {
         "alignmentgroup": "True",
         "hovertemplate": "employment_type=Employed_by_LawSchool<br>Year=2016<br>SchoolName=%{x}<br>% of grads=%{y}<extra></extra>",
         "legendgroup": "Employed_by_LawSchool",
         "marker": {
          "color": "#19d3f3",
          "pattern": {
           "shape": ""
          }
         },
         "name": "Employed_by_LawSchool",
         "offsetgroup": "Employed_by_LawSchool",
         "orientation": "v",
         "showlegend": false,
         "textposition": "auto",
         "type": "bar",
         "x": [
          "GEORGETOWN UNIVERSITY"
         ],
         "xaxis": "x2",
         "y": [
          0
         ],
         "yaxis": "y2"
        },
        {
         "alignmentgroup": "True",
         "hovertemplate": "employment_type=Employed_by_LawSchool<br>Year=2017<br>SchoolName=%{x}<br>% of grads=%{y}<extra></extra>",
         "legendgroup": "Employed_by_LawSchool",
         "marker": {
          "color": "#19d3f3",
          "pattern": {
           "shape": ""
          }
         },
         "name": "Employed_by_LawSchool",
         "offsetgroup": "Employed_by_LawSchool",
         "orientation": "v",
         "showlegend": false,
         "textposition": "auto",
         "type": "bar",
         "x": [
          "GEORGETOWN UNIVERSITY"
         ],
         "xaxis": "x3",
         "y": [
          0
         ],
         "yaxis": "y3"
        },
        {
         "alignmentgroup": "True",
         "hovertemplate": "employment_type=Employed_by_LawSchool<br>Year=2018<br>SchoolName=%{x}<br>% of grads=%{y}<extra></extra>",
         "legendgroup": "Employed_by_LawSchool",
         "marker": {
          "color": "#19d3f3",
          "pattern": {
           "shape": ""
          }
         },
         "name": "Employed_by_LawSchool",
         "offsetgroup": "Employed_by_LawSchool",
         "orientation": "v",
         "showlegend": false,
         "textposition": "auto",
         "type": "bar",
         "x": [
          "GEORGETOWN UNIVERSITY"
         ],
         "xaxis": "x4",
         "y": [
          0
         ],
         "yaxis": "y4"
        },
        {
         "alignmentgroup": "True",
         "hovertemplate": "employment_type=Employed_by_LawSchool<br>Year=2019<br>SchoolName=%{x}<br>% of grads=%{y}<extra></extra>",
         "legendgroup": "Employed_by_LawSchool",
         "marker": {
          "color": "#19d3f3",
          "pattern": {
           "shape": ""
          }
         },
         "name": "Employed_by_LawSchool",
         "offsetgroup": "Employed_by_LawSchool",
         "orientation": "v",
         "showlegend": false,
         "textposition": "auto",
         "type": "bar",
         "x": [
          "GEORGETOWN UNIVERSITY"
         ],
         "xaxis": "x5",
         "y": [
          0
         ],
         "yaxis": "y5"
        },
        {
         "alignmentgroup": "True",
         "hovertemplate": "employment_type=Employed_by_LawSchool<br>Year=2020<br>SchoolName=%{x}<br>% of grads=%{y}<extra></extra>",
         "legendgroup": "Employed_by_LawSchool",
         "marker": {
          "color": "#19d3f3",
          "pattern": {
           "shape": ""
          }
         },
         "name": "Employed_by_LawSchool",
         "offsetgroup": "Employed_by_LawSchool",
         "orientation": "v",
         "showlegend": false,
         "textposition": "auto",
         "type": "bar",
         "x": [
          "GEORGETOWN UNIVERSITY"
         ],
         "xaxis": "x6",
         "y": [
          0
         ],
         "yaxis": "y6"
        },
        {
         "alignmentgroup": "True",
         "hovertemplate": "employment_type=Employed_by_LawSchool<br>Year=2021<br>SchoolName=%{x}<br>% of grads=%{y}<extra></extra>",
         "legendgroup": "Employed_by_LawSchool",
         "marker": {
          "color": "#19d3f3",
          "pattern": {
           "shape": ""
          }
         },
         "name": "Employed_by_LawSchool",
         "offsetgroup": "Employed_by_LawSchool",
         "orientation": "v",
         "showlegend": false,
         "textposition": "auto",
         "type": "bar",
         "x": [
          "GEORGETOWN UNIVERSITY"
         ],
         "xaxis": "x7",
         "y": [
          0
         ],
         "yaxis": "y7"
        },
        {
         "alignmentgroup": "True",
         "hovertemplate": "employment_type=EnrolledInGraduateStudies<br>Year=2015<br>SchoolName=%{x}<br>% of grads=%{y}<extra></extra>",
         "legendgroup": "EnrolledInGraduateStudies",
         "marker": {
          "color": "#FF6692",
          "pattern": {
           "shape": ""
          }
         },
         "name": "EnrolledInGraduateStudies",
         "offsetgroup": "EnrolledInGraduateStudies",
         "orientation": "v",
         "showlegend": true,
         "textposition": "auto",
         "type": "bar",
         "x": [
          "GEORGETOWN UNIVERSITY"
         ],
         "xaxis": "x",
         "y": [
          0.006920415224913495
         ],
         "yaxis": "y"
        },
        {
         "alignmentgroup": "True",
         "hovertemplate": "employment_type=EnrolledInGraduateStudies<br>Year=2016<br>SchoolName=%{x}<br>% of grads=%{y}<extra></extra>",
         "legendgroup": "EnrolledInGraduateStudies",
         "marker": {
          "color": "#FF6692",
          "pattern": {
           "shape": ""
          }
         },
         "name": "EnrolledInGraduateStudies",
         "offsetgroup": "EnrolledInGraduateStudies",
         "orientation": "v",
         "showlegend": false,
         "textposition": "auto",
         "type": "bar",
         "x": [
          "GEORGETOWN UNIVERSITY"
         ],
         "xaxis": "x2",
         "y": [
          0.008605851979345954
         ],
         "yaxis": "y2"
        },
        {
         "alignmentgroup": "True",
         "hovertemplate": "employment_type=EnrolledInGraduateStudies<br>Year=2017<br>SchoolName=%{x}<br>% of grads=%{y}<extra></extra>",
         "legendgroup": "EnrolledInGraduateStudies",
         "marker": {
          "color": "#FF6692",
          "pattern": {
           "shape": ""
          }
         },
         "name": "EnrolledInGraduateStudies",
         "offsetgroup": "EnrolledInGraduateStudies",
         "orientation": "v",
         "showlegend": false,
         "textposition": "auto",
         "type": "bar",
         "x": [
          "GEORGETOWN UNIVERSITY"
         ],
         "xaxis": "x3",
         "y": [
          0.01517706576728499
         ],
         "yaxis": "y3"
        },
        {
         "alignmentgroup": "True",
         "hovertemplate": "employment_type=EnrolledInGraduateStudies<br>Year=2018<br>SchoolName=%{x}<br>% of grads=%{y}<extra></extra>",
         "legendgroup": "EnrolledInGraduateStudies",
         "marker": {
          "color": "#FF6692",
          "pattern": {
           "shape": ""
          }
         },
         "name": "EnrolledInGraduateStudies",
         "offsetgroup": "EnrolledInGraduateStudies",
         "orientation": "v",
         "showlegend": false,
         "textposition": "auto",
         "type": "bar",
         "x": [
          "GEORGETOWN UNIVERSITY"
         ],
         "xaxis": "x4",
         "y": [
          0.013223140495867768
         ],
         "yaxis": "y4"
        },
        {
         "alignmentgroup": "True",
         "hovertemplate": "employment_type=EnrolledInGraduateStudies<br>Year=2019<br>SchoolName=%{x}<br>% of grads=%{y}<extra></extra>",
         "legendgroup": "EnrolledInGraduateStudies",
         "marker": {
          "color": "#FF6692",
          "pattern": {
           "shape": ""
          }
         },
         "name": "EnrolledInGraduateStudies",
         "offsetgroup": "EnrolledInGraduateStudies",
         "orientation": "v",
         "showlegend": false,
         "textposition": "auto",
         "type": "bar",
         "x": [
          "GEORGETOWN UNIVERSITY"
         ],
         "xaxis": "x5",
         "y": [
          0.014586709886547812
         ],
         "yaxis": "y5"
        },
        {
         "alignmentgroup": "True",
         "hovertemplate": "employment_type=EnrolledInGraduateStudies<br>Year=2020<br>SchoolName=%{x}<br>% of grads=%{y}<extra></extra>",
         "legendgroup": "EnrolledInGraduateStudies",
         "marker": {
          "color": "#FF6692",
          "pattern": {
           "shape": ""
          }
         },
         "name": "EnrolledInGraduateStudies",
         "offsetgroup": "EnrolledInGraduateStudies",
         "orientation": "v",
         "showlegend": false,
         "textposition": "auto",
         "type": "bar",
         "x": [
          "GEORGETOWN UNIVERSITY"
         ],
         "xaxis": "x6",
         "y": [
          0.009244992295839754
         ],
         "yaxis": "y6"
        },
        {
         "alignmentgroup": "True",
         "hovertemplate": "employment_type=EnrolledInGraduateStudies<br>Year=2021<br>SchoolName=%{x}<br>% of grads=%{y}<extra></extra>",
         "legendgroup": "EnrolledInGraduateStudies",
         "marker": {
          "color": "#FF6692",
          "pattern": {
           "shape": ""
          }
         },
         "name": "EnrolledInGraduateStudies",
         "offsetgroup": "EnrolledInGraduateStudies",
         "orientation": "v",
         "showlegend": false,
         "textposition": "auto",
         "type": "bar",
         "x": [
          "GEORGETOWN UNIVERSITY"
         ],
         "xaxis": "x7",
         "y": [
          0.004724409448818898
         ],
         "yaxis": "y7"
        },
        {
         "alignmentgroup": "True",
         "hovertemplate": "employment_type=Unemployed<br>Year=2015<br>SchoolName=%{x}<br>% of grads=%{y}<extra></extra>",
         "legendgroup": "Unemployed",
         "marker": {
          "color": "#B6E880",
          "pattern": {
           "shape": ""
          }
         },
         "name": "Unemployed",
         "offsetgroup": "Unemployed",
         "orientation": "v",
         "showlegend": true,
         "textposition": "auto",
         "type": "bar",
         "x": [
          "GEORGETOWN UNIVERSITY"
         ],
         "xaxis": "x",
         "y": [
          0.0847750865051903
         ],
         "yaxis": "y"
        },
        {
         "alignmentgroup": "True",
         "hovertemplate": "employment_type=Unemployed<br>Year=2016<br>SchoolName=%{x}<br>% of grads=%{y}<extra></extra>",
         "legendgroup": "Unemployed",
         "marker": {
          "color": "#B6E880",
          "pattern": {
           "shape": ""
          }
         },
         "name": "Unemployed",
         "offsetgroup": "Unemployed",
         "orientation": "v",
         "showlegend": false,
         "textposition": "auto",
         "type": "bar",
         "x": [
          "GEORGETOWN UNIVERSITY"
         ],
         "xaxis": "x2",
         "y": [
          0.060240963855421686
         ],
         "yaxis": "y2"
        },
        {
         "alignmentgroup": "True",
         "hovertemplate": "employment_type=Unemployed<br>Year=2017<br>SchoolName=%{x}<br>% of grads=%{y}<extra></extra>",
         "legendgroup": "Unemployed",
         "marker": {
          "color": "#B6E880",
          "pattern": {
           "shape": ""
          }
         },
         "name": "Unemployed",
         "offsetgroup": "Unemployed",
         "orientation": "v",
         "showlegend": false,
         "textposition": "auto",
         "type": "bar",
         "x": [
          "GEORGETOWN UNIVERSITY"
         ],
         "xaxis": "x3",
         "y": [
          0.048903878583473864
         ],
         "yaxis": "y3"
        },
        {
         "alignmentgroup": "True",
         "hovertemplate": "employment_type=Unemployed<br>Year=2018<br>SchoolName=%{x}<br>% of grads=%{y}<extra></extra>",
         "legendgroup": "Unemployed",
         "marker": {
          "color": "#B6E880",
          "pattern": {
           "shape": ""
          }
         },
         "name": "Unemployed",
         "offsetgroup": "Unemployed",
         "orientation": "v",
         "showlegend": false,
         "textposition": "auto",
         "type": "bar",
         "x": [
          "GEORGETOWN UNIVERSITY"
         ],
         "xaxis": "x4",
         "y": [
          0.03636363636363636
         ],
         "yaxis": "y4"
        },
        {
         "alignmentgroup": "True",
         "hovertemplate": "employment_type=Unemployed<br>Year=2019<br>SchoolName=%{x}<br>% of grads=%{y}<extra></extra>",
         "legendgroup": "Unemployed",
         "marker": {
          "color": "#B6E880",
          "pattern": {
           "shape": ""
          }
         },
         "name": "Unemployed",
         "offsetgroup": "Unemployed",
         "orientation": "v",
         "showlegend": false,
         "textposition": "auto",
         "type": "bar",
         "x": [
          "GEORGETOWN UNIVERSITY"
         ],
         "xaxis": "x5",
         "y": [
          0.03241491085899514
         ],
         "yaxis": "y5"
        },
        {
         "alignmentgroup": "True",
         "hovertemplate": "employment_type=Unemployed<br>Year=2020<br>SchoolName=%{x}<br>% of grads=%{y}<extra></extra>",
         "legendgroup": "Unemployed",
         "marker": {
          "color": "#B6E880",
          "pattern": {
           "shape": ""
          }
         },
         "name": "Unemployed",
         "offsetgroup": "Unemployed",
         "orientation": "v",
         "showlegend": false,
         "textposition": "auto",
         "type": "bar",
         "x": [
          "GEORGETOWN UNIVERSITY"
         ],
         "xaxis": "x6",
         "y": [
          0.05238828967642527
         ],
         "yaxis": "y6"
        },
        {
         "alignmentgroup": "True",
         "hovertemplate": "employment_type=Unemployed<br>Year=2021<br>SchoolName=%{x}<br>% of grads=%{y}<extra></extra>",
         "legendgroup": "Unemployed",
         "marker": {
          "color": "#B6E880",
          "pattern": {
           "shape": ""
          }
         },
         "name": "Unemployed",
         "offsetgroup": "Unemployed",
         "orientation": "v",
         "showlegend": false,
         "textposition": "auto",
         "type": "bar",
         "x": [
          "GEORGETOWN UNIVERSITY"
         ],
         "xaxis": "x7",
         "y": [
          0.03779527559055118
         ],
         "yaxis": "y7"
        },
        {
         "alignmentgroup": "True",
         "hovertemplate": "employment_type=status_Unknown<br>Year=2015<br>SchoolName=%{x}<br>% of grads=%{y}<extra></extra>",
         "legendgroup": "status_Unknown",
         "marker": {
          "color": "#FF97FF",
          "pattern": {
           "shape": ""
          }
         },
         "name": "status_Unknown",
         "offsetgroup": "status_Unknown",
         "orientation": "v",
         "showlegend": true,
         "textposition": "auto",
         "type": "bar",
         "x": [
          "GEORGETOWN UNIVERSITY"
         ],
         "xaxis": "x",
         "y": [
          0
         ],
         "yaxis": "y"
        },
        {
         "alignmentgroup": "True",
         "hovertemplate": "employment_type=status_Unknown<br>Year=2016<br>SchoolName=%{x}<br>% of grads=%{y}<extra></extra>",
         "legendgroup": "status_Unknown",
         "marker": {
          "color": "#FF97FF",
          "pattern": {
           "shape": ""
          }
         },
         "name": "status_Unknown",
         "offsetgroup": "status_Unknown",
         "orientation": "v",
         "showlegend": false,
         "textposition": "auto",
         "type": "bar",
         "x": [
          "GEORGETOWN UNIVERSITY"
         ],
         "xaxis": "x2",
         "y": [
          0
         ],
         "yaxis": "y2"
        },
        {
         "alignmentgroup": "True",
         "hovertemplate": "employment_type=status_Unknown<br>Year=2017<br>SchoolName=%{x}<br>% of grads=%{y}<extra></extra>",
         "legendgroup": "status_Unknown",
         "marker": {
          "color": "#FF97FF",
          "pattern": {
           "shape": ""
          }
         },
         "name": "status_Unknown",
         "offsetgroup": "status_Unknown",
         "orientation": "v",
         "showlegend": false,
         "textposition": "auto",
         "type": "bar",
         "x": [
          "GEORGETOWN UNIVERSITY"
         ],
         "xaxis": "x3",
         "y": [
          0
         ],
         "yaxis": "y3"
        },
        {
         "alignmentgroup": "True",
         "hovertemplate": "employment_type=status_Unknown<br>Year=2018<br>SchoolName=%{x}<br>% of grads=%{y}<extra></extra>",
         "legendgroup": "status_Unknown",
         "marker": {
          "color": "#FF97FF",
          "pattern": {
           "shape": ""
          }
         },
         "name": "status_Unknown",
         "offsetgroup": "status_Unknown",
         "orientation": "v",
         "showlegend": false,
         "textposition": "auto",
         "type": "bar",
         "x": [
          "GEORGETOWN UNIVERSITY"
         ],
         "xaxis": "x4",
         "y": [
          0
         ],
         "yaxis": "y4"
        },
        {
         "alignmentgroup": "True",
         "hovertemplate": "employment_type=status_Unknown<br>Year=2019<br>SchoolName=%{x}<br>% of grads=%{y}<extra></extra>",
         "legendgroup": "status_Unknown",
         "marker": {
          "color": "#FF97FF",
          "pattern": {
           "shape": ""
          }
         },
         "name": "status_Unknown",
         "offsetgroup": "status_Unknown",
         "orientation": "v",
         "showlegend": false,
         "textposition": "auto",
         "type": "bar",
         "x": [
          "GEORGETOWN UNIVERSITY"
         ],
         "xaxis": "x5",
         "y": [
          0
         ],
         "yaxis": "y5"
        },
        {
         "alignmentgroup": "True",
         "hovertemplate": "employment_type=status_Unknown<br>Year=2020<br>SchoolName=%{x}<br>% of grads=%{y}<extra></extra>",
         "legendgroup": "status_Unknown",
         "marker": {
          "color": "#FF97FF",
          "pattern": {
           "shape": ""
          }
         },
         "name": "status_Unknown",
         "offsetgroup": "status_Unknown",
         "orientation": "v",
         "showlegend": false,
         "textposition": "auto",
         "type": "bar",
         "x": [
          "GEORGETOWN UNIVERSITY"
         ],
         "xaxis": "x6",
         "y": [
          0
         ],
         "yaxis": "y6"
        },
        {
         "alignmentgroup": "True",
         "hovertemplate": "employment_type=status_Unknown<br>Year=2021<br>SchoolName=%{x}<br>% of grads=%{y}<extra></extra>",
         "legendgroup": "status_Unknown",
         "marker": {
          "color": "#FF97FF",
          "pattern": {
           "shape": ""
          }
         },
         "name": "status_Unknown",
         "offsetgroup": "status_Unknown",
         "orientation": "v",
         "showlegend": false,
         "textposition": "auto",
         "type": "bar",
         "x": [
          "GEORGETOWN UNIVERSITY"
         ],
         "xaxis": "x7",
         "y": [
          0
         ],
         "yaxis": "y7"
        }
       ],
       "layout": {
        "annotations": [
         {
          "font": {},
          "showarrow": false,
          "text": "Year=2015",
          "x": 0.06285714285714285,
          "xanchor": "center",
          "xref": "paper",
          "y": 1,
          "yanchor": "bottom",
          "yref": "paper"
         },
         {
          "font": {},
          "showarrow": false,
          "text": "Year=2016",
          "x": 0.20857142857142852,
          "xanchor": "center",
          "xref": "paper",
          "y": 1,
          "yanchor": "bottom",
          "yref": "paper"
         },
         {
          "font": {},
          "showarrow": false,
          "text": "Year=2017",
          "x": 0.3542857142857142,
          "xanchor": "center",
          "xref": "paper",
          "y": 1,
          "yanchor": "bottom",
          "yref": "paper"
         },
         {
          "font": {},
          "showarrow": false,
          "text": "Year=2018",
          "x": 0.5,
          "xanchor": "center",
          "xref": "paper",
          "y": 1,
          "yanchor": "bottom",
          "yref": "paper"
         },
         {
          "font": {},
          "showarrow": false,
          "text": "Year=2019",
          "x": 0.6457142857142856,
          "xanchor": "center",
          "xref": "paper",
          "y": 1,
          "yanchor": "bottom",
          "yref": "paper"
         },
         {
          "font": {},
          "showarrow": false,
          "text": "Year=2020",
          "x": 0.7914285714285713,
          "xanchor": "center",
          "xref": "paper",
          "y": 1,
          "yanchor": "bottom",
          "yref": "paper"
         },
         {
          "font": {},
          "showarrow": false,
          "text": "Year=2021",
          "x": 0.9371428571428569,
          "xanchor": "center",
          "xref": "paper",
          "y": 1,
          "yanchor": "bottom",
          "yref": "paper"
         }
        ],
        "barmode": "relative",
        "legend": {
         "title": {
          "text": "employment_type"
         },
         "tracegroupgap": 0
        },
        "margin": {
         "t": 60
        },
        "template": {
         "data": {
          "bar": [
           {
            "error_x": {
             "color": "#2a3f5f"
            },
            "error_y": {
             "color": "#2a3f5f"
            },
            "marker": {
             "line": {
              "color": "#E5ECF6",
              "width": 0.5
             },
             "pattern": {
              "fillmode": "overlay",
              "size": 10,
              "solidity": 0.2
             }
            },
            "type": "bar"
           }
          ],
          "barpolar": [
           {
            "marker": {
             "line": {
              "color": "#E5ECF6",
              "width": 0.5
             },
             "pattern": {
              "fillmode": "overlay",
              "size": 10,
              "solidity": 0.2
             }
            },
            "type": "barpolar"
           }
          ],
          "carpet": [
           {
            "aaxis": {
             "endlinecolor": "#2a3f5f",
             "gridcolor": "white",
             "linecolor": "white",
             "minorgridcolor": "white",
             "startlinecolor": "#2a3f5f"
            },
            "baxis": {
             "endlinecolor": "#2a3f5f",
             "gridcolor": "white",
             "linecolor": "white",
             "minorgridcolor": "white",
             "startlinecolor": "#2a3f5f"
            },
            "type": "carpet"
           }
          ],
          "choropleth": [
           {
            "colorbar": {
             "outlinewidth": 0,
             "ticks": ""
            },
            "type": "choropleth"
           }
          ],
          "contour": [
           {
            "colorbar": {
             "outlinewidth": 0,
             "ticks": ""
            },
            "colorscale": [
             [
              0,
              "#0d0887"
             ],
             [
              0.1111111111111111,
              "#46039f"
             ],
             [
              0.2222222222222222,
              "#7201a8"
             ],
             [
              0.3333333333333333,
              "#9c179e"
             ],
             [
              0.4444444444444444,
              "#bd3786"
             ],
             [
              0.5555555555555556,
              "#d8576b"
             ],
             [
              0.6666666666666666,
              "#ed7953"
             ],
             [
              0.7777777777777778,
              "#fb9f3a"
             ],
             [
              0.8888888888888888,
              "#fdca26"
             ],
             [
              1,
              "#f0f921"
             ]
            ],
            "type": "contour"
           }
          ],
          "contourcarpet": [
           {
            "colorbar": {
             "outlinewidth": 0,
             "ticks": ""
            },
            "type": "contourcarpet"
           }
          ],
          "heatmap": [
           {
            "colorbar": {
             "outlinewidth": 0,
             "ticks": ""
            },
            "colorscale": [
             [
              0,
              "#0d0887"
             ],
             [
              0.1111111111111111,
              "#46039f"
             ],
             [
              0.2222222222222222,
              "#7201a8"
             ],
             [
              0.3333333333333333,
              "#9c179e"
             ],
             [
              0.4444444444444444,
              "#bd3786"
             ],
             [
              0.5555555555555556,
              "#d8576b"
             ],
             [
              0.6666666666666666,
              "#ed7953"
             ],
             [
              0.7777777777777778,
              "#fb9f3a"
             ],
             [
              0.8888888888888888,
              "#fdca26"
             ],
             [
              1,
              "#f0f921"
             ]
            ],
            "type": "heatmap"
           }
          ],
          "heatmapgl": [
           {
            "colorbar": {
             "outlinewidth": 0,
             "ticks": ""
            },
            "colorscale": [
             [
              0,
              "#0d0887"
             ],
             [
              0.1111111111111111,
              "#46039f"
             ],
             [
              0.2222222222222222,
              "#7201a8"
             ],
             [
              0.3333333333333333,
              "#9c179e"
             ],
             [
              0.4444444444444444,
              "#bd3786"
             ],
             [
              0.5555555555555556,
              "#d8576b"
             ],
             [
              0.6666666666666666,
              "#ed7953"
             ],
             [
              0.7777777777777778,
              "#fb9f3a"
             ],
             [
              0.8888888888888888,
              "#fdca26"
             ],
             [
              1,
              "#f0f921"
             ]
            ],
            "type": "heatmapgl"
           }
          ],
          "histogram": [
           {
            "marker": {
             "pattern": {
              "fillmode": "overlay",
              "size": 10,
              "solidity": 0.2
             }
            },
            "type": "histogram"
           }
          ],
          "histogram2d": [
           {
            "colorbar": {
             "outlinewidth": 0,
             "ticks": ""
            },
            "colorscale": [
             [
              0,
              "#0d0887"
             ],
             [
              0.1111111111111111,
              "#46039f"
             ],
             [
              0.2222222222222222,
              "#7201a8"
             ],
             [
              0.3333333333333333,
              "#9c179e"
             ],
             [
              0.4444444444444444,
              "#bd3786"
             ],
             [
              0.5555555555555556,
              "#d8576b"
             ],
             [
              0.6666666666666666,
              "#ed7953"
             ],
             [
              0.7777777777777778,
              "#fb9f3a"
             ],
             [
              0.8888888888888888,
              "#fdca26"
             ],
             [
              1,
              "#f0f921"
             ]
            ],
            "type": "histogram2d"
           }
          ],
          "histogram2dcontour": [
           {
            "colorbar": {
             "outlinewidth": 0,
             "ticks": ""
            },
            "colorscale": [
             [
              0,
              "#0d0887"
             ],
             [
              0.1111111111111111,
              "#46039f"
             ],
             [
              0.2222222222222222,
              "#7201a8"
             ],
             [
              0.3333333333333333,
              "#9c179e"
             ],
             [
              0.4444444444444444,
              "#bd3786"
             ],
             [
              0.5555555555555556,
              "#d8576b"
             ],
             [
              0.6666666666666666,
              "#ed7953"
             ],
             [
              0.7777777777777778,
              "#fb9f3a"
             ],
             [
              0.8888888888888888,
              "#fdca26"
             ],
             [
              1,
              "#f0f921"
             ]
            ],
            "type": "histogram2dcontour"
           }
          ],
          "mesh3d": [
           {
            "colorbar": {
             "outlinewidth": 0,
             "ticks": ""
            },
            "type": "mesh3d"
           }
          ],
          "parcoords": [
           {
            "line": {
             "colorbar": {
              "outlinewidth": 0,
              "ticks": ""
             }
            },
            "type": "parcoords"
           }
          ],
          "pie": [
           {
            "automargin": true,
            "type": "pie"
           }
          ],
          "scatter": [
           {
            "fillpattern": {
             "fillmode": "overlay",
             "size": 10,
             "solidity": 0.2
            },
            "type": "scatter"
           }
          ],
          "scatter3d": [
           {
            "line": {
             "colorbar": {
              "outlinewidth": 0,
              "ticks": ""
             }
            },
            "marker": {
             "colorbar": {
              "outlinewidth": 0,
              "ticks": ""
             }
            },
            "type": "scatter3d"
           }
          ],
          "scattercarpet": [
           {
            "marker": {
             "colorbar": {
              "outlinewidth": 0,
              "ticks": ""
             }
            },
            "type": "scattercarpet"
           }
          ],
          "scattergeo": [
           {
            "marker": {
             "colorbar": {
              "outlinewidth": 0,
              "ticks": ""
             }
            },
            "type": "scattergeo"
           }
          ],
          "scattergl": [
           {
            "marker": {
             "colorbar": {
              "outlinewidth": 0,
              "ticks": ""
             }
            },
            "type": "scattergl"
           }
          ],
          "scattermapbox": [
           {
            "marker": {
             "colorbar": {
              "outlinewidth": 0,
              "ticks": ""
             }
            },
            "type": "scattermapbox"
           }
          ],
          "scatterpolar": [
           {
            "marker": {
             "colorbar": {
              "outlinewidth": 0,
              "ticks": ""
             }
            },
            "type": "scatterpolar"
           }
          ],
          "scatterpolargl": [
           {
            "marker": {
             "colorbar": {
              "outlinewidth": 0,
              "ticks": ""
             }
            },
            "type": "scatterpolargl"
           }
          ],
          "scatterternary": [
           {
            "marker": {
             "colorbar": {
              "outlinewidth": 0,
              "ticks": ""
             }
            },
            "type": "scatterternary"
           }
          ],
          "surface": [
           {
            "colorbar": {
             "outlinewidth": 0,
             "ticks": ""
            },
            "colorscale": [
             [
              0,
              "#0d0887"
             ],
             [
              0.1111111111111111,
              "#46039f"
             ],
             [
              0.2222222222222222,
              "#7201a8"
             ],
             [
              0.3333333333333333,
              "#9c179e"
             ],
             [
              0.4444444444444444,
              "#bd3786"
             ],
             [
              0.5555555555555556,
              "#d8576b"
             ],
             [
              0.6666666666666666,
              "#ed7953"
             ],
             [
              0.7777777777777778,
              "#fb9f3a"
             ],
             [
              0.8888888888888888,
              "#fdca26"
             ],
             [
              1,
              "#f0f921"
             ]
            ],
            "type": "surface"
           }
          ],
          "table": [
           {
            "cells": {
             "fill": {
              "color": "#EBF0F8"
             },
             "line": {
              "color": "white"
             }
            },
            "header": {
             "fill": {
              "color": "#C8D4E3"
             },
             "line": {
              "color": "white"
             }
            },
            "type": "table"
           }
          ]
         },
         "layout": {
          "annotationdefaults": {
           "arrowcolor": "#2a3f5f",
           "arrowhead": 0,
           "arrowwidth": 1
          },
          "autotypenumbers": "strict",
          "coloraxis": {
           "colorbar": {
            "outlinewidth": 0,
            "ticks": ""
           }
          },
          "colorscale": {
           "diverging": [
            [
             0,
             "#8e0152"
            ],
            [
             0.1,
             "#c51b7d"
            ],
            [
             0.2,
             "#de77ae"
            ],
            [
             0.3,
             "#f1b6da"
            ],
            [
             0.4,
             "#fde0ef"
            ],
            [
             0.5,
             "#f7f7f7"
            ],
            [
             0.6,
             "#e6f5d0"
            ],
            [
             0.7,
             "#b8e186"
            ],
            [
             0.8,
             "#7fbc41"
            ],
            [
             0.9,
             "#4d9221"
            ],
            [
             1,
             "#276419"
            ]
           ],
           "sequential": [
            [
             0,
             "#0d0887"
            ],
            [
             0.1111111111111111,
             "#46039f"
            ],
            [
             0.2222222222222222,
             "#7201a8"
            ],
            [
             0.3333333333333333,
             "#9c179e"
            ],
            [
             0.4444444444444444,
             "#bd3786"
            ],
            [
             0.5555555555555556,
             "#d8576b"
            ],
            [
             0.6666666666666666,
             "#ed7953"
            ],
            [
             0.7777777777777778,
             "#fb9f3a"
            ],
            [
             0.8888888888888888,
             "#fdca26"
            ],
            [
             1,
             "#f0f921"
            ]
           ],
           "sequentialminus": [
            [
             0,
             "#0d0887"
            ],
            [
             0.1111111111111111,
             "#46039f"
            ],
            [
             0.2222222222222222,
             "#7201a8"
            ],
            [
             0.3333333333333333,
             "#9c179e"
            ],
            [
             0.4444444444444444,
             "#bd3786"
            ],
            [
             0.5555555555555556,
             "#d8576b"
            ],
            [
             0.6666666666666666,
             "#ed7953"
            ],
            [
             0.7777777777777778,
             "#fb9f3a"
            ],
            [
             0.8888888888888888,
             "#fdca26"
            ],
            [
             1,
             "#f0f921"
            ]
           ]
          },
          "colorway": [
           "#636efa",
           "#EF553B",
           "#00cc96",
           "#ab63fa",
           "#FFA15A",
           "#19d3f3",
           "#FF6692",
           "#B6E880",
           "#FF97FF",
           "#FECB52"
          ],
          "font": {
           "color": "#2a3f5f"
          },
          "geo": {
           "bgcolor": "white",
           "lakecolor": "white",
           "landcolor": "#E5ECF6",
           "showlakes": true,
           "showland": true,
           "subunitcolor": "white"
          },
          "hoverlabel": {
           "align": "left"
          },
          "hovermode": "closest",
          "mapbox": {
           "style": "light"
          },
          "paper_bgcolor": "white",
          "plot_bgcolor": "#E5ECF6",
          "polar": {
           "angularaxis": {
            "gridcolor": "white",
            "linecolor": "white",
            "ticks": ""
           },
           "bgcolor": "#E5ECF6",
           "radialaxis": {
            "gridcolor": "white",
            "linecolor": "white",
            "ticks": ""
           }
          },
          "scene": {
           "xaxis": {
            "backgroundcolor": "#E5ECF6",
            "gridcolor": "white",
            "gridwidth": 2,
            "linecolor": "white",
            "showbackground": true,
            "ticks": "",
            "zerolinecolor": "white"
           },
           "yaxis": {
            "backgroundcolor": "#E5ECF6",
            "gridcolor": "white",
            "gridwidth": 2,
            "linecolor": "white",
            "showbackground": true,
            "ticks": "",
            "zerolinecolor": "white"
           },
           "zaxis": {
            "backgroundcolor": "#E5ECF6",
            "gridcolor": "white",
            "gridwidth": 2,
            "linecolor": "white",
            "showbackground": true,
            "ticks": "",
            "zerolinecolor": "white"
           }
          },
          "shapedefaults": {
           "line": {
            "color": "#2a3f5f"
           }
          },
          "ternary": {
           "aaxis": {
            "gridcolor": "white",
            "linecolor": "white",
            "ticks": ""
           },
           "baxis": {
            "gridcolor": "white",
            "linecolor": "white",
            "ticks": ""
           },
           "bgcolor": "#E5ECF6",
           "caxis": {
            "gridcolor": "white",
            "linecolor": "white",
            "ticks": ""
           }
          },
          "title": {
           "x": 0.05
          },
          "xaxis": {
           "automargin": true,
           "gridcolor": "white",
           "linecolor": "white",
           "ticks": "",
           "title": {
            "standoff": 15
           },
           "zerolinecolor": "white",
           "zerolinewidth": 2
          },
          "yaxis": {
           "automargin": true,
           "gridcolor": "white",
           "linecolor": "white",
           "ticks": "",
           "title": {
            "standoff": 15
           },
           "zerolinecolor": "white",
           "zerolinewidth": 2
          }
         }
        },
        "xaxis": {
         "anchor": "y",
         "domain": [
          0,
          0.1257142857142857
         ],
         "title": {
          "text": "SchoolName"
         }
        },
        "xaxis2": {
         "anchor": "y2",
         "domain": [
          0.14571428571428569,
          0.27142857142857135
         ],
         "matches": "x",
         "title": {
          "text": "SchoolName"
         }
        },
        "xaxis3": {
         "anchor": "y3",
         "domain": [
          0.29142857142857137,
          0.41714285714285704
         ],
         "matches": "x",
         "title": {
          "text": "SchoolName"
         }
        },
        "xaxis4": {
         "anchor": "y4",
         "domain": [
          0.4371428571428571,
          0.5628571428571428
         ],
         "matches": "x",
         "title": {
          "text": "SchoolName"
         }
        },
        "xaxis5": {
         "anchor": "y5",
         "domain": [
          0.5828571428571427,
          0.7085714285714284
         ],
         "matches": "x",
         "title": {
          "text": "SchoolName"
         }
        },
        "xaxis6": {
         "anchor": "y6",
         "domain": [
          0.7285714285714284,
          0.8542857142857141
         ],
         "matches": "x",
         "title": {
          "text": "SchoolName"
         }
        },
        "xaxis7": {
         "anchor": "y7",
         "domain": [
          0.8742857142857141,
          0.9999999999999998
         ],
         "matches": "x",
         "title": {
          "text": "SchoolName"
         }
        },
        "yaxis": {
         "anchor": "x",
         "domain": [
          0,
          1
         ],
         "title": {
          "text": "% of grads"
         }
        },
        "yaxis2": {
         "anchor": "x2",
         "domain": [
          0,
          1
         ],
         "matches": "y",
         "showticklabels": false
        },
        "yaxis3": {
         "anchor": "x3",
         "domain": [
          0,
          1
         ],
         "matches": "y",
         "showticklabels": false
        },
        "yaxis4": {
         "anchor": "x4",
         "domain": [
          0,
          1
         ],
         "matches": "y",
         "showticklabels": false
        },
        "yaxis5": {
         "anchor": "x5",
         "domain": [
          0,
          1
         ],
         "matches": "y",
         "showticklabels": false
        },
        "yaxis6": {
         "anchor": "x6",
         "domain": [
          0,
          1
         ],
         "matches": "y",
         "showticklabels": false
        },
        "yaxis7": {
         "anchor": "x7",
         "domain": [
          0,
          1
         ],
         "matches": "y",
         "showticklabels": false
        }
       }
      },
      "text/html": [
       "<div>                            <div id=\"e3060be3-9a10-4ecc-a0d5-68f87b0593ba\" class=\"plotly-graph-div\" style=\"height:525px; width:100%;\"></div>            <script type=\"text/javascript\">                require([\"plotly\"], function(Plotly) {                    window.PLOTLYENV=window.PLOTLYENV || {};                                    if (document.getElementById(\"e3060be3-9a10-4ecc-a0d5-68f87b0593ba\")) {                    Plotly.newPlot(                        \"e3060be3-9a10-4ecc-a0d5-68f87b0593ba\",                        [{\"alignmentgroup\":\"True\",\"hovertemplate\":\"employment_type=Employed_BarPassageRequired<br>Year=2015<br>SchoolName=%{x}<br>% of grads=%{y}<extra></extra>\",\"legendgroup\":\"Employed_BarPassageRequired\",\"marker\":{\"color\":\"#636efa\",\"pattern\":{\"shape\":\"\"}},\"name\":\"Employed_BarPassageRequired\",\"offsetgroup\":\"Employed_BarPassageRequired\",\"orientation\":\"v\",\"showlegend\":true,\"textposition\":\"auto\",\"x\":[\"GEORGETOWN UNIVERSITY\"],\"xaxis\":\"x\",\"y\":[0.8027681660899654],\"yaxis\":\"y\",\"type\":\"bar\"},{\"alignmentgroup\":\"True\",\"hovertemplate\":\"employment_type=Employed_BarPassageRequired<br>Year=2016<br>SchoolName=%{x}<br>% of grads=%{y}<extra></extra>\",\"legendgroup\":\"Employed_BarPassageRequired\",\"marker\":{\"color\":\"#636efa\",\"pattern\":{\"shape\":\"\"}},\"name\":\"Employed_BarPassageRequired\",\"offsetgroup\":\"Employed_BarPassageRequired\",\"orientation\":\"v\",\"showlegend\":false,\"textposition\":\"auto\",\"x\":[\"GEORGETOWN UNIVERSITY\"],\"xaxis\":\"x2\",\"y\":[0.8382099827882961],\"yaxis\":\"y2\",\"type\":\"bar\"},{\"alignmentgroup\":\"True\",\"hovertemplate\":\"employment_type=Employed_BarPassageRequired<br>Year=2017<br>SchoolName=%{x}<br>% of grads=%{y}<extra></extra>\",\"legendgroup\":\"Employed_BarPassageRequired\",\"marker\":{\"color\":\"#636efa\",\"pattern\":{\"shape\":\"\"}},\"name\":\"Employed_BarPassageRequired\",\"offsetgroup\":\"Employed_BarPassageRequired\",\"orientation\":\"v\",\"showlegend\":false,\"textposition\":\"auto\",\"x\":[\"GEORGETOWN UNIVERSITY\"],\"xaxis\":\"x3\",\"y\":[0.8549747048903878],\"yaxis\":\"y3\",\"type\":\"bar\"},{\"alignmentgroup\":\"True\",\"hovertemplate\":\"employment_type=Employed_BarPassageRequired<br>Year=2018<br>SchoolName=%{x}<br>% of grads=%{y}<extra></extra>\",\"legendgroup\":\"Employed_BarPassageRequired\",\"marker\":{\"color\":\"#636efa\",\"pattern\":{\"shape\":\"\"}},\"name\":\"Employed_BarPassageRequired\",\"offsetgroup\":\"Employed_BarPassageRequired\",\"orientation\":\"v\",\"showlegend\":false,\"textposition\":\"auto\",\"x\":[\"GEORGETOWN UNIVERSITY\"],\"xaxis\":\"x4\",\"y\":[0.8826446280991735],\"yaxis\":\"y4\",\"type\":\"bar\"},{\"alignmentgroup\":\"True\",\"hovertemplate\":\"employment_type=Employed_BarPassageRequired<br>Year=2019<br>SchoolName=%{x}<br>% of grads=%{y}<extra></extra>\",\"legendgroup\":\"Employed_BarPassageRequired\",\"marker\":{\"color\":\"#636efa\",\"pattern\":{\"shape\":\"\"}},\"name\":\"Employed_BarPassageRequired\",\"offsetgroup\":\"Employed_BarPassageRequired\",\"orientation\":\"v\",\"showlegend\":false,\"textposition\":\"auto\",\"x\":[\"GEORGETOWN UNIVERSITY\"],\"xaxis\":\"x5\",\"y\":[0.8865478119935171],\"yaxis\":\"y5\",\"type\":\"bar\"},{\"alignmentgroup\":\"True\",\"hovertemplate\":\"employment_type=Employed_BarPassageRequired<br>Year=2020<br>SchoolName=%{x}<br>% of grads=%{y}<extra></extra>\",\"legendgroup\":\"Employed_BarPassageRequired\",\"marker\":{\"color\":\"#636efa\",\"pattern\":{\"shape\":\"\"}},\"name\":\"Employed_BarPassageRequired\",\"offsetgroup\":\"Employed_BarPassageRequired\",\"orientation\":\"v\",\"showlegend\":false,\"textposition\":\"auto\",\"x\":[\"GEORGETOWN UNIVERSITY\"],\"xaxis\":\"x6\",\"y\":[0.8782742681047766],\"yaxis\":\"y6\",\"type\":\"bar\"},{\"alignmentgroup\":\"True\",\"hovertemplate\":\"employment_type=Employed_BarPassageRequired<br>Year=2021<br>SchoolName=%{x}<br>% of grads=%{y}<extra></extra>\",\"legendgroup\":\"Employed_BarPassageRequired\",\"marker\":{\"color\":\"#636efa\",\"pattern\":{\"shape\":\"\"}},\"name\":\"Employed_BarPassageRequired\",\"offsetgroup\":\"Employed_BarPassageRequired\",\"orientation\":\"v\",\"showlegend\":false,\"textposition\":\"auto\",\"x\":[\"GEORGETOWN UNIVERSITY\"],\"xaxis\":\"x7\",\"y\":[0.8944881889763779],\"yaxis\":\"y7\",\"type\":\"bar\"},{\"alignmentgroup\":\"True\",\"hovertemplate\":\"employment_type=Employed_JDAdvantage<br>Year=2015<br>SchoolName=%{x}<br>% of grads=%{y}<extra></extra>\",\"legendgroup\":\"Employed_JDAdvantage\",\"marker\":{\"color\":\"#EF553B\",\"pattern\":{\"shape\":\"\"}},\"name\":\"Employed_JDAdvantage\",\"offsetgroup\":\"Employed_JDAdvantage\",\"orientation\":\"v\",\"showlegend\":true,\"textposition\":\"auto\",\"x\":[\"GEORGETOWN UNIVERSITY\"],\"xaxis\":\"x\",\"y\":[0.09169550173010381],\"yaxis\":\"y\",\"type\":\"bar\"},{\"alignmentgroup\":\"True\",\"hovertemplate\":\"employment_type=Employed_JDAdvantage<br>Year=2016<br>SchoolName=%{x}<br>% of grads=%{y}<extra></extra>\",\"legendgroup\":\"Employed_JDAdvantage\",\"marker\":{\"color\":\"#EF553B\",\"pattern\":{\"shape\":\"\"}},\"name\":\"Employed_JDAdvantage\",\"offsetgroup\":\"Employed_JDAdvantage\",\"orientation\":\"v\",\"showlegend\":false,\"textposition\":\"auto\",\"x\":[\"GEORGETOWN UNIVERSITY\"],\"xaxis\":\"x2\",\"y\":[0.06884681583476764],\"yaxis\":\"y2\",\"type\":\"bar\"},{\"alignmentgroup\":\"True\",\"hovertemplate\":\"employment_type=Employed_JDAdvantage<br>Year=2017<br>SchoolName=%{x}<br>% of grads=%{y}<extra></extra>\",\"legendgroup\":\"Employed_JDAdvantage\",\"marker\":{\"color\":\"#EF553B\",\"pattern\":{\"shape\":\"\"}},\"name\":\"Employed_JDAdvantage\",\"offsetgroup\":\"Employed_JDAdvantage\",\"orientation\":\"v\",\"showlegend\":false,\"textposition\":\"auto\",\"x\":[\"GEORGETOWN UNIVERSITY\"],\"xaxis\":\"x3\",\"y\":[0.07251264755480608],\"yaxis\":\"y3\",\"type\":\"bar\"},{\"alignmentgroup\":\"True\",\"hovertemplate\":\"employment_type=Employed_JDAdvantage<br>Year=2018<br>SchoolName=%{x}<br>% of grads=%{y}<extra></extra>\",\"legendgroup\":\"Employed_JDAdvantage\",\"marker\":{\"color\":\"#EF553B\",\"pattern\":{\"shape\":\"\"}},\"name\":\"Employed_JDAdvantage\",\"offsetgroup\":\"Employed_JDAdvantage\",\"orientation\":\"v\",\"showlegend\":false,\"textposition\":\"auto\",\"x\":[\"GEORGETOWN UNIVERSITY\"],\"xaxis\":\"x4\",\"y\":[0.05289256198347107],\"yaxis\":\"y4\",\"type\":\"bar\"},{\"alignmentgroup\":\"True\",\"hovertemplate\":\"employment_type=Employed_JDAdvantage<br>Year=2019<br>SchoolName=%{x}<br>% of grads=%{y}<extra></extra>\",\"legendgroup\":\"Employed_JDAdvantage\",\"marker\":{\"color\":\"#EF553B\",\"pattern\":{\"shape\":\"\"}},\"name\":\"Employed_JDAdvantage\",\"offsetgroup\":\"Employed_JDAdvantage\",\"orientation\":\"v\",\"showlegend\":false,\"textposition\":\"auto\",\"x\":[\"GEORGETOWN UNIVERSITY\"],\"xaxis\":\"x5\",\"y\":[0.05186385737439222],\"yaxis\":\"y5\",\"type\":\"bar\"},{\"alignmentgroup\":\"True\",\"hovertemplate\":\"employment_type=Employed_JDAdvantage<br>Year=2020<br>SchoolName=%{x}<br>% of grads=%{y}<extra></extra>\",\"legendgroup\":\"Employed_JDAdvantage\",\"marker\":{\"color\":\"#EF553B\",\"pattern\":{\"shape\":\"\"}},\"name\":\"Employed_JDAdvantage\",\"offsetgroup\":\"Employed_JDAdvantage\",\"orientation\":\"v\",\"showlegend\":false,\"textposition\":\"auto\",\"x\":[\"GEORGETOWN UNIVERSITY\"],\"xaxis\":\"x6\",\"y\":[0.04930662557781202],\"yaxis\":\"y6\",\"type\":\"bar\"},{\"alignmentgroup\":\"True\",\"hovertemplate\":\"employment_type=Employed_JDAdvantage<br>Year=2021<br>SchoolName=%{x}<br>% of grads=%{y}<extra></extra>\",\"legendgroup\":\"Employed_JDAdvantage\",\"marker\":{\"color\":\"#EF553B\",\"pattern\":{\"shape\":\"\"}},\"name\":\"Employed_JDAdvantage\",\"offsetgroup\":\"Employed_JDAdvantage\",\"orientation\":\"v\",\"showlegend\":false,\"textposition\":\"auto\",\"x\":[\"GEORGETOWN UNIVERSITY\"],\"xaxis\":\"x7\",\"y\":[0.05984251968503937],\"yaxis\":\"y7\",\"type\":\"bar\"},{\"alignmentgroup\":\"True\",\"hovertemplate\":\"employment_type=Employed_OtherPosition<br>Year=2015<br>SchoolName=%{x}<br>% of grads=%{y}<extra></extra>\",\"legendgroup\":\"Employed_OtherPosition\",\"marker\":{\"color\":\"#00cc96\",\"pattern\":{\"shape\":\"\"}},\"name\":\"Employed_OtherPosition\",\"offsetgroup\":\"Employed_OtherPosition\",\"orientation\":\"v\",\"showlegend\":true,\"textposition\":\"auto\",\"x\":[\"GEORGETOWN UNIVERSITY\"],\"xaxis\":\"x\",\"y\":[0.0034602076124567475],\"yaxis\":\"y\",\"type\":\"bar\"},{\"alignmentgroup\":\"True\",\"hovertemplate\":\"employment_type=Employed_OtherPosition<br>Year=2016<br>SchoolName=%{x}<br>% of grads=%{y}<extra></extra>\",\"legendgroup\":\"Employed_OtherPosition\",\"marker\":{\"color\":\"#00cc96\",\"pattern\":{\"shape\":\"\"}},\"name\":\"Employed_OtherPosition\",\"offsetgroup\":\"Employed_OtherPosition\",\"orientation\":\"v\",\"showlegend\":false,\"textposition\":\"auto\",\"x\":[\"GEORGETOWN UNIVERSITY\"],\"xaxis\":\"x2\",\"y\":[0.0068846815834767644],\"yaxis\":\"y2\",\"type\":\"bar\"},{\"alignmentgroup\":\"True\",\"hovertemplate\":\"employment_type=Employed_OtherPosition<br>Year=2017<br>SchoolName=%{x}<br>% of grads=%{y}<extra></extra>\",\"legendgroup\":\"Employed_OtherPosition\",\"marker\":{\"color\":\"#00cc96\",\"pattern\":{\"shape\":\"\"}},\"name\":\"Employed_OtherPosition\",\"offsetgroup\":\"Employed_OtherPosition\",\"orientation\":\"v\",\"showlegend\":false,\"textposition\":\"auto\",\"x\":[\"GEORGETOWN UNIVERSITY\"],\"xaxis\":\"x3\",\"y\":[0.003372681281618887],\"yaxis\":\"y3\",\"type\":\"bar\"},{\"alignmentgroup\":\"True\",\"hovertemplate\":\"employment_type=Employed_OtherPosition<br>Year=2018<br>SchoolName=%{x}<br>% of grads=%{y}<extra></extra>\",\"legendgroup\":\"Employed_OtherPosition\",\"marker\":{\"color\":\"#00cc96\",\"pattern\":{\"shape\":\"\"}},\"name\":\"Employed_OtherPosition\",\"offsetgroup\":\"Employed_OtherPosition\",\"orientation\":\"v\",\"showlegend\":false,\"textposition\":\"auto\",\"x\":[\"GEORGETOWN UNIVERSITY\"],\"xaxis\":\"x4\",\"y\":[0.001652892561983471],\"yaxis\":\"y4\",\"type\":\"bar\"},{\"alignmentgroup\":\"True\",\"hovertemplate\":\"employment_type=Employed_OtherPosition<br>Year=2019<br>SchoolName=%{x}<br>% of grads=%{y}<extra></extra>\",\"legendgroup\":\"Employed_OtherPosition\",\"marker\":{\"color\":\"#00cc96\",\"pattern\":{\"shape\":\"\"}},\"name\":\"Employed_OtherPosition\",\"offsetgroup\":\"Employed_OtherPosition\",\"orientation\":\"v\",\"showlegend\":false,\"textposition\":\"auto\",\"x\":[\"GEORGETOWN UNIVERSITY\"],\"xaxis\":\"x5\",\"y\":[0.0],\"yaxis\":\"y5\",\"type\":\"bar\"},{\"alignmentgroup\":\"True\",\"hovertemplate\":\"employment_type=Employed_OtherPosition<br>Year=2020<br>SchoolName=%{x}<br>% of grads=%{y}<extra></extra>\",\"legendgroup\":\"Employed_OtherPosition\",\"marker\":{\"color\":\"#00cc96\",\"pattern\":{\"shape\":\"\"}},\"name\":\"Employed_OtherPosition\",\"offsetgroup\":\"Employed_OtherPosition\",\"orientation\":\"v\",\"showlegend\":false,\"textposition\":\"auto\",\"x\":[\"GEORGETOWN UNIVERSITY\"],\"xaxis\":\"x6\",\"y\":[0.0015408320493066256],\"yaxis\":\"y6\",\"type\":\"bar\"},{\"alignmentgroup\":\"True\",\"hovertemplate\":\"employment_type=Employed_OtherPosition<br>Year=2021<br>SchoolName=%{x}<br>% of grads=%{y}<extra></extra>\",\"legendgroup\":\"Employed_OtherPosition\",\"marker\":{\"color\":\"#00cc96\",\"pattern\":{\"shape\":\"\"}},\"name\":\"Employed_OtherPosition\",\"offsetgroup\":\"Employed_OtherPosition\",\"orientation\":\"v\",\"showlegend\":false,\"textposition\":\"auto\",\"x\":[\"GEORGETOWN UNIVERSITY\"],\"xaxis\":\"x7\",\"y\":[0.0],\"yaxis\":\"y7\",\"type\":\"bar\"},{\"alignmentgroup\":\"True\",\"hovertemplate\":\"employment_type=Employed_ProfessionPosition<br>Year=2015<br>SchoolName=%{x}<br>% of grads=%{y}<extra></extra>\",\"legendgroup\":\"Employed_ProfessionPosition\",\"marker\":{\"color\":\"#ab63fa\",\"pattern\":{\"shape\":\"\"}},\"name\":\"Employed_ProfessionPosition\",\"offsetgroup\":\"Employed_ProfessionPosition\",\"orientation\":\"v\",\"showlegend\":true,\"textposition\":\"auto\",\"x\":[\"GEORGETOWN UNIVERSITY\"],\"xaxis\":\"x\",\"y\":[0.00865051903114187],\"yaxis\":\"y\",\"type\":\"bar\"},{\"alignmentgroup\":\"True\",\"hovertemplate\":\"employment_type=Employed_ProfessionPosition<br>Year=2016<br>SchoolName=%{x}<br>% of grads=%{y}<extra></extra>\",\"legendgroup\":\"Employed_ProfessionPosition\",\"marker\":{\"color\":\"#ab63fa\",\"pattern\":{\"shape\":\"\"}},\"name\":\"Employed_ProfessionPosition\",\"offsetgroup\":\"Employed_ProfessionPosition\",\"orientation\":\"v\",\"showlegend\":false,\"textposition\":\"auto\",\"x\":[\"GEORGETOWN UNIVERSITY\"],\"xaxis\":\"x2\",\"y\":[0.01549053356282272],\"yaxis\":\"y2\",\"type\":\"bar\"},{\"alignmentgroup\":\"True\",\"hovertemplate\":\"employment_type=Employed_ProfessionPosition<br>Year=2017<br>SchoolName=%{x}<br>% of grads=%{y}<extra></extra>\",\"legendgroup\":\"Employed_ProfessionPosition\",\"marker\":{\"color\":\"#ab63fa\",\"pattern\":{\"shape\":\"\"}},\"name\":\"Employed_ProfessionPosition\",\"offsetgroup\":\"Employed_ProfessionPosition\",\"orientation\":\"v\",\"showlegend\":false,\"textposition\":\"auto\",\"x\":[\"GEORGETOWN UNIVERSITY\"],\"xaxis\":\"x3\",\"y\":[0.00505902192242833],\"yaxis\":\"y3\",\"type\":\"bar\"},{\"alignmentgroup\":\"True\",\"hovertemplate\":\"employment_type=Employed_ProfessionPosition<br>Year=2018<br>SchoolName=%{x}<br>% of grads=%{y}<extra></extra>\",\"legendgroup\":\"Employed_ProfessionPosition\",\"marker\":{\"color\":\"#ab63fa\",\"pattern\":{\"shape\":\"\"}},\"name\":\"Employed_ProfessionPosition\",\"offsetgroup\":\"Employed_ProfessionPosition\",\"orientation\":\"v\",\"showlegend\":false,\"textposition\":\"auto\",\"x\":[\"GEORGETOWN UNIVERSITY\"],\"xaxis\":\"x4\",\"y\":[0.013223140495867768],\"yaxis\":\"y4\",\"type\":\"bar\"},{\"alignmentgroup\":\"True\",\"hovertemplate\":\"employment_type=Employed_ProfessionPosition<br>Year=2019<br>SchoolName=%{x}<br>% of grads=%{y}<extra></extra>\",\"legendgroup\":\"Employed_ProfessionPosition\",\"marker\":{\"color\":\"#ab63fa\",\"pattern\":{\"shape\":\"\"}},\"name\":\"Employed_ProfessionPosition\",\"offsetgroup\":\"Employed_ProfessionPosition\",\"orientation\":\"v\",\"showlegend\":false,\"textposition\":\"auto\",\"x\":[\"GEORGETOWN UNIVERSITY\"],\"xaxis\":\"x5\",\"y\":[0.014586709886547812],\"yaxis\":\"y5\",\"type\":\"bar\"},{\"alignmentgroup\":\"True\",\"hovertemplate\":\"employment_type=Employed_ProfessionPosition<br>Year=2020<br>SchoolName=%{x}<br>% of grads=%{y}<extra></extra>\",\"legendgroup\":\"Employed_ProfessionPosition\",\"marker\":{\"color\":\"#ab63fa\",\"pattern\":{\"shape\":\"\"}},\"name\":\"Employed_ProfessionPosition\",\"offsetgroup\":\"Employed_ProfessionPosition\",\"orientation\":\"v\",\"showlegend\":false,\"textposition\":\"auto\",\"x\":[\"GEORGETOWN UNIVERSITY\"],\"xaxis\":\"x6\",\"y\":[0.009244992295839754],\"yaxis\":\"y6\",\"type\":\"bar\"},{\"alignmentgroup\":\"True\",\"hovertemplate\":\"employment_type=Employed_ProfessionPosition<br>Year=2021<br>SchoolName=%{x}<br>% of grads=%{y}<extra></extra>\",\"legendgroup\":\"Employed_ProfessionPosition\",\"marker\":{\"color\":\"#ab63fa\",\"pattern\":{\"shape\":\"\"}},\"name\":\"Employed_ProfessionPosition\",\"offsetgroup\":\"Employed_ProfessionPosition\",\"orientation\":\"v\",\"showlegend\":false,\"textposition\":\"auto\",\"x\":[\"GEORGETOWN UNIVERSITY\"],\"xaxis\":\"x7\",\"y\":[0.0031496062992125984],\"yaxis\":\"y7\",\"type\":\"bar\"},{\"alignmentgroup\":\"True\",\"hovertemplate\":\"employment_type=Employed_Undeterminable<br>Year=2015<br>SchoolName=%{x}<br>% of grads=%{y}<extra></extra>\",\"legendgroup\":\"Employed_Undeterminable\",\"marker\":{\"color\":\"#FFA15A\",\"pattern\":{\"shape\":\"\"}},\"name\":\"Employed_Undeterminable\",\"offsetgroup\":\"Employed_Undeterminable\",\"orientation\":\"v\",\"showlegend\":true,\"textposition\":\"auto\",\"x\":[\"GEORGETOWN UNIVERSITY\"],\"xaxis\":\"x\",\"y\":[0.0017301038062283738],\"yaxis\":\"y\",\"type\":\"bar\"},{\"alignmentgroup\":\"True\",\"hovertemplate\":\"employment_type=Employed_Undeterminable<br>Year=2016<br>SchoolName=%{x}<br>% of grads=%{y}<extra></extra>\",\"legendgroup\":\"Employed_Undeterminable\",\"marker\":{\"color\":\"#FFA15A\",\"pattern\":{\"shape\":\"\"}},\"name\":\"Employed_Undeterminable\",\"offsetgroup\":\"Employed_Undeterminable\",\"orientation\":\"v\",\"showlegend\":false,\"textposition\":\"auto\",\"x\":[\"GEORGETOWN UNIVERSITY\"],\"xaxis\":\"x2\",\"y\":[0.0017211703958691911],\"yaxis\":\"y2\",\"type\":\"bar\"},{\"alignmentgroup\":\"True\",\"hovertemplate\":\"employment_type=Employed_Undeterminable<br>Year=2017<br>SchoolName=%{x}<br>% of grads=%{y}<extra></extra>\",\"legendgroup\":\"Employed_Undeterminable\",\"marker\":{\"color\":\"#FFA15A\",\"pattern\":{\"shape\":\"\"}},\"name\":\"Employed_Undeterminable\",\"offsetgroup\":\"Employed_Undeterminable\",\"orientation\":\"v\",\"showlegend\":false,\"textposition\":\"auto\",\"x\":[\"GEORGETOWN UNIVERSITY\"],\"xaxis\":\"x3\",\"y\":[0.0],\"yaxis\":\"y3\",\"type\":\"bar\"},{\"alignmentgroup\":\"True\",\"hovertemplate\":\"employment_type=Employed_Undeterminable<br>Year=2018<br>SchoolName=%{x}<br>% of grads=%{y}<extra></extra>\",\"legendgroup\":\"Employed_Undeterminable\",\"marker\":{\"color\":\"#FFA15A\",\"pattern\":{\"shape\":\"\"}},\"name\":\"Employed_Undeterminable\",\"offsetgroup\":\"Employed_Undeterminable\",\"orientation\":\"v\",\"showlegend\":false,\"textposition\":\"auto\",\"x\":[\"GEORGETOWN UNIVERSITY\"],\"xaxis\":\"x4\",\"y\":[0.0],\"yaxis\":\"y4\",\"type\":\"bar\"},{\"alignmentgroup\":\"True\",\"hovertemplate\":\"employment_type=Employed_Undeterminable<br>Year=2019<br>SchoolName=%{x}<br>% of grads=%{y}<extra></extra>\",\"legendgroup\":\"Employed_Undeterminable\",\"marker\":{\"color\":\"#FFA15A\",\"pattern\":{\"shape\":\"\"}},\"name\":\"Employed_Undeterminable\",\"offsetgroup\":\"Employed_Undeterminable\",\"orientation\":\"v\",\"showlegend\":false,\"textposition\":\"auto\",\"x\":[\"GEORGETOWN UNIVERSITY\"],\"xaxis\":\"x5\",\"y\":[0.0],\"yaxis\":\"y5\",\"type\":\"bar\"},{\"alignmentgroup\":\"True\",\"hovertemplate\":\"employment_type=Employed_Undeterminable<br>Year=2020<br>SchoolName=%{x}<br>% of grads=%{y}<extra></extra>\",\"legendgroup\":\"Employed_Undeterminable\",\"marker\":{\"color\":\"#FFA15A\",\"pattern\":{\"shape\":\"\"}},\"name\":\"Employed_Undeterminable\",\"offsetgroup\":\"Employed_Undeterminable\",\"orientation\":\"v\",\"showlegend\":false,\"textposition\":\"auto\",\"x\":[\"GEORGETOWN UNIVERSITY\"],\"xaxis\":\"x6\",\"y\":[0.0],\"yaxis\":\"y6\",\"type\":\"bar\"},{\"alignmentgroup\":\"True\",\"hovertemplate\":\"employment_type=Employed_Undeterminable<br>Year=2021<br>SchoolName=%{x}<br>% of grads=%{y}<extra></extra>\",\"legendgroup\":\"Employed_Undeterminable\",\"marker\":{\"color\":\"#FFA15A\",\"pattern\":{\"shape\":\"\"}},\"name\":\"Employed_Undeterminable\",\"offsetgroup\":\"Employed_Undeterminable\",\"orientation\":\"v\",\"showlegend\":false,\"textposition\":\"auto\",\"x\":[\"GEORGETOWN UNIVERSITY\"],\"xaxis\":\"x7\",\"y\":[0.0],\"yaxis\":\"y7\",\"type\":\"bar\"},{\"alignmentgroup\":\"True\",\"hovertemplate\":\"employment_type=Employed_by_LawSchool<br>Year=2015<br>SchoolName=%{x}<br>% of grads=%{y}<extra></extra>\",\"legendgroup\":\"Employed_by_LawSchool\",\"marker\":{\"color\":\"#19d3f3\",\"pattern\":{\"shape\":\"\"}},\"name\":\"Employed_by_LawSchool\",\"offsetgroup\":\"Employed_by_LawSchool\",\"orientation\":\"v\",\"showlegend\":true,\"textposition\":\"auto\",\"x\":[\"GEORGETOWN UNIVERSITY\"],\"xaxis\":\"x\",\"y\":[0.0],\"yaxis\":\"y\",\"type\":\"bar\"},{\"alignmentgroup\":\"True\",\"hovertemplate\":\"employment_type=Employed_by_LawSchool<br>Year=2016<br>SchoolName=%{x}<br>% of grads=%{y}<extra></extra>\",\"legendgroup\":\"Employed_by_LawSchool\",\"marker\":{\"color\":\"#19d3f3\",\"pattern\":{\"shape\":\"\"}},\"name\":\"Employed_by_LawSchool\",\"offsetgroup\":\"Employed_by_LawSchool\",\"orientation\":\"v\",\"showlegend\":false,\"textposition\":\"auto\",\"x\":[\"GEORGETOWN UNIVERSITY\"],\"xaxis\":\"x2\",\"y\":[0.0],\"yaxis\":\"y2\",\"type\":\"bar\"},{\"alignmentgroup\":\"True\",\"hovertemplate\":\"employment_type=Employed_by_LawSchool<br>Year=2017<br>SchoolName=%{x}<br>% of grads=%{y}<extra></extra>\",\"legendgroup\":\"Employed_by_LawSchool\",\"marker\":{\"color\":\"#19d3f3\",\"pattern\":{\"shape\":\"\"}},\"name\":\"Employed_by_LawSchool\",\"offsetgroup\":\"Employed_by_LawSchool\",\"orientation\":\"v\",\"showlegend\":false,\"textposition\":\"auto\",\"x\":[\"GEORGETOWN UNIVERSITY\"],\"xaxis\":\"x3\",\"y\":[0.0],\"yaxis\":\"y3\",\"type\":\"bar\"},{\"alignmentgroup\":\"True\",\"hovertemplate\":\"employment_type=Employed_by_LawSchool<br>Year=2018<br>SchoolName=%{x}<br>% of grads=%{y}<extra></extra>\",\"legendgroup\":\"Employed_by_LawSchool\",\"marker\":{\"color\":\"#19d3f3\",\"pattern\":{\"shape\":\"\"}},\"name\":\"Employed_by_LawSchool\",\"offsetgroup\":\"Employed_by_LawSchool\",\"orientation\":\"v\",\"showlegend\":false,\"textposition\":\"auto\",\"x\":[\"GEORGETOWN UNIVERSITY\"],\"xaxis\":\"x4\",\"y\":[0.0],\"yaxis\":\"y4\",\"type\":\"bar\"},{\"alignmentgroup\":\"True\",\"hovertemplate\":\"employment_type=Employed_by_LawSchool<br>Year=2019<br>SchoolName=%{x}<br>% of grads=%{y}<extra></extra>\",\"legendgroup\":\"Employed_by_LawSchool\",\"marker\":{\"color\":\"#19d3f3\",\"pattern\":{\"shape\":\"\"}},\"name\":\"Employed_by_LawSchool\",\"offsetgroup\":\"Employed_by_LawSchool\",\"orientation\":\"v\",\"showlegend\":false,\"textposition\":\"auto\",\"x\":[\"GEORGETOWN UNIVERSITY\"],\"xaxis\":\"x5\",\"y\":[0.0],\"yaxis\":\"y5\",\"type\":\"bar\"},{\"alignmentgroup\":\"True\",\"hovertemplate\":\"employment_type=Employed_by_LawSchool<br>Year=2020<br>SchoolName=%{x}<br>% of grads=%{y}<extra></extra>\",\"legendgroup\":\"Employed_by_LawSchool\",\"marker\":{\"color\":\"#19d3f3\",\"pattern\":{\"shape\":\"\"}},\"name\":\"Employed_by_LawSchool\",\"offsetgroup\":\"Employed_by_LawSchool\",\"orientation\":\"v\",\"showlegend\":false,\"textposition\":\"auto\",\"x\":[\"GEORGETOWN UNIVERSITY\"],\"xaxis\":\"x6\",\"y\":[0.0],\"yaxis\":\"y6\",\"type\":\"bar\"},{\"alignmentgroup\":\"True\",\"hovertemplate\":\"employment_type=Employed_by_LawSchool<br>Year=2021<br>SchoolName=%{x}<br>% of grads=%{y}<extra></extra>\",\"legendgroup\":\"Employed_by_LawSchool\",\"marker\":{\"color\":\"#19d3f3\",\"pattern\":{\"shape\":\"\"}},\"name\":\"Employed_by_LawSchool\",\"offsetgroup\":\"Employed_by_LawSchool\",\"orientation\":\"v\",\"showlegend\":false,\"textposition\":\"auto\",\"x\":[\"GEORGETOWN UNIVERSITY\"],\"xaxis\":\"x7\",\"y\":[0.0],\"yaxis\":\"y7\",\"type\":\"bar\"},{\"alignmentgroup\":\"True\",\"hovertemplate\":\"employment_type=EnrolledInGraduateStudies<br>Year=2015<br>SchoolName=%{x}<br>% of grads=%{y}<extra></extra>\",\"legendgroup\":\"EnrolledInGraduateStudies\",\"marker\":{\"color\":\"#FF6692\",\"pattern\":{\"shape\":\"\"}},\"name\":\"EnrolledInGraduateStudies\",\"offsetgroup\":\"EnrolledInGraduateStudies\",\"orientation\":\"v\",\"showlegend\":true,\"textposition\":\"auto\",\"x\":[\"GEORGETOWN UNIVERSITY\"],\"xaxis\":\"x\",\"y\":[0.006920415224913495],\"yaxis\":\"y\",\"type\":\"bar\"},{\"alignmentgroup\":\"True\",\"hovertemplate\":\"employment_type=EnrolledInGraduateStudies<br>Year=2016<br>SchoolName=%{x}<br>% of grads=%{y}<extra></extra>\",\"legendgroup\":\"EnrolledInGraduateStudies\",\"marker\":{\"color\":\"#FF6692\",\"pattern\":{\"shape\":\"\"}},\"name\":\"EnrolledInGraduateStudies\",\"offsetgroup\":\"EnrolledInGraduateStudies\",\"orientation\":\"v\",\"showlegend\":false,\"textposition\":\"auto\",\"x\":[\"GEORGETOWN UNIVERSITY\"],\"xaxis\":\"x2\",\"y\":[0.008605851979345954],\"yaxis\":\"y2\",\"type\":\"bar\"},{\"alignmentgroup\":\"True\",\"hovertemplate\":\"employment_type=EnrolledInGraduateStudies<br>Year=2017<br>SchoolName=%{x}<br>% of grads=%{y}<extra></extra>\",\"legendgroup\":\"EnrolledInGraduateStudies\",\"marker\":{\"color\":\"#FF6692\",\"pattern\":{\"shape\":\"\"}},\"name\":\"EnrolledInGraduateStudies\",\"offsetgroup\":\"EnrolledInGraduateStudies\",\"orientation\":\"v\",\"showlegend\":false,\"textposition\":\"auto\",\"x\":[\"GEORGETOWN UNIVERSITY\"],\"xaxis\":\"x3\",\"y\":[0.01517706576728499],\"yaxis\":\"y3\",\"type\":\"bar\"},{\"alignmentgroup\":\"True\",\"hovertemplate\":\"employment_type=EnrolledInGraduateStudies<br>Year=2018<br>SchoolName=%{x}<br>% of grads=%{y}<extra></extra>\",\"legendgroup\":\"EnrolledInGraduateStudies\",\"marker\":{\"color\":\"#FF6692\",\"pattern\":{\"shape\":\"\"}},\"name\":\"EnrolledInGraduateStudies\",\"offsetgroup\":\"EnrolledInGraduateStudies\",\"orientation\":\"v\",\"showlegend\":false,\"textposition\":\"auto\",\"x\":[\"GEORGETOWN UNIVERSITY\"],\"xaxis\":\"x4\",\"y\":[0.013223140495867768],\"yaxis\":\"y4\",\"type\":\"bar\"},{\"alignmentgroup\":\"True\",\"hovertemplate\":\"employment_type=EnrolledInGraduateStudies<br>Year=2019<br>SchoolName=%{x}<br>% of grads=%{y}<extra></extra>\",\"legendgroup\":\"EnrolledInGraduateStudies\",\"marker\":{\"color\":\"#FF6692\",\"pattern\":{\"shape\":\"\"}},\"name\":\"EnrolledInGraduateStudies\",\"offsetgroup\":\"EnrolledInGraduateStudies\",\"orientation\":\"v\",\"showlegend\":false,\"textposition\":\"auto\",\"x\":[\"GEORGETOWN UNIVERSITY\"],\"xaxis\":\"x5\",\"y\":[0.014586709886547812],\"yaxis\":\"y5\",\"type\":\"bar\"},{\"alignmentgroup\":\"True\",\"hovertemplate\":\"employment_type=EnrolledInGraduateStudies<br>Year=2020<br>SchoolName=%{x}<br>% of grads=%{y}<extra></extra>\",\"legendgroup\":\"EnrolledInGraduateStudies\",\"marker\":{\"color\":\"#FF6692\",\"pattern\":{\"shape\":\"\"}},\"name\":\"EnrolledInGraduateStudies\",\"offsetgroup\":\"EnrolledInGraduateStudies\",\"orientation\":\"v\",\"showlegend\":false,\"textposition\":\"auto\",\"x\":[\"GEORGETOWN UNIVERSITY\"],\"xaxis\":\"x6\",\"y\":[0.009244992295839754],\"yaxis\":\"y6\",\"type\":\"bar\"},{\"alignmentgroup\":\"True\",\"hovertemplate\":\"employment_type=EnrolledInGraduateStudies<br>Year=2021<br>SchoolName=%{x}<br>% of grads=%{y}<extra></extra>\",\"legendgroup\":\"EnrolledInGraduateStudies\",\"marker\":{\"color\":\"#FF6692\",\"pattern\":{\"shape\":\"\"}},\"name\":\"EnrolledInGraduateStudies\",\"offsetgroup\":\"EnrolledInGraduateStudies\",\"orientation\":\"v\",\"showlegend\":false,\"textposition\":\"auto\",\"x\":[\"GEORGETOWN UNIVERSITY\"],\"xaxis\":\"x7\",\"y\":[0.004724409448818898],\"yaxis\":\"y7\",\"type\":\"bar\"},{\"alignmentgroup\":\"True\",\"hovertemplate\":\"employment_type=Unemployed<br>Year=2015<br>SchoolName=%{x}<br>% of grads=%{y}<extra></extra>\",\"legendgroup\":\"Unemployed\",\"marker\":{\"color\":\"#B6E880\",\"pattern\":{\"shape\":\"\"}},\"name\":\"Unemployed\",\"offsetgroup\":\"Unemployed\",\"orientation\":\"v\",\"showlegend\":true,\"textposition\":\"auto\",\"x\":[\"GEORGETOWN UNIVERSITY\"],\"xaxis\":\"x\",\"y\":[0.0847750865051903],\"yaxis\":\"y\",\"type\":\"bar\"},{\"alignmentgroup\":\"True\",\"hovertemplate\":\"employment_type=Unemployed<br>Year=2016<br>SchoolName=%{x}<br>% of grads=%{y}<extra></extra>\",\"legendgroup\":\"Unemployed\",\"marker\":{\"color\":\"#B6E880\",\"pattern\":{\"shape\":\"\"}},\"name\":\"Unemployed\",\"offsetgroup\":\"Unemployed\",\"orientation\":\"v\",\"showlegend\":false,\"textposition\":\"auto\",\"x\":[\"GEORGETOWN UNIVERSITY\"],\"xaxis\":\"x2\",\"y\":[0.060240963855421686],\"yaxis\":\"y2\",\"type\":\"bar\"},{\"alignmentgroup\":\"True\",\"hovertemplate\":\"employment_type=Unemployed<br>Year=2017<br>SchoolName=%{x}<br>% of grads=%{y}<extra></extra>\",\"legendgroup\":\"Unemployed\",\"marker\":{\"color\":\"#B6E880\",\"pattern\":{\"shape\":\"\"}},\"name\":\"Unemployed\",\"offsetgroup\":\"Unemployed\",\"orientation\":\"v\",\"showlegend\":false,\"textposition\":\"auto\",\"x\":[\"GEORGETOWN UNIVERSITY\"],\"xaxis\":\"x3\",\"y\":[0.048903878583473864],\"yaxis\":\"y3\",\"type\":\"bar\"},{\"alignmentgroup\":\"True\",\"hovertemplate\":\"employment_type=Unemployed<br>Year=2018<br>SchoolName=%{x}<br>% of grads=%{y}<extra></extra>\",\"legendgroup\":\"Unemployed\",\"marker\":{\"color\":\"#B6E880\",\"pattern\":{\"shape\":\"\"}},\"name\":\"Unemployed\",\"offsetgroup\":\"Unemployed\",\"orientation\":\"v\",\"showlegend\":false,\"textposition\":\"auto\",\"x\":[\"GEORGETOWN UNIVERSITY\"],\"xaxis\":\"x4\",\"y\":[0.03636363636363636],\"yaxis\":\"y4\",\"type\":\"bar\"},{\"alignmentgroup\":\"True\",\"hovertemplate\":\"employment_type=Unemployed<br>Year=2019<br>SchoolName=%{x}<br>% of grads=%{y}<extra></extra>\",\"legendgroup\":\"Unemployed\",\"marker\":{\"color\":\"#B6E880\",\"pattern\":{\"shape\":\"\"}},\"name\":\"Unemployed\",\"offsetgroup\":\"Unemployed\",\"orientation\":\"v\",\"showlegend\":false,\"textposition\":\"auto\",\"x\":[\"GEORGETOWN UNIVERSITY\"],\"xaxis\":\"x5\",\"y\":[0.03241491085899514],\"yaxis\":\"y5\",\"type\":\"bar\"},{\"alignmentgroup\":\"True\",\"hovertemplate\":\"employment_type=Unemployed<br>Year=2020<br>SchoolName=%{x}<br>% of grads=%{y}<extra></extra>\",\"legendgroup\":\"Unemployed\",\"marker\":{\"color\":\"#B6E880\",\"pattern\":{\"shape\":\"\"}},\"name\":\"Unemployed\",\"offsetgroup\":\"Unemployed\",\"orientation\":\"v\",\"showlegend\":false,\"textposition\":\"auto\",\"x\":[\"GEORGETOWN UNIVERSITY\"],\"xaxis\":\"x6\",\"y\":[0.05238828967642527],\"yaxis\":\"y6\",\"type\":\"bar\"},{\"alignmentgroup\":\"True\",\"hovertemplate\":\"employment_type=Unemployed<br>Year=2021<br>SchoolName=%{x}<br>% of grads=%{y}<extra></extra>\",\"legendgroup\":\"Unemployed\",\"marker\":{\"color\":\"#B6E880\",\"pattern\":{\"shape\":\"\"}},\"name\":\"Unemployed\",\"offsetgroup\":\"Unemployed\",\"orientation\":\"v\",\"showlegend\":false,\"textposition\":\"auto\",\"x\":[\"GEORGETOWN UNIVERSITY\"],\"xaxis\":\"x7\",\"y\":[0.03779527559055118],\"yaxis\":\"y7\",\"type\":\"bar\"},{\"alignmentgroup\":\"True\",\"hovertemplate\":\"employment_type=status_Unknown<br>Year=2015<br>SchoolName=%{x}<br>% of grads=%{y}<extra></extra>\",\"legendgroup\":\"status_Unknown\",\"marker\":{\"color\":\"#FF97FF\",\"pattern\":{\"shape\":\"\"}},\"name\":\"status_Unknown\",\"offsetgroup\":\"status_Unknown\",\"orientation\":\"v\",\"showlegend\":true,\"textposition\":\"auto\",\"x\":[\"GEORGETOWN UNIVERSITY\"],\"xaxis\":\"x\",\"y\":[0.0],\"yaxis\":\"y\",\"type\":\"bar\"},{\"alignmentgroup\":\"True\",\"hovertemplate\":\"employment_type=status_Unknown<br>Year=2016<br>SchoolName=%{x}<br>% of grads=%{y}<extra></extra>\",\"legendgroup\":\"status_Unknown\",\"marker\":{\"color\":\"#FF97FF\",\"pattern\":{\"shape\":\"\"}},\"name\":\"status_Unknown\",\"offsetgroup\":\"status_Unknown\",\"orientation\":\"v\",\"showlegend\":false,\"textposition\":\"auto\",\"x\":[\"GEORGETOWN UNIVERSITY\"],\"xaxis\":\"x2\",\"y\":[0.0],\"yaxis\":\"y2\",\"type\":\"bar\"},{\"alignmentgroup\":\"True\",\"hovertemplate\":\"employment_type=status_Unknown<br>Year=2017<br>SchoolName=%{x}<br>% of grads=%{y}<extra></extra>\",\"legendgroup\":\"status_Unknown\",\"marker\":{\"color\":\"#FF97FF\",\"pattern\":{\"shape\":\"\"}},\"name\":\"status_Unknown\",\"offsetgroup\":\"status_Unknown\",\"orientation\":\"v\",\"showlegend\":false,\"textposition\":\"auto\",\"x\":[\"GEORGETOWN UNIVERSITY\"],\"xaxis\":\"x3\",\"y\":[0.0],\"yaxis\":\"y3\",\"type\":\"bar\"},{\"alignmentgroup\":\"True\",\"hovertemplate\":\"employment_type=status_Unknown<br>Year=2018<br>SchoolName=%{x}<br>% of grads=%{y}<extra></extra>\",\"legendgroup\":\"status_Unknown\",\"marker\":{\"color\":\"#FF97FF\",\"pattern\":{\"shape\":\"\"}},\"name\":\"status_Unknown\",\"offsetgroup\":\"status_Unknown\",\"orientation\":\"v\",\"showlegend\":false,\"textposition\":\"auto\",\"x\":[\"GEORGETOWN UNIVERSITY\"],\"xaxis\":\"x4\",\"y\":[0.0],\"yaxis\":\"y4\",\"type\":\"bar\"},{\"alignmentgroup\":\"True\",\"hovertemplate\":\"employment_type=status_Unknown<br>Year=2019<br>SchoolName=%{x}<br>% of grads=%{y}<extra></extra>\",\"legendgroup\":\"status_Unknown\",\"marker\":{\"color\":\"#FF97FF\",\"pattern\":{\"shape\":\"\"}},\"name\":\"status_Unknown\",\"offsetgroup\":\"status_Unknown\",\"orientation\":\"v\",\"showlegend\":false,\"textposition\":\"auto\",\"x\":[\"GEORGETOWN UNIVERSITY\"],\"xaxis\":\"x5\",\"y\":[0.0],\"yaxis\":\"y5\",\"type\":\"bar\"},{\"alignmentgroup\":\"True\",\"hovertemplate\":\"employment_type=status_Unknown<br>Year=2020<br>SchoolName=%{x}<br>% of grads=%{y}<extra></extra>\",\"legendgroup\":\"status_Unknown\",\"marker\":{\"color\":\"#FF97FF\",\"pattern\":{\"shape\":\"\"}},\"name\":\"status_Unknown\",\"offsetgroup\":\"status_Unknown\",\"orientation\":\"v\",\"showlegend\":false,\"textposition\":\"auto\",\"x\":[\"GEORGETOWN UNIVERSITY\"],\"xaxis\":\"x6\",\"y\":[0.0],\"yaxis\":\"y6\",\"type\":\"bar\"},{\"alignmentgroup\":\"True\",\"hovertemplate\":\"employment_type=status_Unknown<br>Year=2021<br>SchoolName=%{x}<br>% of grads=%{y}<extra></extra>\",\"legendgroup\":\"status_Unknown\",\"marker\":{\"color\":\"#FF97FF\",\"pattern\":{\"shape\":\"\"}},\"name\":\"status_Unknown\",\"offsetgroup\":\"status_Unknown\",\"orientation\":\"v\",\"showlegend\":false,\"textposition\":\"auto\",\"x\":[\"GEORGETOWN UNIVERSITY\"],\"xaxis\":\"x7\",\"y\":[0.0],\"yaxis\":\"y7\",\"type\":\"bar\"}],                        {\"template\":{\"data\":{\"histogram2dcontour\":[{\"type\":\"histogram2dcontour\",\"colorbar\":{\"outlinewidth\":0,\"ticks\":\"\"},\"colorscale\":[[0.0,\"#0d0887\"],[0.1111111111111111,\"#46039f\"],[0.2222222222222222,\"#7201a8\"],[0.3333333333333333,\"#9c179e\"],[0.4444444444444444,\"#bd3786\"],[0.5555555555555556,\"#d8576b\"],[0.6666666666666666,\"#ed7953\"],[0.7777777777777778,\"#fb9f3a\"],[0.8888888888888888,\"#fdca26\"],[1.0,\"#f0f921\"]]}],\"choropleth\":[{\"type\":\"choropleth\",\"colorbar\":{\"outlinewidth\":0,\"ticks\":\"\"}}],\"histogram2d\":[{\"type\":\"histogram2d\",\"colorbar\":{\"outlinewidth\":0,\"ticks\":\"\"},\"colorscale\":[[0.0,\"#0d0887\"],[0.1111111111111111,\"#46039f\"],[0.2222222222222222,\"#7201a8\"],[0.3333333333333333,\"#9c179e\"],[0.4444444444444444,\"#bd3786\"],[0.5555555555555556,\"#d8576b\"],[0.6666666666666666,\"#ed7953\"],[0.7777777777777778,\"#fb9f3a\"],[0.8888888888888888,\"#fdca26\"],[1.0,\"#f0f921\"]]}],\"heatmap\":[{\"type\":\"heatmap\",\"colorbar\":{\"outlinewidth\":0,\"ticks\":\"\"},\"colorscale\":[[0.0,\"#0d0887\"],[0.1111111111111111,\"#46039f\"],[0.2222222222222222,\"#7201a8\"],[0.3333333333333333,\"#9c179e\"],[0.4444444444444444,\"#bd3786\"],[0.5555555555555556,\"#d8576b\"],[0.6666666666666666,\"#ed7953\"],[0.7777777777777778,\"#fb9f3a\"],[0.8888888888888888,\"#fdca26\"],[1.0,\"#f0f921\"]]}],\"heatmapgl\":[{\"type\":\"heatmapgl\",\"colorbar\":{\"outlinewidth\":0,\"ticks\":\"\"},\"colorscale\":[[0.0,\"#0d0887\"],[0.1111111111111111,\"#46039f\"],[0.2222222222222222,\"#7201a8\"],[0.3333333333333333,\"#9c179e\"],[0.4444444444444444,\"#bd3786\"],[0.5555555555555556,\"#d8576b\"],[0.6666666666666666,\"#ed7953\"],[0.7777777777777778,\"#fb9f3a\"],[0.8888888888888888,\"#fdca26\"],[1.0,\"#f0f921\"]]}],\"contourcarpet\":[{\"type\":\"contourcarpet\",\"colorbar\":{\"outlinewidth\":0,\"ticks\":\"\"}}],\"contour\":[{\"type\":\"contour\",\"colorbar\":{\"outlinewidth\":0,\"ticks\":\"\"},\"colorscale\":[[0.0,\"#0d0887\"],[0.1111111111111111,\"#46039f\"],[0.2222222222222222,\"#7201a8\"],[0.3333333333333333,\"#9c179e\"],[0.4444444444444444,\"#bd3786\"],[0.5555555555555556,\"#d8576b\"],[0.6666666666666666,\"#ed7953\"],[0.7777777777777778,\"#fb9f3a\"],[0.8888888888888888,\"#fdca26\"],[1.0,\"#f0f921\"]]}],\"surface\":[{\"type\":\"surface\",\"colorbar\":{\"outlinewidth\":0,\"ticks\":\"\"},\"colorscale\":[[0.0,\"#0d0887\"],[0.1111111111111111,\"#46039f\"],[0.2222222222222222,\"#7201a8\"],[0.3333333333333333,\"#9c179e\"],[0.4444444444444444,\"#bd3786\"],[0.5555555555555556,\"#d8576b\"],[0.6666666666666666,\"#ed7953\"],[0.7777777777777778,\"#fb9f3a\"],[0.8888888888888888,\"#fdca26\"],[1.0,\"#f0f921\"]]}],\"mesh3d\":[{\"type\":\"mesh3d\",\"colorbar\":{\"outlinewidth\":0,\"ticks\":\"\"}}],\"scatter\":[{\"fillpattern\":{\"fillmode\":\"overlay\",\"size\":10,\"solidity\":0.2},\"type\":\"scatter\"}],\"parcoords\":[{\"type\":\"parcoords\",\"line\":{\"colorbar\":{\"outlinewidth\":0,\"ticks\":\"\"}}}],\"scatterpolargl\":[{\"type\":\"scatterpolargl\",\"marker\":{\"colorbar\":{\"outlinewidth\":0,\"ticks\":\"\"}}}],\"bar\":[{\"error_x\":{\"color\":\"#2a3f5f\"},\"error_y\":{\"color\":\"#2a3f5f\"},\"marker\":{\"line\":{\"color\":\"#E5ECF6\",\"width\":0.5},\"pattern\":{\"fillmode\":\"overlay\",\"size\":10,\"solidity\":0.2}},\"type\":\"bar\"}],\"scattergeo\":[{\"type\":\"scattergeo\",\"marker\":{\"colorbar\":{\"outlinewidth\":0,\"ticks\":\"\"}}}],\"scatterpolar\":[{\"type\":\"scatterpolar\",\"marker\":{\"colorbar\":{\"outlinewidth\":0,\"ticks\":\"\"}}}],\"histogram\":[{\"marker\":{\"pattern\":{\"fillmode\":\"overlay\",\"size\":10,\"solidity\":0.2}},\"type\":\"histogram\"}],\"scattergl\":[{\"type\":\"scattergl\",\"marker\":{\"colorbar\":{\"outlinewidth\":0,\"ticks\":\"\"}}}],\"scatter3d\":[{\"type\":\"scatter3d\",\"line\":{\"colorbar\":{\"outlinewidth\":0,\"ticks\":\"\"}},\"marker\":{\"colorbar\":{\"outlinewidth\":0,\"ticks\":\"\"}}}],\"scattermapbox\":[{\"type\":\"scattermapbox\",\"marker\":{\"colorbar\":{\"outlinewidth\":0,\"ticks\":\"\"}}}],\"scatterternary\":[{\"type\":\"scatterternary\",\"marker\":{\"colorbar\":{\"outlinewidth\":0,\"ticks\":\"\"}}}],\"scattercarpet\":[{\"type\":\"scattercarpet\",\"marker\":{\"colorbar\":{\"outlinewidth\":0,\"ticks\":\"\"}}}],\"carpet\":[{\"aaxis\":{\"endlinecolor\":\"#2a3f5f\",\"gridcolor\":\"white\",\"linecolor\":\"white\",\"minorgridcolor\":\"white\",\"startlinecolor\":\"#2a3f5f\"},\"baxis\":{\"endlinecolor\":\"#2a3f5f\",\"gridcolor\":\"white\",\"linecolor\":\"white\",\"minorgridcolor\":\"white\",\"startlinecolor\":\"#2a3f5f\"},\"type\":\"carpet\"}],\"table\":[{\"cells\":{\"fill\":{\"color\":\"#EBF0F8\"},\"line\":{\"color\":\"white\"}},\"header\":{\"fill\":{\"color\":\"#C8D4E3\"},\"line\":{\"color\":\"white\"}},\"type\":\"table\"}],\"barpolar\":[{\"marker\":{\"line\":{\"color\":\"#E5ECF6\",\"width\":0.5},\"pattern\":{\"fillmode\":\"overlay\",\"size\":10,\"solidity\":0.2}},\"type\":\"barpolar\"}],\"pie\":[{\"automargin\":true,\"type\":\"pie\"}]},\"layout\":{\"autotypenumbers\":\"strict\",\"colorway\":[\"#636efa\",\"#EF553B\",\"#00cc96\",\"#ab63fa\",\"#FFA15A\",\"#19d3f3\",\"#FF6692\",\"#B6E880\",\"#FF97FF\",\"#FECB52\"],\"font\":{\"color\":\"#2a3f5f\"},\"hovermode\":\"closest\",\"hoverlabel\":{\"align\":\"left\"},\"paper_bgcolor\":\"white\",\"plot_bgcolor\":\"#E5ECF6\",\"polar\":{\"bgcolor\":\"#E5ECF6\",\"angularaxis\":{\"gridcolor\":\"white\",\"linecolor\":\"white\",\"ticks\":\"\"},\"radialaxis\":{\"gridcolor\":\"white\",\"linecolor\":\"white\",\"ticks\":\"\"}},\"ternary\":{\"bgcolor\":\"#E5ECF6\",\"aaxis\":{\"gridcolor\":\"white\",\"linecolor\":\"white\",\"ticks\":\"\"},\"baxis\":{\"gridcolor\":\"white\",\"linecolor\":\"white\",\"ticks\":\"\"},\"caxis\":{\"gridcolor\":\"white\",\"linecolor\":\"white\",\"ticks\":\"\"}},\"coloraxis\":{\"colorbar\":{\"outlinewidth\":0,\"ticks\":\"\"}},\"colorscale\":{\"sequential\":[[0.0,\"#0d0887\"],[0.1111111111111111,\"#46039f\"],[0.2222222222222222,\"#7201a8\"],[0.3333333333333333,\"#9c179e\"],[0.4444444444444444,\"#bd3786\"],[0.5555555555555556,\"#d8576b\"],[0.6666666666666666,\"#ed7953\"],[0.7777777777777778,\"#fb9f3a\"],[0.8888888888888888,\"#fdca26\"],[1.0,\"#f0f921\"]],\"sequentialminus\":[[0.0,\"#0d0887\"],[0.1111111111111111,\"#46039f\"],[0.2222222222222222,\"#7201a8\"],[0.3333333333333333,\"#9c179e\"],[0.4444444444444444,\"#bd3786\"],[0.5555555555555556,\"#d8576b\"],[0.6666666666666666,\"#ed7953\"],[0.7777777777777778,\"#fb9f3a\"],[0.8888888888888888,\"#fdca26\"],[1.0,\"#f0f921\"]],\"diverging\":[[0,\"#8e0152\"],[0.1,\"#c51b7d\"],[0.2,\"#de77ae\"],[0.3,\"#f1b6da\"],[0.4,\"#fde0ef\"],[0.5,\"#f7f7f7\"],[0.6,\"#e6f5d0\"],[0.7,\"#b8e186\"],[0.8,\"#7fbc41\"],[0.9,\"#4d9221\"],[1,\"#276419\"]]},\"xaxis\":{\"gridcolor\":\"white\",\"linecolor\":\"white\",\"ticks\":\"\",\"title\":{\"standoff\":15},\"zerolinecolor\":\"white\",\"automargin\":true,\"zerolinewidth\":2},\"yaxis\":{\"gridcolor\":\"white\",\"linecolor\":\"white\",\"ticks\":\"\",\"title\":{\"standoff\":15},\"zerolinecolor\":\"white\",\"automargin\":true,\"zerolinewidth\":2},\"scene\":{\"xaxis\":{\"backgroundcolor\":\"#E5ECF6\",\"gridcolor\":\"white\",\"linecolor\":\"white\",\"showbackground\":true,\"ticks\":\"\",\"zerolinecolor\":\"white\",\"gridwidth\":2},\"yaxis\":{\"backgroundcolor\":\"#E5ECF6\",\"gridcolor\":\"white\",\"linecolor\":\"white\",\"showbackground\":true,\"ticks\":\"\",\"zerolinecolor\":\"white\",\"gridwidth\":2},\"zaxis\":{\"backgroundcolor\":\"#E5ECF6\",\"gridcolor\":\"white\",\"linecolor\":\"white\",\"showbackground\":true,\"ticks\":\"\",\"zerolinecolor\":\"white\",\"gridwidth\":2}},\"shapedefaults\":{\"line\":{\"color\":\"#2a3f5f\"}},\"annotationdefaults\":{\"arrowcolor\":\"#2a3f5f\",\"arrowhead\":0,\"arrowwidth\":1},\"geo\":{\"bgcolor\":\"white\",\"landcolor\":\"#E5ECF6\",\"subunitcolor\":\"white\",\"showland\":true,\"showlakes\":true,\"lakecolor\":\"white\"},\"title\":{\"x\":0.05},\"mapbox\":{\"style\":\"light\"}}},\"xaxis\":{\"anchor\":\"y\",\"domain\":[0.0,0.1257142857142857],\"title\":{\"text\":\"SchoolName\"}},\"yaxis\":{\"anchor\":\"x\",\"domain\":[0.0,1.0],\"title\":{\"text\":\"% of grads\"}},\"xaxis2\":{\"anchor\":\"y2\",\"domain\":[0.14571428571428569,0.27142857142857135],\"matches\":\"x\",\"title\":{\"text\":\"SchoolName\"}},\"yaxis2\":{\"anchor\":\"x2\",\"domain\":[0.0,1.0],\"matches\":\"y\",\"showticklabels\":false},\"xaxis3\":{\"anchor\":\"y3\",\"domain\":[0.29142857142857137,0.41714285714285704],\"matches\":\"x\",\"title\":{\"text\":\"SchoolName\"}},\"yaxis3\":{\"anchor\":\"x3\",\"domain\":[0.0,1.0],\"matches\":\"y\",\"showticklabels\":false},\"xaxis4\":{\"anchor\":\"y4\",\"domain\":[0.4371428571428571,0.5628571428571428],\"matches\":\"x\",\"title\":{\"text\":\"SchoolName\"}},\"yaxis4\":{\"anchor\":\"x4\",\"domain\":[0.0,1.0],\"matches\":\"y\",\"showticklabels\":false},\"xaxis5\":{\"anchor\":\"y5\",\"domain\":[0.5828571428571427,0.7085714285714284],\"matches\":\"x\",\"title\":{\"text\":\"SchoolName\"}},\"yaxis5\":{\"anchor\":\"x5\",\"domain\":[0.0,1.0],\"matches\":\"y\",\"showticklabels\":false},\"xaxis6\":{\"anchor\":\"y6\",\"domain\":[0.7285714285714284,0.8542857142857141],\"matches\":\"x\",\"title\":{\"text\":\"SchoolName\"}},\"yaxis6\":{\"anchor\":\"x6\",\"domain\":[0.0,1.0],\"matches\":\"y\",\"showticklabels\":false},\"xaxis7\":{\"anchor\":\"y7\",\"domain\":[0.8742857142857141,0.9999999999999998],\"matches\":\"x\",\"title\":{\"text\":\"SchoolName\"}},\"yaxis7\":{\"anchor\":\"x7\",\"domain\":[0.0,1.0],\"matches\":\"y\",\"showticklabels\":false},\"annotations\":[{\"font\":{},\"showarrow\":false,\"text\":\"Year=2015\",\"x\":0.06285714285714285,\"xanchor\":\"center\",\"xref\":\"paper\",\"y\":1.0,\"yanchor\":\"bottom\",\"yref\":\"paper\"},{\"font\":{},\"showarrow\":false,\"text\":\"Year=2016\",\"x\":0.20857142857142852,\"xanchor\":\"center\",\"xref\":\"paper\",\"y\":1.0,\"yanchor\":\"bottom\",\"yref\":\"paper\"},{\"font\":{},\"showarrow\":false,\"text\":\"Year=2017\",\"x\":0.3542857142857142,\"xanchor\":\"center\",\"xref\":\"paper\",\"y\":1.0,\"yanchor\":\"bottom\",\"yref\":\"paper\"},{\"font\":{},\"showarrow\":false,\"text\":\"Year=2018\",\"x\":0.5,\"xanchor\":\"center\",\"xref\":\"paper\",\"y\":1.0,\"yanchor\":\"bottom\",\"yref\":\"paper\"},{\"font\":{},\"showarrow\":false,\"text\":\"Year=2019\",\"x\":0.6457142857142856,\"xanchor\":\"center\",\"xref\":\"paper\",\"y\":1.0,\"yanchor\":\"bottom\",\"yref\":\"paper\"},{\"font\":{},\"showarrow\":false,\"text\":\"Year=2020\",\"x\":0.7914285714285713,\"xanchor\":\"center\",\"xref\":\"paper\",\"y\":1.0,\"yanchor\":\"bottom\",\"yref\":\"paper\"},{\"font\":{},\"showarrow\":false,\"text\":\"Year=2021\",\"x\":0.9371428571428569,\"xanchor\":\"center\",\"xref\":\"paper\",\"y\":1.0,\"yanchor\":\"bottom\",\"yref\":\"paper\"}],\"legend\":{\"title\":{\"text\":\"employment_type\"},\"tracegroupgap\":0},\"margin\":{\"t\":60},\"barmode\":\"relative\"},                        {\"responsive\": true}                    ).then(function(){\n",
       "                            \n",
       "var gd = document.getElementById('e3060be3-9a10-4ecc-a0d5-68f87b0593ba');\n",
       "var x = new MutationObserver(function (mutations, observer) {{\n",
       "        var display = window.getComputedStyle(gd).display;\n",
       "        if (!display || display === 'none') {{\n",
       "            console.log([gd, 'removed!']);\n",
       "            Plotly.purge(gd);\n",
       "            observer.disconnect();\n",
       "        }}\n",
       "}});\n",
       "\n",
       "// Listen for the removal of the full notebook cells\n",
       "var notebookContainer = gd.closest('#notebook-container');\n",
       "if (notebookContainer) {{\n",
       "    x.observe(notebookContainer, {childList: true});\n",
       "}}\n",
       "\n",
       "// Listen for the clearing of the current output cell\n",
       "var outputEl = gd.closest('.output');\n",
       "if (outputEl) {{\n",
       "    x.observe(outputEl, {childList: true});\n",
       "}}\n",
       "\n",
       "                        })                };                });            </script>        </div>"
      ]
     },
     "metadata": {},
     "output_type": "display_data"
    }
   ],
   "source": [
    "employment = pd.read_csv(\"employmentClean.csv\")\n",
    "\n",
    "employmentPlotData = employment[(employment.SchoolName.isin(schoolinput)) & \n",
    "                                (employment.Year.isin(yearinputs)) &\n",
    "                                (employment.term.isin(terminputs)) &\n",
    "                                (employment.time.isin(timeinputs))].copy()\n",
    "employmentPlotData = employmentPlotData.groupby(['SchoolName', 'Year', 'employment_type'], as_index = False).agg({'number_grads': 'sum'})\n",
    "employmentPlotData['% of grads'] = employmentPlotData['number_grads']/employmentPlotData.groupby(['SchoolName','Year'])['number_grads'].transform('sum')\n",
    "employment_comparison = px.bar(employmentPlotData,\n",
    "              x='SchoolName', y='% of grads', color = 'employment_type', \n",
    "             facet_col=\"Year\")\n",
    "employment_comparison\n"
   ]
  },
  {
   "cell_type": "code",
   "execution_count": 259,
   "id": "547a54c3",
   "metadata": {},
   "outputs": [
    {
     "data": {
      "application/vnd.plotly.v1+json": {
       "config": {
        "plotlyServerURL": "https://plot.ly"
       },
       "data": [
        {
         "alignmentgroup": "True",
         "hovertemplate": "employer_type=BusinessIndustry<br>Year=2015<br>SchoolName=%{x}<br>% of grads=%{y}<extra></extra>",
         "legendgroup": "BusinessIndustry",
         "marker": {
          "color": "#636efa",
          "pattern": {
           "shape": ""
          }
         },
         "name": "BusinessIndustry",
         "offsetgroup": "BusinessIndustry",
         "orientation": "v",
         "showlegend": true,
         "textposition": "auto",
         "type": "bar",
         "x": [
          "GEORGETOWN UNIVERSITY"
         ],
         "xaxis": "x",
         "y": [
          0.07568438003220612
         ],
         "yaxis": "y"
        },
        {
         "alignmentgroup": "True",
         "hovertemplate": "employer_type=BusinessIndustry<br>Year=2016<br>SchoolName=%{x}<br>% of grads=%{y}<extra></extra>",
         "legendgroup": "BusinessIndustry",
         "marker": {
          "color": "#636efa",
          "pattern": {
           "shape": ""
          }
         },
         "name": "BusinessIndustry",
         "offsetgroup": "BusinessIndustry",
         "orientation": "v",
         "showlegend": false,
         "textposition": "auto",
         "type": "bar",
         "x": [
          "GEORGETOWN UNIVERSITY"
         ],
         "xaxis": "x2",
         "y": [
          0.05090311986863711
         ],
         "yaxis": "y2"
        },
        {
         "alignmentgroup": "True",
         "hovertemplate": "employer_type=BusinessIndustry<br>Year=2017<br>SchoolName=%{x}<br>% of grads=%{y}<extra></extra>",
         "legendgroup": "BusinessIndustry",
         "marker": {
          "color": "#636efa",
          "pattern": {
           "shape": ""
          }
         },
         "name": "BusinessIndustry",
         "offsetgroup": "BusinessIndustry",
         "orientation": "v",
         "showlegend": false,
         "textposition": "auto",
         "type": "bar",
         "x": [
          "GEORGETOWN UNIVERSITY"
         ],
         "xaxis": "x3",
         "y": [
          0.060064935064935064
         ],
         "yaxis": "y3"
        },
        {
         "alignmentgroup": "True",
         "hovertemplate": "employer_type=BusinessIndustry<br>Year=2018<br>SchoolName=%{x}<br>% of grads=%{y}<extra></extra>",
         "legendgroup": "BusinessIndustry",
         "marker": {
          "color": "#636efa",
          "pattern": {
           "shape": ""
          }
         },
         "name": "BusinessIndustry",
         "offsetgroup": "BusinessIndustry",
         "orientation": "v",
         "showlegend": false,
         "textposition": "auto",
         "type": "bar",
         "x": [
          "GEORGETOWN UNIVERSITY"
         ],
         "xaxis": "x4",
         "y": [
          0.0372168284789644
         ],
         "yaxis": "y4"
        },
        {
         "alignmentgroup": "True",
         "hovertemplate": "employer_type=BusinessIndustry<br>Year=2019<br>SchoolName=%{x}<br>% of grads=%{y}<extra></extra>",
         "legendgroup": "BusinessIndustry",
         "marker": {
          "color": "#636efa",
          "pattern": {
           "shape": ""
          }
         },
         "name": "BusinessIndustry",
         "offsetgroup": "BusinessIndustry",
         "orientation": "v",
         "showlegend": false,
         "textposition": "auto",
         "type": "bar",
         "x": [
          "GEORGETOWN UNIVERSITY"
         ],
         "xaxis": "x5",
         "y": [
          0.057233704292527825
         ],
         "yaxis": "y5"
        },
        {
         "alignmentgroup": "True",
         "hovertemplate": "employer_type=BusinessIndustry<br>Year=2020<br>SchoolName=%{x}<br>% of grads=%{y}<extra></extra>",
         "legendgroup": "BusinessIndustry",
         "marker": {
          "color": "#636efa",
          "pattern": {
           "shape": ""
          }
         },
         "name": "BusinessIndustry",
         "offsetgroup": "BusinessIndustry",
         "orientation": "v",
         "showlegend": false,
         "textposition": "auto",
         "type": "bar",
         "x": [
          "GEORGETOWN UNIVERSITY"
         ],
         "xaxis": "x6",
         "y": [
          0.026397515527950312
         ],
         "yaxis": "y6"
        },
        {
         "alignmentgroup": "True",
         "hovertemplate": "employer_type=BusinessIndustry<br>Year=2021<br>SchoolName=%{x}<br>% of grads=%{y}<extra></extra>",
         "legendgroup": "BusinessIndustry",
         "marker": {
          "color": "#636efa",
          "pattern": {
           "shape": ""
          }
         },
         "name": "BusinessIndustry",
         "offsetgroup": "BusinessIndustry",
         "orientation": "v",
         "showlegend": false,
         "textposition": "auto",
         "type": "bar",
         "x": [
          "GEORGETOWN UNIVERSITY"
         ],
         "xaxis": "x7",
         "y": [
          0.0438871473354232
         ],
         "yaxis": "y7"
        },
        {
         "alignmentgroup": "True",
         "hovertemplate": "employer_type=ClerkshipsFederal<br>Year=2015<br>SchoolName=%{x}<br>% of grads=%{y}<extra></extra>",
         "legendgroup": "ClerkshipsFederal",
         "marker": {
          "color": "#EF553B",
          "pattern": {
           "shape": ""
          }
         },
         "name": "ClerkshipsFederal",
         "offsetgroup": "ClerkshipsFederal",
         "orientation": "v",
         "showlegend": true,
         "textposition": "auto",
         "type": "bar",
         "x": [
          "GEORGETOWN UNIVERSITY"
         ],
         "xaxis": "x",
         "y": [
          0.040257648953301126
         ],
         "yaxis": "y"
        },
        {
         "alignmentgroup": "True",
         "hovertemplate": "employer_type=ClerkshipsFederal<br>Year=2016<br>SchoolName=%{x}<br>% of grads=%{y}<extra></extra>",
         "legendgroup": "ClerkshipsFederal",
         "marker": {
          "color": "#EF553B",
          "pattern": {
           "shape": ""
          }
         },
         "name": "ClerkshipsFederal",
         "offsetgroup": "ClerkshipsFederal",
         "orientation": "v",
         "showlegend": false,
         "textposition": "auto",
         "type": "bar",
         "x": [
          "GEORGETOWN UNIVERSITY"
         ],
         "xaxis": "x2",
         "y": [
          0.059113300492610835
         ],
         "yaxis": "y2"
        },
        {
         "alignmentgroup": "True",
         "hovertemplate": "employer_type=ClerkshipsFederal<br>Year=2017<br>SchoolName=%{x}<br>% of grads=%{y}<extra></extra>",
         "legendgroup": "ClerkshipsFederal",
         "marker": {
          "color": "#EF553B",
          "pattern": {
           "shape": ""
          }
         },
         "name": "ClerkshipsFederal",
         "offsetgroup": "ClerkshipsFederal",
         "orientation": "v",
         "showlegend": false,
         "textposition": "auto",
         "type": "bar",
         "x": [
          "GEORGETOWN UNIVERSITY"
         ],
         "xaxis": "x3",
         "y": [
          0.04707792207792208
         ],
         "yaxis": "y3"
        },
        {
         "alignmentgroup": "True",
         "hovertemplate": "employer_type=ClerkshipsFederal<br>Year=2018<br>SchoolName=%{x}<br>% of grads=%{y}<extra></extra>",
         "legendgroup": "ClerkshipsFederal",
         "marker": {
          "color": "#EF553B",
          "pattern": {
           "shape": ""
          }
         },
         "name": "ClerkshipsFederal",
         "offsetgroup": "ClerkshipsFederal",
         "orientation": "v",
         "showlegend": false,
         "textposition": "auto",
         "type": "bar",
         "x": [
          "GEORGETOWN UNIVERSITY"
         ],
         "xaxis": "x4",
         "y": [
          0.04692556634304207
         ],
         "yaxis": "y4"
        },
        {
         "alignmentgroup": "True",
         "hovertemplate": "employer_type=ClerkshipsFederal<br>Year=2019<br>SchoolName=%{x}<br>% of grads=%{y}<extra></extra>",
         "legendgroup": "ClerkshipsFederal",
         "marker": {
          "color": "#EF553B",
          "pattern": {
           "shape": ""
          }
         },
         "name": "ClerkshipsFederal",
         "offsetgroup": "ClerkshipsFederal",
         "orientation": "v",
         "showlegend": false,
         "textposition": "auto",
         "type": "bar",
         "x": [
          "GEORGETOWN UNIVERSITY"
         ],
         "xaxis": "x5",
         "y": [
          0.058823529411764705
         ],
         "yaxis": "y5"
        },
        {
         "alignmentgroup": "True",
         "hovertemplate": "employer_type=ClerkshipsFederal<br>Year=2020<br>SchoolName=%{x}<br>% of grads=%{y}<extra></extra>",
         "legendgroup": "ClerkshipsFederal",
         "marker": {
          "color": "#EF553B",
          "pattern": {
           "shape": ""
          }
         },
         "name": "ClerkshipsFederal",
         "offsetgroup": "ClerkshipsFederal",
         "orientation": "v",
         "showlegend": false,
         "textposition": "auto",
         "type": "bar",
         "x": [
          "GEORGETOWN UNIVERSITY"
         ],
         "xaxis": "x6",
         "y": [
          0.06366459627329192
         ],
         "yaxis": "y6"
        },
        {
         "alignmentgroup": "True",
         "hovertemplate": "employer_type=ClerkshipsFederal<br>Year=2021<br>SchoolName=%{x}<br>% of grads=%{y}<extra></extra>",
         "legendgroup": "ClerkshipsFederal",
         "marker": {
          "color": "#EF553B",
          "pattern": {
           "shape": ""
          }
         },
         "name": "ClerkshipsFederal",
         "offsetgroup": "ClerkshipsFederal",
         "orientation": "v",
         "showlegend": false,
         "textposition": "auto",
         "type": "bar",
         "x": [
          "GEORGETOWN UNIVERSITY"
         ],
         "xaxis": "x7",
         "y": [
          0.05956112852664577
         ],
         "yaxis": "y7"
        },
        {
         "alignmentgroup": "True",
         "hovertemplate": "employer_type=ClerkshipsOther<br>Year=2015<br>SchoolName=%{x}<br>% of grads=%{y}<extra></extra>",
         "legendgroup": "ClerkshipsOther",
         "marker": {
          "color": "#00cc96",
          "pattern": {
           "shape": ""
          }
         },
         "name": "ClerkshipsOther",
         "offsetgroup": "ClerkshipsOther",
         "orientation": "v",
         "showlegend": true,
         "textposition": "auto",
         "type": "bar",
         "x": [
          "GEORGETOWN UNIVERSITY"
         ],
         "xaxis": "x",
         "y": [
          0.011272141706924315
         ],
         "yaxis": "y"
        },
        {
         "alignmentgroup": "True",
         "hovertemplate": "employer_type=ClerkshipsOther<br>Year=2016<br>SchoolName=%{x}<br>% of grads=%{y}<extra></extra>",
         "legendgroup": "ClerkshipsOther",
         "marker": {
          "color": "#00cc96",
          "pattern": {
           "shape": ""
          }
         },
         "name": "ClerkshipsOther",
         "offsetgroup": "ClerkshipsOther",
         "orientation": "v",
         "showlegend": false,
         "textposition": "auto",
         "type": "bar",
         "x": [
          "GEORGETOWN UNIVERSITY"
         ],
         "xaxis": "x2",
         "y": [
          0
         ],
         "yaxis": "y2"
        },
        {
         "alignmentgroup": "True",
         "hovertemplate": "employer_type=ClerkshipsOther<br>Year=2017<br>SchoolName=%{x}<br>% of grads=%{y}<extra></extra>",
         "legendgroup": "ClerkshipsOther",
         "marker": {
          "color": "#00cc96",
          "pattern": {
           "shape": ""
          }
         },
         "name": "ClerkshipsOther",
         "offsetgroup": "ClerkshipsOther",
         "orientation": "v",
         "showlegend": false,
         "textposition": "auto",
         "type": "bar",
         "x": [
          "GEORGETOWN UNIVERSITY"
         ],
         "xaxis": "x3",
         "y": [
          0.0016233766233766235
         ],
         "yaxis": "y3"
        },
        {
         "alignmentgroup": "True",
         "hovertemplate": "employer_type=ClerkshipsOther<br>Year=2018<br>SchoolName=%{x}<br>% of grads=%{y}<extra></extra>",
         "legendgroup": "ClerkshipsOther",
         "marker": {
          "color": "#00cc96",
          "pattern": {
           "shape": ""
          }
         },
         "name": "ClerkshipsOther",
         "offsetgroup": "ClerkshipsOther",
         "orientation": "v",
         "showlegend": false,
         "textposition": "auto",
         "type": "bar",
         "x": [
          "GEORGETOWN UNIVERSITY"
         ],
         "xaxis": "x4",
         "y": [
          0
         ],
         "yaxis": "y4"
        },
        {
         "alignmentgroup": "True",
         "hovertemplate": "employer_type=ClerkshipsOther<br>Year=2019<br>SchoolName=%{x}<br>% of grads=%{y}<extra></extra>",
         "legendgroup": "ClerkshipsOther",
         "marker": {
          "color": "#00cc96",
          "pattern": {
           "shape": ""
          }
         },
         "name": "ClerkshipsOther",
         "offsetgroup": "ClerkshipsOther",
         "orientation": "v",
         "showlegend": false,
         "textposition": "auto",
         "type": "bar",
         "x": [
          "GEORGETOWN UNIVERSITY"
         ],
         "xaxis": "x5",
         "y": [
          0
         ],
         "yaxis": "y5"
        },
        {
         "alignmentgroup": "True",
         "hovertemplate": "employer_type=ClerkshipsOther<br>Year=2020<br>SchoolName=%{x}<br>% of grads=%{y}<extra></extra>",
         "legendgroup": "ClerkshipsOther",
         "marker": {
          "color": "#00cc96",
          "pattern": {
           "shape": ""
          }
         },
         "name": "ClerkshipsOther",
         "offsetgroup": "ClerkshipsOther",
         "orientation": "v",
         "showlegend": false,
         "textposition": "auto",
         "type": "bar",
         "x": [
          "GEORGETOWN UNIVERSITY"
         ],
         "xaxis": "x6",
         "y": [
          0.0015527950310559005
         ],
         "yaxis": "y6"
        },
        {
         "alignmentgroup": "True",
         "hovertemplate": "employer_type=ClerkshipsOther<br>Year=2021<br>SchoolName=%{x}<br>% of grads=%{y}<extra></extra>",
         "legendgroup": "ClerkshipsOther",
         "marker": {
          "color": "#00cc96",
          "pattern": {
           "shape": ""
          }
         },
         "name": "ClerkshipsOther",
         "offsetgroup": "ClerkshipsOther",
         "orientation": "v",
         "showlegend": false,
         "textposition": "auto",
         "type": "bar",
         "x": [
          "GEORGETOWN UNIVERSITY"
         ],
         "xaxis": "x7",
         "y": [
          0.003134796238244514
         ],
         "yaxis": "y7"
        },
        {
         "alignmentgroup": "True",
         "hovertemplate": "employer_type=ClerkshipsStateLocal<br>Year=2015<br>SchoolName=%{x}<br>% of grads=%{y}<extra></extra>",
         "legendgroup": "ClerkshipsStateLocal",
         "marker": {
          "color": "#ab63fa",
          "pattern": {
           "shape": ""
          }
         },
         "name": "ClerkshipsStateLocal",
         "offsetgroup": "ClerkshipsStateLocal",
         "orientation": "v",
         "showlegend": true,
         "textposition": "auto",
         "type": "bar",
         "x": [
          "GEORGETOWN UNIVERSITY"
         ],
         "xaxis": "x",
         "y": [
          0.028985507246376812
         ],
         "yaxis": "y"
        },
        {
         "alignmentgroup": "True",
         "hovertemplate": "employer_type=ClerkshipsStateLocal<br>Year=2016<br>SchoolName=%{x}<br>% of grads=%{y}<extra></extra>",
         "legendgroup": "ClerkshipsStateLocal",
         "marker": {
          "color": "#ab63fa",
          "pattern": {
           "shape": ""
          }
         },
         "name": "ClerkshipsStateLocal",
         "offsetgroup": "ClerkshipsStateLocal",
         "orientation": "v",
         "showlegend": false,
         "textposition": "auto",
         "type": "bar",
         "x": [
          "GEORGETOWN UNIVERSITY"
         ],
         "xaxis": "x2",
         "y": [
          0.03940886699507389
         ],
         "yaxis": "y2"
        },
        {
         "alignmentgroup": "True",
         "hovertemplate": "employer_type=ClerkshipsStateLocal<br>Year=2017<br>SchoolName=%{x}<br>% of grads=%{y}<extra></extra>",
         "legendgroup": "ClerkshipsStateLocal",
         "marker": {
          "color": "#ab63fa",
          "pattern": {
           "shape": ""
          }
         },
         "name": "ClerkshipsStateLocal",
         "offsetgroup": "ClerkshipsStateLocal",
         "orientation": "v",
         "showlegend": false,
         "textposition": "auto",
         "type": "bar",
         "x": [
          "GEORGETOWN UNIVERSITY"
         ],
         "xaxis": "x3",
         "y": [
          0.032467532467532464
         ],
         "yaxis": "y3"
        },
        {
         "alignmentgroup": "True",
         "hovertemplate": "employer_type=ClerkshipsStateLocal<br>Year=2018<br>SchoolName=%{x}<br>% of grads=%{y}<extra></extra>",
         "legendgroup": "ClerkshipsStateLocal",
         "marker": {
          "color": "#ab63fa",
          "pattern": {
           "shape": ""
          }
         },
         "name": "ClerkshipsStateLocal",
         "offsetgroup": "ClerkshipsStateLocal",
         "orientation": "v",
         "showlegend": false,
         "textposition": "auto",
         "type": "bar",
         "x": [
          "GEORGETOWN UNIVERSITY"
         ],
         "xaxis": "x4",
         "y": [
          0.04692556634304207
         ],
         "yaxis": "y4"
        },
        {
         "alignmentgroup": "True",
         "hovertemplate": "employer_type=ClerkshipsStateLocal<br>Year=2019<br>SchoolName=%{x}<br>% of grads=%{y}<extra></extra>",
         "legendgroup": "ClerkshipsStateLocal",
         "marker": {
          "color": "#ab63fa",
          "pattern": {
           "shape": ""
          }
         },
         "name": "ClerkshipsStateLocal",
         "offsetgroup": "ClerkshipsStateLocal",
         "orientation": "v",
         "showlegend": false,
         "textposition": "auto",
         "type": "bar",
         "x": [
          "GEORGETOWN UNIVERSITY"
         ],
         "xaxis": "x5",
         "y": [
          0.05564387917329094
         ],
         "yaxis": "y5"
        },
        {
         "alignmentgroup": "True",
         "hovertemplate": "employer_type=ClerkshipsStateLocal<br>Year=2020<br>SchoolName=%{x}<br>% of grads=%{y}<extra></extra>",
         "legendgroup": "ClerkshipsStateLocal",
         "marker": {
          "color": "#ab63fa",
          "pattern": {
           "shape": ""
          }
         },
         "name": "ClerkshipsStateLocal",
         "offsetgroup": "ClerkshipsStateLocal",
         "orientation": "v",
         "showlegend": false,
         "textposition": "auto",
         "type": "bar",
         "x": [
          "GEORGETOWN UNIVERSITY"
         ],
         "xaxis": "x6",
         "y": [
          0.04192546583850932
         ],
         "yaxis": "y6"
        },
        {
         "alignmentgroup": "True",
         "hovertemplate": "employer_type=ClerkshipsStateLocal<br>Year=2021<br>SchoolName=%{x}<br>% of grads=%{y}<extra></extra>",
         "legendgroup": "ClerkshipsStateLocal",
         "marker": {
          "color": "#ab63fa",
          "pattern": {
           "shape": ""
          }
         },
         "name": "ClerkshipsStateLocal",
         "offsetgroup": "ClerkshipsStateLocal",
         "orientation": "v",
         "showlegend": false,
         "textposition": "auto",
         "type": "bar",
         "x": [
          "GEORGETOWN UNIVERSITY"
         ],
         "xaxis": "x7",
         "y": [
          0.05172413793103448
         ],
         "yaxis": "y7"
        },
        {
         "alignmentgroup": "True",
         "hovertemplate": "employer_type=Education<br>Year=2015<br>SchoolName=%{x}<br>% of grads=%{y}<extra></extra>",
         "legendgroup": "Education",
         "marker": {
          "color": "#FFA15A",
          "pattern": {
           "shape": ""
          }
         },
         "name": "Education",
         "offsetgroup": "Education",
         "orientation": "v",
         "showlegend": true,
         "textposition": "auto",
         "type": "bar",
         "x": [
          "GEORGETOWN UNIVERSITY"
         ],
         "xaxis": "x",
         "y": [
          0.01288244766505636
         ],
         "yaxis": "y"
        },
        {
         "alignmentgroup": "True",
         "hovertemplate": "employer_type=Education<br>Year=2016<br>SchoolName=%{x}<br>% of grads=%{y}<extra></extra>",
         "legendgroup": "Education",
         "marker": {
          "color": "#FFA15A",
          "pattern": {
           "shape": ""
          }
         },
         "name": "Education",
         "offsetgroup": "Education",
         "orientation": "v",
         "showlegend": false,
         "textposition": "auto",
         "type": "bar",
         "x": [
          "GEORGETOWN UNIVERSITY"
         ],
         "xaxis": "x2",
         "y": [
          0.008210180623973728
         ],
         "yaxis": "y2"
        },
        {
         "alignmentgroup": "True",
         "hovertemplate": "employer_type=Education<br>Year=2017<br>SchoolName=%{x}<br>% of grads=%{y}<extra></extra>",
         "legendgroup": "Education",
         "marker": {
          "color": "#FFA15A",
          "pattern": {
           "shape": ""
          }
         },
         "name": "Education",
         "offsetgroup": "Education",
         "orientation": "v",
         "showlegend": false,
         "textposition": "auto",
         "type": "bar",
         "x": [
          "GEORGETOWN UNIVERSITY"
         ],
         "xaxis": "x3",
         "y": [
          0.008116883116883116
         ],
         "yaxis": "y3"
        },
        {
         "alignmentgroup": "True",
         "hovertemplate": "employer_type=Education<br>Year=2018<br>SchoolName=%{x}<br>% of grads=%{y}<extra></extra>",
         "legendgroup": "Education",
         "marker": {
          "color": "#FFA15A",
          "pattern": {
           "shape": ""
          }
         },
         "name": "Education",
         "offsetgroup": "Education",
         "orientation": "v",
         "showlegend": false,
         "textposition": "auto",
         "type": "bar",
         "x": [
          "GEORGETOWN UNIVERSITY"
         ],
         "xaxis": "x4",
         "y": [
          0.0016181229773462784
         ],
         "yaxis": "y4"
        },
        {
         "alignmentgroup": "True",
         "hovertemplate": "employer_type=Education<br>Year=2019<br>SchoolName=%{x}<br>% of grads=%{y}<extra></extra>",
         "legendgroup": "Education",
         "marker": {
          "color": "#FFA15A",
          "pattern": {
           "shape": ""
          }
         },
         "name": "Education",
         "offsetgroup": "Education",
         "orientation": "v",
         "showlegend": false,
         "textposition": "auto",
         "type": "bar",
         "x": [
          "GEORGETOWN UNIVERSITY"
         ],
         "xaxis": "x5",
         "y": [
          0.003179650238473768
         ],
         "yaxis": "y5"
        },
        {
         "alignmentgroup": "True",
         "hovertemplate": "employer_type=Education<br>Year=2020<br>SchoolName=%{x}<br>% of grads=%{y}<extra></extra>",
         "legendgroup": "Education",
         "marker": {
          "color": "#FFA15A",
          "pattern": {
           "shape": ""
          }
         },
         "name": "Education",
         "offsetgroup": "Education",
         "orientation": "v",
         "showlegend": false,
         "textposition": "auto",
         "type": "bar",
         "x": [
          "GEORGETOWN UNIVERSITY"
         ],
         "xaxis": "x6",
         "y": [
          0.007763975155279503
         ],
         "yaxis": "y6"
        },
        {
         "alignmentgroup": "True",
         "hovertemplate": "employer_type=Education<br>Year=2021<br>SchoolName=%{x}<br>% of grads=%{y}<extra></extra>",
         "legendgroup": "Education",
         "marker": {
          "color": "#FFA15A",
          "pattern": {
           "shape": ""
          }
         },
         "name": "Education",
         "offsetgroup": "Education",
         "orientation": "v",
         "showlegend": false,
         "textposition": "auto",
         "type": "bar",
         "x": [
          "GEORGETOWN UNIVERSITY"
         ],
         "xaxis": "x7",
         "y": [
          0.003134796238244514
         ],
         "yaxis": "y7"
        },
        {
         "alignmentgroup": "True",
         "hovertemplate": "employer_type=EmployerTypeUnknown<br>Year=2015<br>SchoolName=%{x}<br>% of grads=%{y}<extra></extra>",
         "legendgroup": "EmployerTypeUnknown",
         "marker": {
          "color": "#19d3f3",
          "pattern": {
           "shape": ""
          }
         },
         "name": "EmployerTypeUnknown",
         "offsetgroup": "EmployerTypeUnknown",
         "orientation": "v",
         "showlegend": true,
         "textposition": "auto",
         "type": "bar",
         "x": [
          "GEORGETOWN UNIVERSITY"
         ],
         "xaxis": "x",
         "y": [
          0.001610305958132045
         ],
         "yaxis": "y"
        },
        {
         "alignmentgroup": "True",
         "hovertemplate": "employer_type=EmployerTypeUnknown<br>Year=2016<br>SchoolName=%{x}<br>% of grads=%{y}<extra></extra>",
         "legendgroup": "EmployerTypeUnknown",
         "marker": {
          "color": "#19d3f3",
          "pattern": {
           "shape": ""
          }
         },
         "name": "EmployerTypeUnknown",
         "offsetgroup": "EmployerTypeUnknown",
         "orientation": "v",
         "showlegend": false,
         "textposition": "auto",
         "type": "bar",
         "x": [
          "GEORGETOWN UNIVERSITY"
         ],
         "xaxis": "x2",
         "y": [
          0
         ],
         "yaxis": "y2"
        },
        {
         "alignmentgroup": "True",
         "hovertemplate": "employer_type=EmployerTypeUnknown<br>Year=2017<br>SchoolName=%{x}<br>% of grads=%{y}<extra></extra>",
         "legendgroup": "EmployerTypeUnknown",
         "marker": {
          "color": "#19d3f3",
          "pattern": {
           "shape": ""
          }
         },
         "name": "EmployerTypeUnknown",
         "offsetgroup": "EmployerTypeUnknown",
         "orientation": "v",
         "showlegend": false,
         "textposition": "auto",
         "type": "bar",
         "x": [
          "GEORGETOWN UNIVERSITY"
         ],
         "xaxis": "x3",
         "y": [
          0
         ],
         "yaxis": "y3"
        },
        {
         "alignmentgroup": "True",
         "hovertemplate": "employer_type=EmployerTypeUnknown<br>Year=2018<br>SchoolName=%{x}<br>% of grads=%{y}<extra></extra>",
         "legendgroup": "EmployerTypeUnknown",
         "marker": {
          "color": "#19d3f3",
          "pattern": {
           "shape": ""
          }
         },
         "name": "EmployerTypeUnknown",
         "offsetgroup": "EmployerTypeUnknown",
         "orientation": "v",
         "showlegend": false,
         "textposition": "auto",
         "type": "bar",
         "x": [
          "GEORGETOWN UNIVERSITY"
         ],
         "xaxis": "x4",
         "y": [
          0
         ],
         "yaxis": "y4"
        },
        {
         "alignmentgroup": "True",
         "hovertemplate": "employer_type=EmployerTypeUnknown<br>Year=2019<br>SchoolName=%{x}<br>% of grads=%{y}<extra></extra>",
         "legendgroup": "EmployerTypeUnknown",
         "marker": {
          "color": "#19d3f3",
          "pattern": {
           "shape": ""
          }
         },
         "name": "EmployerTypeUnknown",
         "offsetgroup": "EmployerTypeUnknown",
         "orientation": "v",
         "showlegend": false,
         "textposition": "auto",
         "type": "bar",
         "x": [
          "GEORGETOWN UNIVERSITY"
         ],
         "xaxis": "x5",
         "y": [
          0
         ],
         "yaxis": "y5"
        },
        {
         "alignmentgroup": "True",
         "hovertemplate": "employer_type=EmployerTypeUnknown<br>Year=2020<br>SchoolName=%{x}<br>% of grads=%{y}<extra></extra>",
         "legendgroup": "EmployerTypeUnknown",
         "marker": {
          "color": "#19d3f3",
          "pattern": {
           "shape": ""
          }
         },
         "name": "EmployerTypeUnknown",
         "offsetgroup": "EmployerTypeUnknown",
         "orientation": "v",
         "showlegend": false,
         "textposition": "auto",
         "type": "bar",
         "x": [
          "GEORGETOWN UNIVERSITY"
         ],
         "xaxis": "x6",
         "y": [
          0
         ],
         "yaxis": "y6"
        },
        {
         "alignmentgroup": "True",
         "hovertemplate": "employer_type=EmployerTypeUnknown<br>Year=2021<br>SchoolName=%{x}<br>% of grads=%{y}<extra></extra>",
         "legendgroup": "EmployerTypeUnknown",
         "marker": {
          "color": "#19d3f3",
          "pattern": {
           "shape": ""
          }
         },
         "name": "EmployerTypeUnknown",
         "offsetgroup": "EmployerTypeUnknown",
         "orientation": "v",
         "showlegend": false,
         "textposition": "auto",
         "type": "bar",
         "x": [
          "GEORGETOWN UNIVERSITY"
         ],
         "xaxis": "x7",
         "y": [
          0
         ],
         "yaxis": "y7"
        },
        {
         "alignmentgroup": "True",
         "hovertemplate": "employer_type=Government<br>Year=2015<br>SchoolName=%{x}<br>% of grads=%{y}<extra></extra>",
         "legendgroup": "Government",
         "marker": {
          "color": "#FF6692",
          "pattern": {
           "shape": ""
          }
         },
         "name": "Government",
         "offsetgroup": "Government",
         "orientation": "v",
         "showlegend": true,
         "textposition": "auto",
         "type": "bar",
         "x": [
          "GEORGETOWN UNIVERSITY"
         ],
         "xaxis": "x",
         "y": [
          0.1529790660225443
         ],
         "yaxis": "y"
        },
        {
         "alignmentgroup": "True",
         "hovertemplate": "employer_type=Government<br>Year=2016<br>SchoolName=%{x}<br>% of grads=%{y}<extra></extra>",
         "legendgroup": "Government",
         "marker": {
          "color": "#FF6692",
          "pattern": {
           "shape": ""
          }
         },
         "name": "Government",
         "offsetgroup": "Government",
         "orientation": "v",
         "showlegend": false,
         "textposition": "auto",
         "type": "bar",
         "x": [
          "GEORGETOWN UNIVERSITY"
         ],
         "xaxis": "x2",
         "y": [
          0.17077175697865354
         ],
         "yaxis": "y2"
        },
        {
         "alignmentgroup": "True",
         "hovertemplate": "employer_type=Government<br>Year=2017<br>SchoolName=%{x}<br>% of grads=%{y}<extra></extra>",
         "legendgroup": "Government",
         "marker": {
          "color": "#FF6692",
          "pattern": {
           "shape": ""
          }
         },
         "name": "Government",
         "offsetgroup": "Government",
         "orientation": "v",
         "showlegend": false,
         "textposition": "auto",
         "type": "bar",
         "x": [
          "GEORGETOWN UNIVERSITY"
         ],
         "xaxis": "x3",
         "y": [
          0.09902597402597403
         ],
         "yaxis": "y3"
        },
        {
         "alignmentgroup": "True",
         "hovertemplate": "employer_type=Government<br>Year=2018<br>SchoolName=%{x}<br>% of grads=%{y}<extra></extra>",
         "legendgroup": "Government",
         "marker": {
          "color": "#FF6692",
          "pattern": {
           "shape": ""
          }
         },
         "name": "Government",
         "offsetgroup": "Government",
         "orientation": "v",
         "showlegend": false,
         "textposition": "auto",
         "type": "bar",
         "x": [
          "GEORGETOWN UNIVERSITY"
         ],
         "xaxis": "x4",
         "y": [
          0.10679611650485436
         ],
         "yaxis": "y4"
        },
        {
         "alignmentgroup": "True",
         "hovertemplate": "employer_type=Government<br>Year=2019<br>SchoolName=%{x}<br>% of grads=%{y}<extra></extra>",
         "legendgroup": "Government",
         "marker": {
          "color": "#FF6692",
          "pattern": {
           "shape": ""
          }
         },
         "name": "Government",
         "offsetgroup": "Government",
         "orientation": "v",
         "showlegend": false,
         "textposition": "auto",
         "type": "bar",
         "x": [
          "GEORGETOWN UNIVERSITY"
         ],
         "xaxis": "x5",
         "y": [
          0.11764705882352941
         ],
         "yaxis": "y5"
        },
        {
         "alignmentgroup": "True",
         "hovertemplate": "employer_type=Government<br>Year=2020<br>SchoolName=%{x}<br>% of grads=%{y}<extra></extra>",
         "legendgroup": "Government",
         "marker": {
          "color": "#FF6692",
          "pattern": {
           "shape": ""
          }
         },
         "name": "Government",
         "offsetgroup": "Government",
         "orientation": "v",
         "showlegend": false,
         "textposition": "auto",
         "type": "bar",
         "x": [
          "GEORGETOWN UNIVERSITY"
         ],
         "xaxis": "x6",
         "y": [
          0.08540372670807453
         ],
         "yaxis": "y6"
        },
        {
         "alignmentgroup": "True",
         "hovertemplate": "employer_type=Government<br>Year=2021<br>SchoolName=%{x}<br>% of grads=%{y}<extra></extra>",
         "legendgroup": "Government",
         "marker": {
          "color": "#FF6692",
          "pattern": {
           "shape": ""
          }
         },
         "name": "Government",
         "offsetgroup": "Government",
         "orientation": "v",
         "showlegend": false,
         "textposition": "auto",
         "type": "bar",
         "x": [
          "GEORGETOWN UNIVERSITY"
         ],
         "xaxis": "x7",
         "y": [
          0.08463949843260188
         ],
         "yaxis": "y7"
        },
        {
         "alignmentgroup": "True",
         "hovertemplate": "employer_type=Law Firm 1-10<br>Year=2015<br>SchoolName=%{x}<br>% of grads=%{y}<extra></extra>",
         "legendgroup": "Law Firm 1-10",
         "marker": {
          "color": "#B6E880",
          "pattern": {
           "shape": ""
          }
         },
         "name": "Law Firm 1-10",
         "offsetgroup": "Law Firm 1-10",
         "orientation": "v",
         "showlegend": true,
         "textposition": "auto",
         "type": "bar",
         "x": [
          "GEORGETOWN UNIVERSITY"
         ],
         "xaxis": "x",
         "y": [
          0.027375201288244767
         ],
         "yaxis": "y"
        },
        {
         "alignmentgroup": "True",
         "hovertemplate": "employer_type=Law Firm 1-10<br>Year=2016<br>SchoolName=%{x}<br>% of grads=%{y}<extra></extra>",
         "legendgroup": "Law Firm 1-10",
         "marker": {
          "color": "#B6E880",
          "pattern": {
           "shape": ""
          }
         },
         "name": "Law Firm 1-10",
         "offsetgroup": "Law Firm 1-10",
         "orientation": "v",
         "showlegend": false,
         "textposition": "auto",
         "type": "bar",
         "x": [
          "GEORGETOWN UNIVERSITY"
         ],
         "xaxis": "x2",
         "y": [
          0.0361247947454844
         ],
         "yaxis": "y2"
        },
        {
         "alignmentgroup": "True",
         "hovertemplate": "employer_type=Law Firm 1-10<br>Year=2017<br>SchoolName=%{x}<br>% of grads=%{y}<extra></extra>",
         "legendgroup": "Law Firm 1-10",
         "marker": {
          "color": "#B6E880",
          "pattern": {
           "shape": ""
          }
         },
         "name": "Law Firm 1-10",
         "offsetgroup": "Law Firm 1-10",
         "orientation": "v",
         "showlegend": false,
         "textposition": "auto",
         "type": "bar",
         "x": [
          "GEORGETOWN UNIVERSITY"
         ],
         "xaxis": "x3",
         "y": [
          0.025974025974025976
         ],
         "yaxis": "y3"
        },
        {
         "alignmentgroup": "True",
         "hovertemplate": "employer_type=Law Firm 1-10<br>Year=2018<br>SchoolName=%{x}<br>% of grads=%{y}<extra></extra>",
         "legendgroup": "Law Firm 1-10",
         "marker": {
          "color": "#B6E880",
          "pattern": {
           "shape": ""
          }
         },
         "name": "Law Firm 1-10",
         "offsetgroup": "Law Firm 1-10",
         "orientation": "v",
         "showlegend": false,
         "textposition": "auto",
         "type": "bar",
         "x": [
          "GEORGETOWN UNIVERSITY"
         ],
         "xaxis": "x4",
         "y": [
          0.01779935275080906
         ],
         "yaxis": "y4"
        },
        {
         "alignmentgroup": "True",
         "hovertemplate": "employer_type=Law Firm 1-10<br>Year=2019<br>SchoolName=%{x}<br>% of grads=%{y}<extra></extra>",
         "legendgroup": "Law Firm 1-10",
         "marker": {
          "color": "#B6E880",
          "pattern": {
           "shape": ""
          }
         },
         "name": "Law Firm 1-10",
         "offsetgroup": "Law Firm 1-10",
         "orientation": "v",
         "showlegend": false,
         "textposition": "auto",
         "type": "bar",
         "x": [
          "GEORGETOWN UNIVERSITY"
         ],
         "xaxis": "x5",
         "y": [
          0.030206677265500796
         ],
         "yaxis": "y5"
        },
        {
         "alignmentgroup": "True",
         "hovertemplate": "employer_type=Law Firm 1-10<br>Year=2020<br>SchoolName=%{x}<br>% of grads=%{y}<extra></extra>",
         "legendgroup": "Law Firm 1-10",
         "marker": {
          "color": "#B6E880",
          "pattern": {
           "shape": ""
          }
         },
         "name": "Law Firm 1-10",
         "offsetgroup": "Law Firm 1-10",
         "orientation": "v",
         "showlegend": false,
         "textposition": "auto",
         "type": "bar",
         "x": [
          "GEORGETOWN UNIVERSITY"
         ],
         "xaxis": "x6",
         "y": [
          0.015527950310559006
         ],
         "yaxis": "y6"
        },
        {
         "alignmentgroup": "True",
         "hovertemplate": "employer_type=Law Firm 1-10<br>Year=2021<br>SchoolName=%{x}<br>% of grads=%{y}<extra></extra>",
         "legendgroup": "Law Firm 1-10",
         "marker": {
          "color": "#B6E880",
          "pattern": {
           "shape": ""
          }
         },
         "name": "Law Firm 1-10",
         "offsetgroup": "Law Firm 1-10",
         "orientation": "v",
         "showlegend": false,
         "textposition": "auto",
         "type": "bar",
         "x": [
          "GEORGETOWN UNIVERSITY"
         ],
         "xaxis": "x7",
         "y": [
          0.014106583072100314
         ],
         "yaxis": "y7"
        },
        {
         "alignmentgroup": "True",
         "hovertemplate": "employer_type=Law Firm 101-250<br>Year=2015<br>SchoolName=%{x}<br>% of grads=%{y}<extra></extra>",
         "legendgroup": "Law Firm 101-250",
         "marker": {
          "color": "#FF97FF",
          "pattern": {
           "shape": ""
          }
         },
         "name": "Law Firm 101-250",
         "offsetgroup": "Law Firm 101-250",
         "orientation": "v",
         "showlegend": true,
         "textposition": "auto",
         "type": "bar",
         "x": [
          "GEORGETOWN UNIVERSITY"
         ],
         "xaxis": "x",
         "y": [
          0.030595813204508857
         ],
         "yaxis": "y"
        },
        {
         "alignmentgroup": "True",
         "hovertemplate": "employer_type=Law Firm 101-250<br>Year=2016<br>SchoolName=%{x}<br>% of grads=%{y}<extra></extra>",
         "legendgroup": "Law Firm 101-250",
         "marker": {
          "color": "#FF97FF",
          "pattern": {
           "shape": ""
          }
         },
         "name": "Law Firm 101-250",
         "offsetgroup": "Law Firm 101-250",
         "orientation": "v",
         "showlegend": false,
         "textposition": "auto",
         "type": "bar",
         "x": [
          "GEORGETOWN UNIVERSITY"
         ],
         "xaxis": "x2",
         "y": [
          0.027914614121510674
         ],
         "yaxis": "y2"
        },
        {
         "alignmentgroup": "True",
         "hovertemplate": "employer_type=Law Firm 101-250<br>Year=2017<br>SchoolName=%{x}<br>% of grads=%{y}<extra></extra>",
         "legendgroup": "Law Firm 101-250",
         "marker": {
          "color": "#FF97FF",
          "pattern": {
           "shape": ""
          }
         },
         "name": "Law Firm 101-250",
         "offsetgroup": "Law Firm 101-250",
         "orientation": "v",
         "showlegend": false,
         "textposition": "auto",
         "type": "bar",
         "x": [
          "GEORGETOWN UNIVERSITY"
         ],
         "xaxis": "x3",
         "y": [
          0.03896103896103896
         ],
         "yaxis": "y3"
        },
        {
         "alignmentgroup": "True",
         "hovertemplate": "employer_type=Law Firm 101-250<br>Year=2018<br>SchoolName=%{x}<br>% of grads=%{y}<extra></extra>",
         "legendgroup": "Law Firm 101-250",
         "marker": {
          "color": "#FF97FF",
          "pattern": {
           "shape": ""
          }
         },
         "name": "Law Firm 101-250",
         "offsetgroup": "Law Firm 101-250",
         "orientation": "v",
         "showlegend": false,
         "textposition": "auto",
         "type": "bar",
         "x": [
          "GEORGETOWN UNIVERSITY"
         ],
         "xaxis": "x4",
         "y": [
          0.024271844660194174
         ],
         "yaxis": "y4"
        },
        {
         "alignmentgroup": "True",
         "hovertemplate": "employer_type=Law Firm 101-250<br>Year=2019<br>SchoolName=%{x}<br>% of grads=%{y}<extra></extra>",
         "legendgroup": "Law Firm 101-250",
         "marker": {
          "color": "#FF97FF",
          "pattern": {
           "shape": ""
          }
         },
         "name": "Law Firm 101-250",
         "offsetgroup": "Law Firm 101-250",
         "orientation": "v",
         "showlegend": false,
         "textposition": "auto",
         "type": "bar",
         "x": [
          "GEORGETOWN UNIVERSITY"
         ],
         "xaxis": "x5",
         "y": [
          0.02702702702702703
         ],
         "yaxis": "y5"
        },
        {
         "alignmentgroup": "True",
         "hovertemplate": "employer_type=Law Firm 101-250<br>Year=2020<br>SchoolName=%{x}<br>% of grads=%{y}<extra></extra>",
         "legendgroup": "Law Firm 101-250",
         "marker": {
          "color": "#FF97FF",
          "pattern": {
           "shape": ""
          }
         },
         "name": "Law Firm 101-250",
         "offsetgroup": "Law Firm 101-250",
         "orientation": "v",
         "showlegend": false,
         "textposition": "auto",
         "type": "bar",
         "x": [
          "GEORGETOWN UNIVERSITY"
         ],
         "xaxis": "x6",
         "y": [
          0.029503105590062112
         ],
         "yaxis": "y6"
        },
        {
         "alignmentgroup": "True",
         "hovertemplate": "employer_type=Law Firm 101-250<br>Year=2021<br>SchoolName=%{x}<br>% of grads=%{y}<extra></extra>",
         "legendgroup": "Law Firm 101-250",
         "marker": {
          "color": "#FF97FF",
          "pattern": {
           "shape": ""
          }
         },
         "name": "Law Firm 101-250",
         "offsetgroup": "Law Firm 101-250",
         "orientation": "v",
         "showlegend": false,
         "textposition": "auto",
         "type": "bar",
         "x": [
          "GEORGETOWN UNIVERSITY"
         ],
         "xaxis": "x7",
         "y": [
          0.029780564263322883
         ],
         "yaxis": "y7"
        },
        {
         "alignmentgroup": "True",
         "hovertemplate": "employer_type=Law Firm 11-25<br>Year=2015<br>SchoolName=%{x}<br>% of grads=%{y}<extra></extra>",
         "legendgroup": "Law Firm 11-25",
         "marker": {
          "color": "#FECB52",
          "pattern": {
           "shape": ""
          }
         },
         "name": "Law Firm 11-25",
         "offsetgroup": "Law Firm 11-25",
         "orientation": "v",
         "showlegend": true,
         "textposition": "auto",
         "type": "bar",
         "x": [
          "GEORGETOWN UNIVERSITY"
         ],
         "xaxis": "x",
         "y": [
          0.02254428341384863
         ],
         "yaxis": "y"
        },
        {
         "alignmentgroup": "True",
         "hovertemplate": "employer_type=Law Firm 11-25<br>Year=2016<br>SchoolName=%{x}<br>% of grads=%{y}<extra></extra>",
         "legendgroup": "Law Firm 11-25",
         "marker": {
          "color": "#FECB52",
          "pattern": {
           "shape": ""
          }
         },
         "name": "Law Firm 11-25",
         "offsetgroup": "Law Firm 11-25",
         "orientation": "v",
         "showlegend": false,
         "textposition": "auto",
         "type": "bar",
         "x": [
          "GEORGETOWN UNIVERSITY"
         ],
         "xaxis": "x2",
         "y": [
          0.019704433497536946
         ],
         "yaxis": "y2"
        },
        {
         "alignmentgroup": "True",
         "hovertemplate": "employer_type=Law Firm 11-25<br>Year=2017<br>SchoolName=%{x}<br>% of grads=%{y}<extra></extra>",
         "legendgroup": "Law Firm 11-25",
         "marker": {
          "color": "#FECB52",
          "pattern": {
           "shape": ""
          }
         },
         "name": "Law Firm 11-25",
         "offsetgroup": "Law Firm 11-25",
         "orientation": "v",
         "showlegend": false,
         "textposition": "auto",
         "type": "bar",
         "x": [
          "GEORGETOWN UNIVERSITY"
         ],
         "xaxis": "x3",
         "y": [
          0.008116883116883116
         ],
         "yaxis": "y3"
        },
        {
         "alignmentgroup": "True",
         "hovertemplate": "employer_type=Law Firm 11-25<br>Year=2018<br>SchoolName=%{x}<br>% of grads=%{y}<extra></extra>",
         "legendgroup": "Law Firm 11-25",
         "marker": {
          "color": "#FECB52",
          "pattern": {
           "shape": ""
          }
         },
         "name": "Law Firm 11-25",
         "offsetgroup": "Law Firm 11-25",
         "orientation": "v",
         "showlegend": false,
         "textposition": "auto",
         "type": "bar",
         "x": [
          "GEORGETOWN UNIVERSITY"
         ],
         "xaxis": "x4",
         "y": [
          0.014563106796116505
         ],
         "yaxis": "y4"
        },
        {
         "alignmentgroup": "True",
         "hovertemplate": "employer_type=Law Firm 11-25<br>Year=2019<br>SchoolName=%{x}<br>% of grads=%{y}<extra></extra>",
         "legendgroup": "Law Firm 11-25",
         "marker": {
          "color": "#FECB52",
          "pattern": {
           "shape": ""
          }
         },
         "name": "Law Firm 11-25",
         "offsetgroup": "Law Firm 11-25",
         "orientation": "v",
         "showlegend": false,
         "textposition": "auto",
         "type": "bar",
         "x": [
          "GEORGETOWN UNIVERSITY"
         ],
         "xaxis": "x5",
         "y": [
          0.014308426073131956
         ],
         "yaxis": "y5"
        },
        {
         "alignmentgroup": "True",
         "hovertemplate": "employer_type=Law Firm 11-25<br>Year=2020<br>SchoolName=%{x}<br>% of grads=%{y}<extra></extra>",
         "legendgroup": "Law Firm 11-25",
         "marker": {
          "color": "#FECB52",
          "pattern": {
           "shape": ""
          }
         },
         "name": "Law Firm 11-25",
         "offsetgroup": "Law Firm 11-25",
         "orientation": "v",
         "showlegend": false,
         "textposition": "auto",
         "type": "bar",
         "x": [
          "GEORGETOWN UNIVERSITY"
         ],
         "xaxis": "x6",
         "y": [
          0.007763975155279503
         ],
         "yaxis": "y6"
        },
        {
         "alignmentgroup": "True",
         "hovertemplate": "employer_type=Law Firm 11-25<br>Year=2021<br>SchoolName=%{x}<br>% of grads=%{y}<extra></extra>",
         "legendgroup": "Law Firm 11-25",
         "marker": {
          "color": "#FECB52",
          "pattern": {
           "shape": ""
          }
         },
         "name": "Law Firm 11-25",
         "offsetgroup": "Law Firm 11-25",
         "orientation": "v",
         "showlegend": false,
         "textposition": "auto",
         "type": "bar",
         "x": [
          "GEORGETOWN UNIVERSITY"
         ],
         "xaxis": "x7",
         "y": [
          0.017241379310344827
         ],
         "yaxis": "y7"
        },
        {
         "alignmentgroup": "True",
         "hovertemplate": "employer_type=Law Firm 251-500<br>Year=2015<br>SchoolName=%{x}<br>% of grads=%{y}<extra></extra>",
         "legendgroup": "Law Firm 251-500",
         "marker": {
          "color": "#636efa",
          "pattern": {
           "shape": ""
          }
         },
         "name": "Law Firm 251-500",
         "offsetgroup": "Law Firm 251-500",
         "orientation": "v",
         "showlegend": true,
         "textposition": "auto",
         "type": "bar",
         "x": [
          "GEORGETOWN UNIVERSITY"
         ],
         "xaxis": "x",
         "y": [
          0.0644122383252818
         ],
         "yaxis": "y"
        },
        {
         "alignmentgroup": "True",
         "hovertemplate": "employer_type=Law Firm 251-500<br>Year=2016<br>SchoolName=%{x}<br>% of grads=%{y}<extra></extra>",
         "legendgroup": "Law Firm 251-500",
         "marker": {
          "color": "#636efa",
          "pattern": {
           "shape": ""
          }
         },
         "name": "Law Firm 251-500",
         "offsetgroup": "Law Firm 251-500",
         "orientation": "v",
         "showlegend": false,
         "textposition": "auto",
         "type": "bar",
         "x": [
          "GEORGETOWN UNIVERSITY"
         ],
         "xaxis": "x2",
         "y": [
          0.052545155993431854
         ],
         "yaxis": "y2"
        },
        {
         "alignmentgroup": "True",
         "hovertemplate": "employer_type=Law Firm 251-500<br>Year=2017<br>SchoolName=%{x}<br>% of grads=%{y}<extra></extra>",
         "legendgroup": "Law Firm 251-500",
         "marker": {
          "color": "#636efa",
          "pattern": {
           "shape": ""
          }
         },
         "name": "Law Firm 251-500",
         "offsetgroup": "Law Firm 251-500",
         "orientation": "v",
         "showlegend": false,
         "textposition": "auto",
         "type": "bar",
         "x": [
          "GEORGETOWN UNIVERSITY"
         ],
         "xaxis": "x3",
         "y": [
          0.08766233766233766
         ],
         "yaxis": "y3"
        },
        {
         "alignmentgroup": "True",
         "hovertemplate": "employer_type=Law Firm 251-500<br>Year=2018<br>SchoolName=%{x}<br>% of grads=%{y}<extra></extra>",
         "legendgroup": "Law Firm 251-500",
         "marker": {
          "color": "#636efa",
          "pattern": {
           "shape": ""
          }
         },
         "name": "Law Firm 251-500",
         "offsetgroup": "Law Firm 251-500",
         "orientation": "v",
         "showlegend": false,
         "textposition": "auto",
         "type": "bar",
         "x": [
          "GEORGETOWN UNIVERSITY"
         ],
         "xaxis": "x4",
         "y": [
          0.06472491909385113
         ],
         "yaxis": "y4"
        },
        {
         "alignmentgroup": "True",
         "hovertemplate": "employer_type=Law Firm 251-500<br>Year=2019<br>SchoolName=%{x}<br>% of grads=%{y}<extra></extra>",
         "legendgroup": "Law Firm 251-500",
         "marker": {
          "color": "#636efa",
          "pattern": {
           "shape": ""
          }
         },
         "name": "Law Firm 251-500",
         "offsetgroup": "Law Firm 251-500",
         "orientation": "v",
         "showlegend": false,
         "textposition": "auto",
         "type": "bar",
         "x": [
          "GEORGETOWN UNIVERSITY"
         ],
         "xaxis": "x5",
         "y": [
          0.058823529411764705
         ],
         "yaxis": "y5"
        },
        {
         "alignmentgroup": "True",
         "hovertemplate": "employer_type=Law Firm 251-500<br>Year=2020<br>SchoolName=%{x}<br>% of grads=%{y}<extra></extra>",
         "legendgroup": "Law Firm 251-500",
         "marker": {
          "color": "#636efa",
          "pattern": {
           "shape": ""
          }
         },
         "name": "Law Firm 251-500",
         "offsetgroup": "Law Firm 251-500",
         "orientation": "v",
         "showlegend": false,
         "textposition": "auto",
         "type": "bar",
         "x": [
          "GEORGETOWN UNIVERSITY"
         ],
         "xaxis": "x6",
         "y": [
          0.06521739130434782
         ],
         "yaxis": "y6"
        },
        {
         "alignmentgroup": "True",
         "hovertemplate": "employer_type=Law Firm 251-500<br>Year=2021<br>SchoolName=%{x}<br>% of grads=%{y}<extra></extra>",
         "legendgroup": "Law Firm 251-500",
         "marker": {
          "color": "#636efa",
          "pattern": {
           "shape": ""
          }
         },
         "name": "Law Firm 251-500",
         "offsetgroup": "Law Firm 251-500",
         "orientation": "v",
         "showlegend": false,
         "textposition": "auto",
         "type": "bar",
         "x": [
          "GEORGETOWN UNIVERSITY"
         ],
         "xaxis": "x7",
         "y": [
          0.0768025078369906
         ],
         "yaxis": "y7"
        },
        {
         "alignmentgroup": "True",
         "hovertemplate": "employer_type=Law Firm 26-50<br>Year=2015<br>SchoolName=%{x}<br>% of grads=%{y}<extra></extra>",
         "legendgroup": "Law Firm 26-50",
         "marker": {
          "color": "#EF553B",
          "pattern": {
           "shape": ""
          }
         },
         "name": "Law Firm 26-50",
         "offsetgroup": "Law Firm 26-50",
         "orientation": "v",
         "showlegend": true,
         "textposition": "auto",
         "type": "bar",
         "x": [
          "GEORGETOWN UNIVERSITY"
         ],
         "xaxis": "x",
         "y": [
          0.00966183574879227
         ],
         "yaxis": "y"
        },
        {
         "alignmentgroup": "True",
         "hovertemplate": "employer_type=Law Firm 26-50<br>Year=2016<br>SchoolName=%{x}<br>% of grads=%{y}<extra></extra>",
         "legendgroup": "Law Firm 26-50",
         "marker": {
          "color": "#EF553B",
          "pattern": {
           "shape": ""
          }
         },
         "name": "Law Firm 26-50",
         "offsetgroup": "Law Firm 26-50",
         "orientation": "v",
         "showlegend": false,
         "textposition": "auto",
         "type": "bar",
         "x": [
          "GEORGETOWN UNIVERSITY"
         ],
         "xaxis": "x2",
         "y": [
          0.014778325123152709
         ],
         "yaxis": "y2"
        },
        {
         "alignmentgroup": "True",
         "hovertemplate": "employer_type=Law Firm 26-50<br>Year=2017<br>SchoolName=%{x}<br>% of grads=%{y}<extra></extra>",
         "legendgroup": "Law Firm 26-50",
         "marker": {
          "color": "#EF553B",
          "pattern": {
           "shape": ""
          }
         },
         "name": "Law Firm 26-50",
         "offsetgroup": "Law Firm 26-50",
         "orientation": "v",
         "showlegend": false,
         "textposition": "auto",
         "type": "bar",
         "x": [
          "GEORGETOWN UNIVERSITY"
         ],
         "xaxis": "x3",
         "y": [
          0.006493506493506494
         ],
         "yaxis": "y3"
        },
        {
         "alignmentgroup": "True",
         "hovertemplate": "employer_type=Law Firm 26-50<br>Year=2018<br>SchoolName=%{x}<br>% of grads=%{y}<extra></extra>",
         "legendgroup": "Law Firm 26-50",
         "marker": {
          "color": "#EF553B",
          "pattern": {
           "shape": ""
          }
         },
         "name": "Law Firm 26-50",
         "offsetgroup": "Law Firm 26-50",
         "orientation": "v",
         "showlegend": false,
         "textposition": "auto",
         "type": "bar",
         "x": [
          "GEORGETOWN UNIVERSITY"
         ],
         "xaxis": "x4",
         "y": [
          0.009708737864077669
         ],
         "yaxis": "y4"
        },
        {
         "alignmentgroup": "True",
         "hovertemplate": "employer_type=Law Firm 26-50<br>Year=2019<br>SchoolName=%{x}<br>% of grads=%{y}<extra></extra>",
         "legendgroup": "Law Firm 26-50",
         "marker": {
          "color": "#EF553B",
          "pattern": {
           "shape": ""
          }
         },
         "name": "Law Firm 26-50",
         "offsetgroup": "Law Firm 26-50",
         "orientation": "v",
         "showlegend": false,
         "textposition": "auto",
         "type": "bar",
         "x": [
          "GEORGETOWN UNIVERSITY"
         ],
         "xaxis": "x5",
         "y": [
          0.009538950715421303
         ],
         "yaxis": "y5"
        },
        {
         "alignmentgroup": "True",
         "hovertemplate": "employer_type=Law Firm 26-50<br>Year=2020<br>SchoolName=%{x}<br>% of grads=%{y}<extra></extra>",
         "legendgroup": "Law Firm 26-50",
         "marker": {
          "color": "#EF553B",
          "pattern": {
           "shape": ""
          }
         },
         "name": "Law Firm 26-50",
         "offsetgroup": "Law Firm 26-50",
         "orientation": "v",
         "showlegend": false,
         "textposition": "auto",
         "type": "bar",
         "x": [
          "GEORGETOWN UNIVERSITY"
         ],
         "xaxis": "x6",
         "y": [
          0.009316770186335404
         ],
         "yaxis": "y6"
        },
        {
         "alignmentgroup": "True",
         "hovertemplate": "employer_type=Law Firm 26-50<br>Year=2021<br>SchoolName=%{x}<br>% of grads=%{y}<extra></extra>",
         "legendgroup": "Law Firm 26-50",
         "marker": {
          "color": "#EF553B",
          "pattern": {
           "shape": ""
          }
         },
         "name": "Law Firm 26-50",
         "offsetgroup": "Law Firm 26-50",
         "orientation": "v",
         "showlegend": false,
         "textposition": "auto",
         "type": "bar",
         "x": [
          "GEORGETOWN UNIVERSITY"
         ],
         "xaxis": "x7",
         "y": [
          0.012539184952978056
         ],
         "yaxis": "y7"
        },
        {
         "alignmentgroup": "True",
         "hovertemplate": "employer_type=Law Firm 500+<br>Year=2015<br>SchoolName=%{x}<br>% of grads=%{y}<extra></extra>",
         "legendgroup": "Law Firm 500+",
         "marker": {
          "color": "#00cc96",
          "pattern": {
           "shape": ""
          }
         },
         "name": "Law Firm 500+",
         "offsetgroup": "Law Firm 500+",
         "orientation": "v",
         "showlegend": true,
         "textposition": "auto",
         "type": "bar",
         "x": [
          "GEORGETOWN UNIVERSITY"
         ],
         "xaxis": "x",
         "y": [
          0.3494363929146538
         ],
         "yaxis": "y"
        },
        {
         "alignmentgroup": "True",
         "hovertemplate": "employer_type=Law Firm 500+<br>Year=2016<br>SchoolName=%{x}<br>% of grads=%{y}<extra></extra>",
         "legendgroup": "Law Firm 500+",
         "marker": {
          "color": "#00cc96",
          "pattern": {
           "shape": ""
          }
         },
         "name": "Law Firm 500+",
         "offsetgroup": "Law Firm 500+",
         "orientation": "v",
         "showlegend": false,
         "textposition": "auto",
         "type": "bar",
         "x": [
          "GEORGETOWN UNIVERSITY"
         ],
         "xaxis": "x2",
         "y": [
          0.41379310344827586
         ],
         "yaxis": "y2"
        },
        {
         "alignmentgroup": "True",
         "hovertemplate": "employer_type=Law Firm 500+<br>Year=2017<br>SchoolName=%{x}<br>% of grads=%{y}<extra></extra>",
         "legendgroup": "Law Firm 500+",
         "marker": {
          "color": "#00cc96",
          "pattern": {
           "shape": ""
          }
         },
         "name": "Law Firm 500+",
         "offsetgroup": "Law Firm 500+",
         "orientation": "v",
         "showlegend": false,
         "textposition": "auto",
         "type": "bar",
         "x": [
          "GEORGETOWN UNIVERSITY"
         ],
         "xaxis": "x3",
         "y": [
          0.45454545454545453
         ],
         "yaxis": "y3"
        },
        {
         "alignmentgroup": "True",
         "hovertemplate": "employer_type=Law Firm 500+<br>Year=2018<br>SchoolName=%{x}<br>% of grads=%{y}<extra></extra>",
         "legendgroup": "Law Firm 500+",
         "marker": {
          "color": "#00cc96",
          "pattern": {
           "shape": ""
          }
         },
         "name": "Law Firm 500+",
         "offsetgroup": "Law Firm 500+",
         "orientation": "v",
         "showlegend": false,
         "textposition": "auto",
         "type": "bar",
         "x": [
          "GEORGETOWN UNIVERSITY"
         ],
         "xaxis": "x4",
         "y": [
          0.5016181229773463
         ],
         "yaxis": "y4"
        },
        {
         "alignmentgroup": "True",
         "hovertemplate": "employer_type=Law Firm 500+<br>Year=2019<br>SchoolName=%{x}<br>% of grads=%{y}<extra></extra>",
         "legendgroup": "Law Firm 500+",
         "marker": {
          "color": "#00cc96",
          "pattern": {
           "shape": ""
          }
         },
         "name": "Law Firm 500+",
         "offsetgroup": "Law Firm 500+",
         "orientation": "v",
         "showlegend": false,
         "textposition": "auto",
         "type": "bar",
         "x": [
          "GEORGETOWN UNIVERSITY"
         ],
         "xaxis": "x5",
         "y": [
          0.4483306836248013
         ],
         "yaxis": "y5"
        },
        {
         "alignmentgroup": "True",
         "hovertemplate": "employer_type=Law Firm 500+<br>Year=2020<br>SchoolName=%{x}<br>% of grads=%{y}<extra></extra>",
         "legendgroup": "Law Firm 500+",
         "marker": {
          "color": "#00cc96",
          "pattern": {
           "shape": ""
          }
         },
         "name": "Law Firm 500+",
         "offsetgroup": "Law Firm 500+",
         "orientation": "v",
         "showlegend": false,
         "textposition": "auto",
         "type": "bar",
         "x": [
          "GEORGETOWN UNIVERSITY"
         ],
         "xaxis": "x6",
         "y": [
          0.5062111801242236
         ],
         "yaxis": "y6"
        },
        {
         "alignmentgroup": "True",
         "hovertemplate": "employer_type=Law Firm 500+<br>Year=2021<br>SchoolName=%{x}<br>% of grads=%{y}<extra></extra>",
         "legendgroup": "Law Firm 500+",
         "marker": {
          "color": "#00cc96",
          "pattern": {
           "shape": ""
          }
         },
         "name": "Law Firm 500+",
         "offsetgroup": "Law Firm 500+",
         "orientation": "v",
         "showlegend": false,
         "textposition": "auto",
         "type": "bar",
         "x": [
          "GEORGETOWN UNIVERSITY"
         ],
         "xaxis": "x7",
         "y": [
          0.47648902821316613
         ],
         "yaxis": "y7"
        },
        {
         "alignmentgroup": "True",
         "hovertemplate": "employer_type=Law Firm 51-100<br>Year=2015<br>SchoolName=%{x}<br>% of grads=%{y}<extra></extra>",
         "legendgroup": "Law Firm 51-100",
         "marker": {
          "color": "#ab63fa",
          "pattern": {
           "shape": ""
          }
         },
         "name": "Law Firm 51-100",
         "offsetgroup": "Law Firm 51-100",
         "orientation": "v",
         "showlegend": true,
         "textposition": "auto",
         "type": "bar",
         "x": [
          "GEORGETOWN UNIVERSITY"
         ],
         "xaxis": "x",
         "y": [
          0.01288244766505636
         ],
         "yaxis": "y"
        },
        {
         "alignmentgroup": "True",
         "hovertemplate": "employer_type=Law Firm 51-100<br>Year=2016<br>SchoolName=%{x}<br>% of grads=%{y}<extra></extra>",
         "legendgroup": "Law Firm 51-100",
         "marker": {
          "color": "#ab63fa",
          "pattern": {
           "shape": ""
          }
         },
         "name": "Law Firm 51-100",
         "offsetgroup": "Law Firm 51-100",
         "orientation": "v",
         "showlegend": false,
         "textposition": "auto",
         "type": "bar",
         "x": [
          "GEORGETOWN UNIVERSITY"
         ],
         "xaxis": "x2",
         "y": [
          0.016420361247947456
         ],
         "yaxis": "y2"
        },
        {
         "alignmentgroup": "True",
         "hovertemplate": "employer_type=Law Firm 51-100<br>Year=2017<br>SchoolName=%{x}<br>% of grads=%{y}<extra></extra>",
         "legendgroup": "Law Firm 51-100",
         "marker": {
          "color": "#ab63fa",
          "pattern": {
           "shape": ""
          }
         },
         "name": "Law Firm 51-100",
         "offsetgroup": "Law Firm 51-100",
         "orientation": "v",
         "showlegend": false,
         "textposition": "auto",
         "type": "bar",
         "x": [
          "GEORGETOWN UNIVERSITY"
         ],
         "xaxis": "x3",
         "y": [
          0.01461038961038961
         ],
         "yaxis": "y3"
        },
        {
         "alignmentgroup": "True",
         "hovertemplate": "employer_type=Law Firm 51-100<br>Year=2018<br>SchoolName=%{x}<br>% of grads=%{y}<extra></extra>",
         "legendgroup": "Law Firm 51-100",
         "marker": {
          "color": "#ab63fa",
          "pattern": {
           "shape": ""
          }
         },
         "name": "Law Firm 51-100",
         "offsetgroup": "Law Firm 51-100",
         "orientation": "v",
         "showlegend": false,
         "textposition": "auto",
         "type": "bar",
         "x": [
          "GEORGETOWN UNIVERSITY"
         ],
         "xaxis": "x4",
         "y": [
          0.025889967637540454
         ],
         "yaxis": "y4"
        },
        {
         "alignmentgroup": "True",
         "hovertemplate": "employer_type=Law Firm 51-100<br>Year=2019<br>SchoolName=%{x}<br>% of grads=%{y}<extra></extra>",
         "legendgroup": "Law Firm 51-100",
         "marker": {
          "color": "#ab63fa",
          "pattern": {
           "shape": ""
          }
         },
         "name": "Law Firm 51-100",
         "offsetgroup": "Law Firm 51-100",
         "orientation": "v",
         "showlegend": false,
         "textposition": "auto",
         "type": "bar",
         "x": [
          "GEORGETOWN UNIVERSITY"
         ],
         "xaxis": "x5",
         "y": [
          0.011128775834658187
         ],
         "yaxis": "y5"
        },
        {
         "alignmentgroup": "True",
         "hovertemplate": "employer_type=Law Firm 51-100<br>Year=2020<br>SchoolName=%{x}<br>% of grads=%{y}<extra></extra>",
         "legendgroup": "Law Firm 51-100",
         "marker": {
          "color": "#ab63fa",
          "pattern": {
           "shape": ""
          }
         },
         "name": "Law Firm 51-100",
         "offsetgroup": "Law Firm 51-100",
         "orientation": "v",
         "showlegend": false,
         "textposition": "auto",
         "type": "bar",
         "x": [
          "GEORGETOWN UNIVERSITY"
         ],
         "xaxis": "x6",
         "y": [
          0.015527950310559006
         ],
         "yaxis": "y6"
        },
        {
         "alignmentgroup": "True",
         "hovertemplate": "employer_type=Law Firm 51-100<br>Year=2021<br>SchoolName=%{x}<br>% of grads=%{y}<extra></extra>",
         "legendgroup": "Law Firm 51-100",
         "marker": {
          "color": "#ab63fa",
          "pattern": {
           "shape": ""
          }
         },
         "name": "Law Firm 51-100",
         "offsetgroup": "Law Firm 51-100",
         "orientation": "v",
         "showlegend": false,
         "textposition": "auto",
         "type": "bar",
         "x": [
          "GEORGETOWN UNIVERSITY"
         ],
         "xaxis": "x7",
         "y": [
          0.0219435736677116
         ],
         "yaxis": "y7"
        },
        {
         "alignmentgroup": "True",
         "hovertemplate": "employer_type=PublicInterest<br>Year=2015<br>SchoolName=%{x}<br>% of grads=%{y}<extra></extra>",
         "legendgroup": "PublicInterest",
         "marker": {
          "color": "#FFA15A",
          "pattern": {
           "shape": ""
          }
         },
         "name": "PublicInterest",
         "offsetgroup": "PublicInterest",
         "orientation": "v",
         "showlegend": true,
         "textposition": "auto",
         "type": "bar",
         "x": [
          "GEORGETOWN UNIVERSITY"
         ],
         "xaxis": "x",
         "y": [
          0.15942028985507245
         ],
         "yaxis": "y"
        },
        {
         "alignmentgroup": "True",
         "hovertemplate": "employer_type=PublicInterest<br>Year=2016<br>SchoolName=%{x}<br>% of grads=%{y}<extra></extra>",
         "legendgroup": "PublicInterest",
         "marker": {
          "color": "#FFA15A",
          "pattern": {
           "shape": ""
          }
         },
         "name": "PublicInterest",
         "offsetgroup": "PublicInterest",
         "orientation": "v",
         "showlegend": false,
         "textposition": "auto",
         "type": "bar",
         "x": [
          "GEORGETOWN UNIVERSITY"
         ],
         "xaxis": "x2",
         "y": [
          0.090311986863711
         ],
         "yaxis": "y2"
        },
        {
         "alignmentgroup": "True",
         "hovertemplate": "employer_type=PublicInterest<br>Year=2017<br>SchoolName=%{x}<br>% of grads=%{y}<extra></extra>",
         "legendgroup": "PublicInterest",
         "marker": {
          "color": "#FFA15A",
          "pattern": {
           "shape": ""
          }
         },
         "name": "PublicInterest",
         "offsetgroup": "PublicInterest",
         "orientation": "v",
         "showlegend": false,
         "textposition": "auto",
         "type": "bar",
         "x": [
          "GEORGETOWN UNIVERSITY"
         ],
         "xaxis": "x3",
         "y": [
          0.11525974025974026
         ],
         "yaxis": "y3"
        },
        {
         "alignmentgroup": "True",
         "hovertemplate": "employer_type=PublicInterest<br>Year=2018<br>SchoolName=%{x}<br>% of grads=%{y}<extra></extra>",
         "legendgroup": "PublicInterest",
         "marker": {
          "color": "#FFA15A",
          "pattern": {
           "shape": ""
          }
         },
         "name": "PublicInterest",
         "offsetgroup": "PublicInterest",
         "orientation": "v",
         "showlegend": false,
         "textposition": "auto",
         "type": "bar",
         "x": [
          "GEORGETOWN UNIVERSITY"
         ],
         "xaxis": "x4",
         "y": [
          0.10194174757281553
         ],
         "yaxis": "y4"
        },
        {
         "alignmentgroup": "True",
         "hovertemplate": "employer_type=PublicInterest<br>Year=2019<br>SchoolName=%{x}<br>% of grads=%{y}<extra></extra>",
         "legendgroup": "PublicInterest",
         "marker": {
          "color": "#FFA15A",
          "pattern": {
           "shape": ""
          }
         },
         "name": "PublicInterest",
         "offsetgroup": "PublicInterest",
         "orientation": "v",
         "showlegend": false,
         "textposition": "auto",
         "type": "bar",
         "x": [
          "GEORGETOWN UNIVERSITY"
         ],
         "xaxis": "x5",
         "y": [
          0.10810810810810811
         ],
         "yaxis": "y5"
        },
        {
         "alignmentgroup": "True",
         "hovertemplate": "employer_type=PublicInterest<br>Year=2020<br>SchoolName=%{x}<br>% of grads=%{y}<extra></extra>",
         "legendgroup": "PublicInterest",
         "marker": {
          "color": "#FFA15A",
          "pattern": {
           "shape": ""
          }
         },
         "name": "PublicInterest",
         "offsetgroup": "PublicInterest",
         "orientation": "v",
         "showlegend": false,
         "textposition": "auto",
         "type": "bar",
         "x": [
          "GEORGETOWN UNIVERSITY"
         ],
         "xaxis": "x6",
         "y": [
          0.12422360248447205
         ],
         "yaxis": "y6"
        },
        {
         "alignmentgroup": "True",
         "hovertemplate": "employer_type=PublicInterest<br>Year=2021<br>SchoolName=%{x}<br>% of grads=%{y}<extra></extra>",
         "legendgroup": "PublicInterest",
         "marker": {
          "color": "#FFA15A",
          "pattern": {
           "shape": ""
          }
         },
         "name": "PublicInterest",
         "offsetgroup": "PublicInterest",
         "orientation": "v",
         "showlegend": false,
         "textposition": "auto",
         "type": "bar",
         "x": [
          "GEORGETOWN UNIVERSITY"
         ],
         "xaxis": "x7",
         "y": [
          0.10501567398119123
         ],
         "yaxis": "y7"
        }
       ],
       "layout": {
        "annotations": [
         {
          "font": {},
          "showarrow": false,
          "text": "Year=2015",
          "x": 0.06285714285714285,
          "xanchor": "center",
          "xref": "paper",
          "y": 1,
          "yanchor": "bottom",
          "yref": "paper"
         },
         {
          "font": {},
          "showarrow": false,
          "text": "Year=2016",
          "x": 0.20857142857142852,
          "xanchor": "center",
          "xref": "paper",
          "y": 1,
          "yanchor": "bottom",
          "yref": "paper"
         },
         {
          "font": {},
          "showarrow": false,
          "text": "Year=2017",
          "x": 0.3542857142857142,
          "xanchor": "center",
          "xref": "paper",
          "y": 1,
          "yanchor": "bottom",
          "yref": "paper"
         },
         {
          "font": {},
          "showarrow": false,
          "text": "Year=2018",
          "x": 0.5,
          "xanchor": "center",
          "xref": "paper",
          "y": 1,
          "yanchor": "bottom",
          "yref": "paper"
         },
         {
          "font": {},
          "showarrow": false,
          "text": "Year=2019",
          "x": 0.6457142857142856,
          "xanchor": "center",
          "xref": "paper",
          "y": 1,
          "yanchor": "bottom",
          "yref": "paper"
         },
         {
          "font": {},
          "showarrow": false,
          "text": "Year=2020",
          "x": 0.7914285714285713,
          "xanchor": "center",
          "xref": "paper",
          "y": 1,
          "yanchor": "bottom",
          "yref": "paper"
         },
         {
          "font": {},
          "showarrow": false,
          "text": "Year=2021",
          "x": 0.9371428571428569,
          "xanchor": "center",
          "xref": "paper",
          "y": 1,
          "yanchor": "bottom",
          "yref": "paper"
         }
        ],
        "barmode": "relative",
        "legend": {
         "title": {
          "text": "employer_type"
         },
         "tracegroupgap": 0
        },
        "margin": {
         "t": 60
        },
        "template": {
         "data": {
          "bar": [
           {
            "error_x": {
             "color": "#2a3f5f"
            },
            "error_y": {
             "color": "#2a3f5f"
            },
            "marker": {
             "line": {
              "color": "#E5ECF6",
              "width": 0.5
             },
             "pattern": {
              "fillmode": "overlay",
              "size": 10,
              "solidity": 0.2
             }
            },
            "type": "bar"
           }
          ],
          "barpolar": [
           {
            "marker": {
             "line": {
              "color": "#E5ECF6",
              "width": 0.5
             },
             "pattern": {
              "fillmode": "overlay",
              "size": 10,
              "solidity": 0.2
             }
            },
            "type": "barpolar"
           }
          ],
          "carpet": [
           {
            "aaxis": {
             "endlinecolor": "#2a3f5f",
             "gridcolor": "white",
             "linecolor": "white",
             "minorgridcolor": "white",
             "startlinecolor": "#2a3f5f"
            },
            "baxis": {
             "endlinecolor": "#2a3f5f",
             "gridcolor": "white",
             "linecolor": "white",
             "minorgridcolor": "white",
             "startlinecolor": "#2a3f5f"
            },
            "type": "carpet"
           }
          ],
          "choropleth": [
           {
            "colorbar": {
             "outlinewidth": 0,
             "ticks": ""
            },
            "type": "choropleth"
           }
          ],
          "contour": [
           {
            "colorbar": {
             "outlinewidth": 0,
             "ticks": ""
            },
            "colorscale": [
             [
              0,
              "#0d0887"
             ],
             [
              0.1111111111111111,
              "#46039f"
             ],
             [
              0.2222222222222222,
              "#7201a8"
             ],
             [
              0.3333333333333333,
              "#9c179e"
             ],
             [
              0.4444444444444444,
              "#bd3786"
             ],
             [
              0.5555555555555556,
              "#d8576b"
             ],
             [
              0.6666666666666666,
              "#ed7953"
             ],
             [
              0.7777777777777778,
              "#fb9f3a"
             ],
             [
              0.8888888888888888,
              "#fdca26"
             ],
             [
              1,
              "#f0f921"
             ]
            ],
            "type": "contour"
           }
          ],
          "contourcarpet": [
           {
            "colorbar": {
             "outlinewidth": 0,
             "ticks": ""
            },
            "type": "contourcarpet"
           }
          ],
          "heatmap": [
           {
            "colorbar": {
             "outlinewidth": 0,
             "ticks": ""
            },
            "colorscale": [
             [
              0,
              "#0d0887"
             ],
             [
              0.1111111111111111,
              "#46039f"
             ],
             [
              0.2222222222222222,
              "#7201a8"
             ],
             [
              0.3333333333333333,
              "#9c179e"
             ],
             [
              0.4444444444444444,
              "#bd3786"
             ],
             [
              0.5555555555555556,
              "#d8576b"
             ],
             [
              0.6666666666666666,
              "#ed7953"
             ],
             [
              0.7777777777777778,
              "#fb9f3a"
             ],
             [
              0.8888888888888888,
              "#fdca26"
             ],
             [
              1,
              "#f0f921"
             ]
            ],
            "type": "heatmap"
           }
          ],
          "heatmapgl": [
           {
            "colorbar": {
             "outlinewidth": 0,
             "ticks": ""
            },
            "colorscale": [
             [
              0,
              "#0d0887"
             ],
             [
              0.1111111111111111,
              "#46039f"
             ],
             [
              0.2222222222222222,
              "#7201a8"
             ],
             [
              0.3333333333333333,
              "#9c179e"
             ],
             [
              0.4444444444444444,
              "#bd3786"
             ],
             [
              0.5555555555555556,
              "#d8576b"
             ],
             [
              0.6666666666666666,
              "#ed7953"
             ],
             [
              0.7777777777777778,
              "#fb9f3a"
             ],
             [
              0.8888888888888888,
              "#fdca26"
             ],
             [
              1,
              "#f0f921"
             ]
            ],
            "type": "heatmapgl"
           }
          ],
          "histogram": [
           {
            "marker": {
             "pattern": {
              "fillmode": "overlay",
              "size": 10,
              "solidity": 0.2
             }
            },
            "type": "histogram"
           }
          ],
          "histogram2d": [
           {
            "colorbar": {
             "outlinewidth": 0,
             "ticks": ""
            },
            "colorscale": [
             [
              0,
              "#0d0887"
             ],
             [
              0.1111111111111111,
              "#46039f"
             ],
             [
              0.2222222222222222,
              "#7201a8"
             ],
             [
              0.3333333333333333,
              "#9c179e"
             ],
             [
              0.4444444444444444,
              "#bd3786"
             ],
             [
              0.5555555555555556,
              "#d8576b"
             ],
             [
              0.6666666666666666,
              "#ed7953"
             ],
             [
              0.7777777777777778,
              "#fb9f3a"
             ],
             [
              0.8888888888888888,
              "#fdca26"
             ],
             [
              1,
              "#f0f921"
             ]
            ],
            "type": "histogram2d"
           }
          ],
          "histogram2dcontour": [
           {
            "colorbar": {
             "outlinewidth": 0,
             "ticks": ""
            },
            "colorscale": [
             [
              0,
              "#0d0887"
             ],
             [
              0.1111111111111111,
              "#46039f"
             ],
             [
              0.2222222222222222,
              "#7201a8"
             ],
             [
              0.3333333333333333,
              "#9c179e"
             ],
             [
              0.4444444444444444,
              "#bd3786"
             ],
             [
              0.5555555555555556,
              "#d8576b"
             ],
             [
              0.6666666666666666,
              "#ed7953"
             ],
             [
              0.7777777777777778,
              "#fb9f3a"
             ],
             [
              0.8888888888888888,
              "#fdca26"
             ],
             [
              1,
              "#f0f921"
             ]
            ],
            "type": "histogram2dcontour"
           }
          ],
          "mesh3d": [
           {
            "colorbar": {
             "outlinewidth": 0,
             "ticks": ""
            },
            "type": "mesh3d"
           }
          ],
          "parcoords": [
           {
            "line": {
             "colorbar": {
              "outlinewidth": 0,
              "ticks": ""
             }
            },
            "type": "parcoords"
           }
          ],
          "pie": [
           {
            "automargin": true,
            "type": "pie"
           }
          ],
          "scatter": [
           {
            "fillpattern": {
             "fillmode": "overlay",
             "size": 10,
             "solidity": 0.2
            },
            "type": "scatter"
           }
          ],
          "scatter3d": [
           {
            "line": {
             "colorbar": {
              "outlinewidth": 0,
              "ticks": ""
             }
            },
            "marker": {
             "colorbar": {
              "outlinewidth": 0,
              "ticks": ""
             }
            },
            "type": "scatter3d"
           }
          ],
          "scattercarpet": [
           {
            "marker": {
             "colorbar": {
              "outlinewidth": 0,
              "ticks": ""
             }
            },
            "type": "scattercarpet"
           }
          ],
          "scattergeo": [
           {
            "marker": {
             "colorbar": {
              "outlinewidth": 0,
              "ticks": ""
             }
            },
            "type": "scattergeo"
           }
          ],
          "scattergl": [
           {
            "marker": {
             "colorbar": {
              "outlinewidth": 0,
              "ticks": ""
             }
            },
            "type": "scattergl"
           }
          ],
          "scattermapbox": [
           {
            "marker": {
             "colorbar": {
              "outlinewidth": 0,
              "ticks": ""
             }
            },
            "type": "scattermapbox"
           }
          ],
          "scatterpolar": [
           {
            "marker": {
             "colorbar": {
              "outlinewidth": 0,
              "ticks": ""
             }
            },
            "type": "scatterpolar"
           }
          ],
          "scatterpolargl": [
           {
            "marker": {
             "colorbar": {
              "outlinewidth": 0,
              "ticks": ""
             }
            },
            "type": "scatterpolargl"
           }
          ],
          "scatterternary": [
           {
            "marker": {
             "colorbar": {
              "outlinewidth": 0,
              "ticks": ""
             }
            },
            "type": "scatterternary"
           }
          ],
          "surface": [
           {
            "colorbar": {
             "outlinewidth": 0,
             "ticks": ""
            },
            "colorscale": [
             [
              0,
              "#0d0887"
             ],
             [
              0.1111111111111111,
              "#46039f"
             ],
             [
              0.2222222222222222,
              "#7201a8"
             ],
             [
              0.3333333333333333,
              "#9c179e"
             ],
             [
              0.4444444444444444,
              "#bd3786"
             ],
             [
              0.5555555555555556,
              "#d8576b"
             ],
             [
              0.6666666666666666,
              "#ed7953"
             ],
             [
              0.7777777777777778,
              "#fb9f3a"
             ],
             [
              0.8888888888888888,
              "#fdca26"
             ],
             [
              1,
              "#f0f921"
             ]
            ],
            "type": "surface"
           }
          ],
          "table": [
           {
            "cells": {
             "fill": {
              "color": "#EBF0F8"
             },
             "line": {
              "color": "white"
             }
            },
            "header": {
             "fill": {
              "color": "#C8D4E3"
             },
             "line": {
              "color": "white"
             }
            },
            "type": "table"
           }
          ]
         },
         "layout": {
          "annotationdefaults": {
           "arrowcolor": "#2a3f5f",
           "arrowhead": 0,
           "arrowwidth": 1
          },
          "autotypenumbers": "strict",
          "coloraxis": {
           "colorbar": {
            "outlinewidth": 0,
            "ticks": ""
           }
          },
          "colorscale": {
           "diverging": [
            [
             0,
             "#8e0152"
            ],
            [
             0.1,
             "#c51b7d"
            ],
            [
             0.2,
             "#de77ae"
            ],
            [
             0.3,
             "#f1b6da"
            ],
            [
             0.4,
             "#fde0ef"
            ],
            [
             0.5,
             "#f7f7f7"
            ],
            [
             0.6,
             "#e6f5d0"
            ],
            [
             0.7,
             "#b8e186"
            ],
            [
             0.8,
             "#7fbc41"
            ],
            [
             0.9,
             "#4d9221"
            ],
            [
             1,
             "#276419"
            ]
           ],
           "sequential": [
            [
             0,
             "#0d0887"
            ],
            [
             0.1111111111111111,
             "#46039f"
            ],
            [
             0.2222222222222222,
             "#7201a8"
            ],
            [
             0.3333333333333333,
             "#9c179e"
            ],
            [
             0.4444444444444444,
             "#bd3786"
            ],
            [
             0.5555555555555556,
             "#d8576b"
            ],
            [
             0.6666666666666666,
             "#ed7953"
            ],
            [
             0.7777777777777778,
             "#fb9f3a"
            ],
            [
             0.8888888888888888,
             "#fdca26"
            ],
            [
             1,
             "#f0f921"
            ]
           ],
           "sequentialminus": [
            [
             0,
             "#0d0887"
            ],
            [
             0.1111111111111111,
             "#46039f"
            ],
            [
             0.2222222222222222,
             "#7201a8"
            ],
            [
             0.3333333333333333,
             "#9c179e"
            ],
            [
             0.4444444444444444,
             "#bd3786"
            ],
            [
             0.5555555555555556,
             "#d8576b"
            ],
            [
             0.6666666666666666,
             "#ed7953"
            ],
            [
             0.7777777777777778,
             "#fb9f3a"
            ],
            [
             0.8888888888888888,
             "#fdca26"
            ],
            [
             1,
             "#f0f921"
            ]
           ]
          },
          "colorway": [
           "#636efa",
           "#EF553B",
           "#00cc96",
           "#ab63fa",
           "#FFA15A",
           "#19d3f3",
           "#FF6692",
           "#B6E880",
           "#FF97FF",
           "#FECB52"
          ],
          "font": {
           "color": "#2a3f5f"
          },
          "geo": {
           "bgcolor": "white",
           "lakecolor": "white",
           "landcolor": "#E5ECF6",
           "showlakes": true,
           "showland": true,
           "subunitcolor": "white"
          },
          "hoverlabel": {
           "align": "left"
          },
          "hovermode": "closest",
          "mapbox": {
           "style": "light"
          },
          "paper_bgcolor": "white",
          "plot_bgcolor": "#E5ECF6",
          "polar": {
           "angularaxis": {
            "gridcolor": "white",
            "linecolor": "white",
            "ticks": ""
           },
           "bgcolor": "#E5ECF6",
           "radialaxis": {
            "gridcolor": "white",
            "linecolor": "white",
            "ticks": ""
           }
          },
          "scene": {
           "xaxis": {
            "backgroundcolor": "#E5ECF6",
            "gridcolor": "white",
            "gridwidth": 2,
            "linecolor": "white",
            "showbackground": true,
            "ticks": "",
            "zerolinecolor": "white"
           },
           "yaxis": {
            "backgroundcolor": "#E5ECF6",
            "gridcolor": "white",
            "gridwidth": 2,
            "linecolor": "white",
            "showbackground": true,
            "ticks": "",
            "zerolinecolor": "white"
           },
           "zaxis": {
            "backgroundcolor": "#E5ECF6",
            "gridcolor": "white",
            "gridwidth": 2,
            "linecolor": "white",
            "showbackground": true,
            "ticks": "",
            "zerolinecolor": "white"
           }
          },
          "shapedefaults": {
           "line": {
            "color": "#2a3f5f"
           }
          },
          "ternary": {
           "aaxis": {
            "gridcolor": "white",
            "linecolor": "white",
            "ticks": ""
           },
           "baxis": {
            "gridcolor": "white",
            "linecolor": "white",
            "ticks": ""
           },
           "bgcolor": "#E5ECF6",
           "caxis": {
            "gridcolor": "white",
            "linecolor": "white",
            "ticks": ""
           }
          },
          "title": {
           "x": 0.05
          },
          "xaxis": {
           "automargin": true,
           "gridcolor": "white",
           "linecolor": "white",
           "ticks": "",
           "title": {
            "standoff": 15
           },
           "zerolinecolor": "white",
           "zerolinewidth": 2
          },
          "yaxis": {
           "automargin": true,
           "gridcolor": "white",
           "linecolor": "white",
           "ticks": "",
           "title": {
            "standoff": 15
           },
           "zerolinecolor": "white",
           "zerolinewidth": 2
          }
         }
        },
        "xaxis": {
         "anchor": "y",
         "domain": [
          0,
          0.1257142857142857
         ],
         "title": {
          "text": "SchoolName"
         }
        },
        "xaxis2": {
         "anchor": "y2",
         "domain": [
          0.14571428571428569,
          0.27142857142857135
         ],
         "matches": "x",
         "title": {
          "text": "SchoolName"
         }
        },
        "xaxis3": {
         "anchor": "y3",
         "domain": [
          0.29142857142857137,
          0.41714285714285704
         ],
         "matches": "x",
         "title": {
          "text": "SchoolName"
         }
        },
        "xaxis4": {
         "anchor": "y4",
         "domain": [
          0.4371428571428571,
          0.5628571428571428
         ],
         "matches": "x",
         "title": {
          "text": "SchoolName"
         }
        },
        "xaxis5": {
         "anchor": "y5",
         "domain": [
          0.5828571428571427,
          0.7085714285714284
         ],
         "matches": "x",
         "title": {
          "text": "SchoolName"
         }
        },
        "xaxis6": {
         "anchor": "y6",
         "domain": [
          0.7285714285714284,
          0.8542857142857141
         ],
         "matches": "x",
         "title": {
          "text": "SchoolName"
         }
        },
        "xaxis7": {
         "anchor": "y7",
         "domain": [
          0.8742857142857141,
          0.9999999999999998
         ],
         "matches": "x",
         "title": {
          "text": "SchoolName"
         }
        },
        "yaxis": {
         "anchor": "x",
         "domain": [
          0,
          1
         ],
         "title": {
          "text": "% of grads"
         }
        },
        "yaxis2": {
         "anchor": "x2",
         "domain": [
          0,
          1
         ],
         "matches": "y",
         "showticklabels": false
        },
        "yaxis3": {
         "anchor": "x3",
         "domain": [
          0,
          1
         ],
         "matches": "y",
         "showticklabels": false
        },
        "yaxis4": {
         "anchor": "x4",
         "domain": [
          0,
          1
         ],
         "matches": "y",
         "showticklabels": false
        },
        "yaxis5": {
         "anchor": "x5",
         "domain": [
          0,
          1
         ],
         "matches": "y",
         "showticklabels": false
        },
        "yaxis6": {
         "anchor": "x6",
         "domain": [
          0,
          1
         ],
         "matches": "y",
         "showticklabels": false
        },
        "yaxis7": {
         "anchor": "x7",
         "domain": [
          0,
          1
         ],
         "matches": "y",
         "showticklabels": false
        }
       }
      },
      "text/html": [
       "<div>                            <div id=\"383c92d3-214b-4929-9d1f-20d9240e3452\" class=\"plotly-graph-div\" style=\"height:525px; width:100%;\"></div>            <script type=\"text/javascript\">                require([\"plotly\"], function(Plotly) {                    window.PLOTLYENV=window.PLOTLYENV || {};                                    if (document.getElementById(\"383c92d3-214b-4929-9d1f-20d9240e3452\")) {                    Plotly.newPlot(                        \"383c92d3-214b-4929-9d1f-20d9240e3452\",                        [{\"alignmentgroup\":\"True\",\"hovertemplate\":\"employer_type=BusinessIndustry<br>Year=2015<br>SchoolName=%{x}<br>% of grads=%{y}<extra></extra>\",\"legendgroup\":\"BusinessIndustry\",\"marker\":{\"color\":\"#636efa\",\"pattern\":{\"shape\":\"\"}},\"name\":\"BusinessIndustry\",\"offsetgroup\":\"BusinessIndustry\",\"orientation\":\"v\",\"showlegend\":true,\"textposition\":\"auto\",\"x\":[\"GEORGETOWN UNIVERSITY\"],\"xaxis\":\"x\",\"y\":[0.07568438003220612],\"yaxis\":\"y\",\"type\":\"bar\"},{\"alignmentgroup\":\"True\",\"hovertemplate\":\"employer_type=BusinessIndustry<br>Year=2016<br>SchoolName=%{x}<br>% of grads=%{y}<extra></extra>\",\"legendgroup\":\"BusinessIndustry\",\"marker\":{\"color\":\"#636efa\",\"pattern\":{\"shape\":\"\"}},\"name\":\"BusinessIndustry\",\"offsetgroup\":\"BusinessIndustry\",\"orientation\":\"v\",\"showlegend\":false,\"textposition\":\"auto\",\"x\":[\"GEORGETOWN UNIVERSITY\"],\"xaxis\":\"x2\",\"y\":[0.05090311986863711],\"yaxis\":\"y2\",\"type\":\"bar\"},{\"alignmentgroup\":\"True\",\"hovertemplate\":\"employer_type=BusinessIndustry<br>Year=2017<br>SchoolName=%{x}<br>% of grads=%{y}<extra></extra>\",\"legendgroup\":\"BusinessIndustry\",\"marker\":{\"color\":\"#636efa\",\"pattern\":{\"shape\":\"\"}},\"name\":\"BusinessIndustry\",\"offsetgroup\":\"BusinessIndustry\",\"orientation\":\"v\",\"showlegend\":false,\"textposition\":\"auto\",\"x\":[\"GEORGETOWN UNIVERSITY\"],\"xaxis\":\"x3\",\"y\":[0.060064935064935064],\"yaxis\":\"y3\",\"type\":\"bar\"},{\"alignmentgroup\":\"True\",\"hovertemplate\":\"employer_type=BusinessIndustry<br>Year=2018<br>SchoolName=%{x}<br>% of grads=%{y}<extra></extra>\",\"legendgroup\":\"BusinessIndustry\",\"marker\":{\"color\":\"#636efa\",\"pattern\":{\"shape\":\"\"}},\"name\":\"BusinessIndustry\",\"offsetgroup\":\"BusinessIndustry\",\"orientation\":\"v\",\"showlegend\":false,\"textposition\":\"auto\",\"x\":[\"GEORGETOWN UNIVERSITY\"],\"xaxis\":\"x4\",\"y\":[0.0372168284789644],\"yaxis\":\"y4\",\"type\":\"bar\"},{\"alignmentgroup\":\"True\",\"hovertemplate\":\"employer_type=BusinessIndustry<br>Year=2019<br>SchoolName=%{x}<br>% of grads=%{y}<extra></extra>\",\"legendgroup\":\"BusinessIndustry\",\"marker\":{\"color\":\"#636efa\",\"pattern\":{\"shape\":\"\"}},\"name\":\"BusinessIndustry\",\"offsetgroup\":\"BusinessIndustry\",\"orientation\":\"v\",\"showlegend\":false,\"textposition\":\"auto\",\"x\":[\"GEORGETOWN UNIVERSITY\"],\"xaxis\":\"x5\",\"y\":[0.057233704292527825],\"yaxis\":\"y5\",\"type\":\"bar\"},{\"alignmentgroup\":\"True\",\"hovertemplate\":\"employer_type=BusinessIndustry<br>Year=2020<br>SchoolName=%{x}<br>% of grads=%{y}<extra></extra>\",\"legendgroup\":\"BusinessIndustry\",\"marker\":{\"color\":\"#636efa\",\"pattern\":{\"shape\":\"\"}},\"name\":\"BusinessIndustry\",\"offsetgroup\":\"BusinessIndustry\",\"orientation\":\"v\",\"showlegend\":false,\"textposition\":\"auto\",\"x\":[\"GEORGETOWN UNIVERSITY\"],\"xaxis\":\"x6\",\"y\":[0.026397515527950312],\"yaxis\":\"y6\",\"type\":\"bar\"},{\"alignmentgroup\":\"True\",\"hovertemplate\":\"employer_type=BusinessIndustry<br>Year=2021<br>SchoolName=%{x}<br>% of grads=%{y}<extra></extra>\",\"legendgroup\":\"BusinessIndustry\",\"marker\":{\"color\":\"#636efa\",\"pattern\":{\"shape\":\"\"}},\"name\":\"BusinessIndustry\",\"offsetgroup\":\"BusinessIndustry\",\"orientation\":\"v\",\"showlegend\":false,\"textposition\":\"auto\",\"x\":[\"GEORGETOWN UNIVERSITY\"],\"xaxis\":\"x7\",\"y\":[0.0438871473354232],\"yaxis\":\"y7\",\"type\":\"bar\"},{\"alignmentgroup\":\"True\",\"hovertemplate\":\"employer_type=ClerkshipsFederal<br>Year=2015<br>SchoolName=%{x}<br>% of grads=%{y}<extra></extra>\",\"legendgroup\":\"ClerkshipsFederal\",\"marker\":{\"color\":\"#EF553B\",\"pattern\":{\"shape\":\"\"}},\"name\":\"ClerkshipsFederal\",\"offsetgroup\":\"ClerkshipsFederal\",\"orientation\":\"v\",\"showlegend\":true,\"textposition\":\"auto\",\"x\":[\"GEORGETOWN UNIVERSITY\"],\"xaxis\":\"x\",\"y\":[0.040257648953301126],\"yaxis\":\"y\",\"type\":\"bar\"},{\"alignmentgroup\":\"True\",\"hovertemplate\":\"employer_type=ClerkshipsFederal<br>Year=2016<br>SchoolName=%{x}<br>% of grads=%{y}<extra></extra>\",\"legendgroup\":\"ClerkshipsFederal\",\"marker\":{\"color\":\"#EF553B\",\"pattern\":{\"shape\":\"\"}},\"name\":\"ClerkshipsFederal\",\"offsetgroup\":\"ClerkshipsFederal\",\"orientation\":\"v\",\"showlegend\":false,\"textposition\":\"auto\",\"x\":[\"GEORGETOWN UNIVERSITY\"],\"xaxis\":\"x2\",\"y\":[0.059113300492610835],\"yaxis\":\"y2\",\"type\":\"bar\"},{\"alignmentgroup\":\"True\",\"hovertemplate\":\"employer_type=ClerkshipsFederal<br>Year=2017<br>SchoolName=%{x}<br>% of grads=%{y}<extra></extra>\",\"legendgroup\":\"ClerkshipsFederal\",\"marker\":{\"color\":\"#EF553B\",\"pattern\":{\"shape\":\"\"}},\"name\":\"ClerkshipsFederal\",\"offsetgroup\":\"ClerkshipsFederal\",\"orientation\":\"v\",\"showlegend\":false,\"textposition\":\"auto\",\"x\":[\"GEORGETOWN UNIVERSITY\"],\"xaxis\":\"x3\",\"y\":[0.04707792207792208],\"yaxis\":\"y3\",\"type\":\"bar\"},{\"alignmentgroup\":\"True\",\"hovertemplate\":\"employer_type=ClerkshipsFederal<br>Year=2018<br>SchoolName=%{x}<br>% of grads=%{y}<extra></extra>\",\"legendgroup\":\"ClerkshipsFederal\",\"marker\":{\"color\":\"#EF553B\",\"pattern\":{\"shape\":\"\"}},\"name\":\"ClerkshipsFederal\",\"offsetgroup\":\"ClerkshipsFederal\",\"orientation\":\"v\",\"showlegend\":false,\"textposition\":\"auto\",\"x\":[\"GEORGETOWN UNIVERSITY\"],\"xaxis\":\"x4\",\"y\":[0.04692556634304207],\"yaxis\":\"y4\",\"type\":\"bar\"},{\"alignmentgroup\":\"True\",\"hovertemplate\":\"employer_type=ClerkshipsFederal<br>Year=2019<br>SchoolName=%{x}<br>% of grads=%{y}<extra></extra>\",\"legendgroup\":\"ClerkshipsFederal\",\"marker\":{\"color\":\"#EF553B\",\"pattern\":{\"shape\":\"\"}},\"name\":\"ClerkshipsFederal\",\"offsetgroup\":\"ClerkshipsFederal\",\"orientation\":\"v\",\"showlegend\":false,\"textposition\":\"auto\",\"x\":[\"GEORGETOWN UNIVERSITY\"],\"xaxis\":\"x5\",\"y\":[0.058823529411764705],\"yaxis\":\"y5\",\"type\":\"bar\"},{\"alignmentgroup\":\"True\",\"hovertemplate\":\"employer_type=ClerkshipsFederal<br>Year=2020<br>SchoolName=%{x}<br>% of grads=%{y}<extra></extra>\",\"legendgroup\":\"ClerkshipsFederal\",\"marker\":{\"color\":\"#EF553B\",\"pattern\":{\"shape\":\"\"}},\"name\":\"ClerkshipsFederal\",\"offsetgroup\":\"ClerkshipsFederal\",\"orientation\":\"v\",\"showlegend\":false,\"textposition\":\"auto\",\"x\":[\"GEORGETOWN UNIVERSITY\"],\"xaxis\":\"x6\",\"y\":[0.06366459627329192],\"yaxis\":\"y6\",\"type\":\"bar\"},{\"alignmentgroup\":\"True\",\"hovertemplate\":\"employer_type=ClerkshipsFederal<br>Year=2021<br>SchoolName=%{x}<br>% of grads=%{y}<extra></extra>\",\"legendgroup\":\"ClerkshipsFederal\",\"marker\":{\"color\":\"#EF553B\",\"pattern\":{\"shape\":\"\"}},\"name\":\"ClerkshipsFederal\",\"offsetgroup\":\"ClerkshipsFederal\",\"orientation\":\"v\",\"showlegend\":false,\"textposition\":\"auto\",\"x\":[\"GEORGETOWN UNIVERSITY\"],\"xaxis\":\"x7\",\"y\":[0.05956112852664577],\"yaxis\":\"y7\",\"type\":\"bar\"},{\"alignmentgroup\":\"True\",\"hovertemplate\":\"employer_type=ClerkshipsOther<br>Year=2015<br>SchoolName=%{x}<br>% of grads=%{y}<extra></extra>\",\"legendgroup\":\"ClerkshipsOther\",\"marker\":{\"color\":\"#00cc96\",\"pattern\":{\"shape\":\"\"}},\"name\":\"ClerkshipsOther\",\"offsetgroup\":\"ClerkshipsOther\",\"orientation\":\"v\",\"showlegend\":true,\"textposition\":\"auto\",\"x\":[\"GEORGETOWN UNIVERSITY\"],\"xaxis\":\"x\",\"y\":[0.011272141706924315],\"yaxis\":\"y\",\"type\":\"bar\"},{\"alignmentgroup\":\"True\",\"hovertemplate\":\"employer_type=ClerkshipsOther<br>Year=2016<br>SchoolName=%{x}<br>% of grads=%{y}<extra></extra>\",\"legendgroup\":\"ClerkshipsOther\",\"marker\":{\"color\":\"#00cc96\",\"pattern\":{\"shape\":\"\"}},\"name\":\"ClerkshipsOther\",\"offsetgroup\":\"ClerkshipsOther\",\"orientation\":\"v\",\"showlegend\":false,\"textposition\":\"auto\",\"x\":[\"GEORGETOWN UNIVERSITY\"],\"xaxis\":\"x2\",\"y\":[0.0],\"yaxis\":\"y2\",\"type\":\"bar\"},{\"alignmentgroup\":\"True\",\"hovertemplate\":\"employer_type=ClerkshipsOther<br>Year=2017<br>SchoolName=%{x}<br>% of grads=%{y}<extra></extra>\",\"legendgroup\":\"ClerkshipsOther\",\"marker\":{\"color\":\"#00cc96\",\"pattern\":{\"shape\":\"\"}},\"name\":\"ClerkshipsOther\",\"offsetgroup\":\"ClerkshipsOther\",\"orientation\":\"v\",\"showlegend\":false,\"textposition\":\"auto\",\"x\":[\"GEORGETOWN UNIVERSITY\"],\"xaxis\":\"x3\",\"y\":[0.0016233766233766235],\"yaxis\":\"y3\",\"type\":\"bar\"},{\"alignmentgroup\":\"True\",\"hovertemplate\":\"employer_type=ClerkshipsOther<br>Year=2018<br>SchoolName=%{x}<br>% of grads=%{y}<extra></extra>\",\"legendgroup\":\"ClerkshipsOther\",\"marker\":{\"color\":\"#00cc96\",\"pattern\":{\"shape\":\"\"}},\"name\":\"ClerkshipsOther\",\"offsetgroup\":\"ClerkshipsOther\",\"orientation\":\"v\",\"showlegend\":false,\"textposition\":\"auto\",\"x\":[\"GEORGETOWN UNIVERSITY\"],\"xaxis\":\"x4\",\"y\":[0.0],\"yaxis\":\"y4\",\"type\":\"bar\"},{\"alignmentgroup\":\"True\",\"hovertemplate\":\"employer_type=ClerkshipsOther<br>Year=2019<br>SchoolName=%{x}<br>% of grads=%{y}<extra></extra>\",\"legendgroup\":\"ClerkshipsOther\",\"marker\":{\"color\":\"#00cc96\",\"pattern\":{\"shape\":\"\"}},\"name\":\"ClerkshipsOther\",\"offsetgroup\":\"ClerkshipsOther\",\"orientation\":\"v\",\"showlegend\":false,\"textposition\":\"auto\",\"x\":[\"GEORGETOWN UNIVERSITY\"],\"xaxis\":\"x5\",\"y\":[0.0],\"yaxis\":\"y5\",\"type\":\"bar\"},{\"alignmentgroup\":\"True\",\"hovertemplate\":\"employer_type=ClerkshipsOther<br>Year=2020<br>SchoolName=%{x}<br>% of grads=%{y}<extra></extra>\",\"legendgroup\":\"ClerkshipsOther\",\"marker\":{\"color\":\"#00cc96\",\"pattern\":{\"shape\":\"\"}},\"name\":\"ClerkshipsOther\",\"offsetgroup\":\"ClerkshipsOther\",\"orientation\":\"v\",\"showlegend\":false,\"textposition\":\"auto\",\"x\":[\"GEORGETOWN UNIVERSITY\"],\"xaxis\":\"x6\",\"y\":[0.0015527950310559005],\"yaxis\":\"y6\",\"type\":\"bar\"},{\"alignmentgroup\":\"True\",\"hovertemplate\":\"employer_type=ClerkshipsOther<br>Year=2021<br>SchoolName=%{x}<br>% of grads=%{y}<extra></extra>\",\"legendgroup\":\"ClerkshipsOther\",\"marker\":{\"color\":\"#00cc96\",\"pattern\":{\"shape\":\"\"}},\"name\":\"ClerkshipsOther\",\"offsetgroup\":\"ClerkshipsOther\",\"orientation\":\"v\",\"showlegend\":false,\"textposition\":\"auto\",\"x\":[\"GEORGETOWN UNIVERSITY\"],\"xaxis\":\"x7\",\"y\":[0.003134796238244514],\"yaxis\":\"y7\",\"type\":\"bar\"},{\"alignmentgroup\":\"True\",\"hovertemplate\":\"employer_type=ClerkshipsStateLocal<br>Year=2015<br>SchoolName=%{x}<br>% of grads=%{y}<extra></extra>\",\"legendgroup\":\"ClerkshipsStateLocal\",\"marker\":{\"color\":\"#ab63fa\",\"pattern\":{\"shape\":\"\"}},\"name\":\"ClerkshipsStateLocal\",\"offsetgroup\":\"ClerkshipsStateLocal\",\"orientation\":\"v\",\"showlegend\":true,\"textposition\":\"auto\",\"x\":[\"GEORGETOWN UNIVERSITY\"],\"xaxis\":\"x\",\"y\":[0.028985507246376812],\"yaxis\":\"y\",\"type\":\"bar\"},{\"alignmentgroup\":\"True\",\"hovertemplate\":\"employer_type=ClerkshipsStateLocal<br>Year=2016<br>SchoolName=%{x}<br>% of grads=%{y}<extra></extra>\",\"legendgroup\":\"ClerkshipsStateLocal\",\"marker\":{\"color\":\"#ab63fa\",\"pattern\":{\"shape\":\"\"}},\"name\":\"ClerkshipsStateLocal\",\"offsetgroup\":\"ClerkshipsStateLocal\",\"orientation\":\"v\",\"showlegend\":false,\"textposition\":\"auto\",\"x\":[\"GEORGETOWN UNIVERSITY\"],\"xaxis\":\"x2\",\"y\":[0.03940886699507389],\"yaxis\":\"y2\",\"type\":\"bar\"},{\"alignmentgroup\":\"True\",\"hovertemplate\":\"employer_type=ClerkshipsStateLocal<br>Year=2017<br>SchoolName=%{x}<br>% of grads=%{y}<extra></extra>\",\"legendgroup\":\"ClerkshipsStateLocal\",\"marker\":{\"color\":\"#ab63fa\",\"pattern\":{\"shape\":\"\"}},\"name\":\"ClerkshipsStateLocal\",\"offsetgroup\":\"ClerkshipsStateLocal\",\"orientation\":\"v\",\"showlegend\":false,\"textposition\":\"auto\",\"x\":[\"GEORGETOWN UNIVERSITY\"],\"xaxis\":\"x3\",\"y\":[0.032467532467532464],\"yaxis\":\"y3\",\"type\":\"bar\"},{\"alignmentgroup\":\"True\",\"hovertemplate\":\"employer_type=ClerkshipsStateLocal<br>Year=2018<br>SchoolName=%{x}<br>% of grads=%{y}<extra></extra>\",\"legendgroup\":\"ClerkshipsStateLocal\",\"marker\":{\"color\":\"#ab63fa\",\"pattern\":{\"shape\":\"\"}},\"name\":\"ClerkshipsStateLocal\",\"offsetgroup\":\"ClerkshipsStateLocal\",\"orientation\":\"v\",\"showlegend\":false,\"textposition\":\"auto\",\"x\":[\"GEORGETOWN UNIVERSITY\"],\"xaxis\":\"x4\",\"y\":[0.04692556634304207],\"yaxis\":\"y4\",\"type\":\"bar\"},{\"alignmentgroup\":\"True\",\"hovertemplate\":\"employer_type=ClerkshipsStateLocal<br>Year=2019<br>SchoolName=%{x}<br>% of grads=%{y}<extra></extra>\",\"legendgroup\":\"ClerkshipsStateLocal\",\"marker\":{\"color\":\"#ab63fa\",\"pattern\":{\"shape\":\"\"}},\"name\":\"ClerkshipsStateLocal\",\"offsetgroup\":\"ClerkshipsStateLocal\",\"orientation\":\"v\",\"showlegend\":false,\"textposition\":\"auto\",\"x\":[\"GEORGETOWN UNIVERSITY\"],\"xaxis\":\"x5\",\"y\":[0.05564387917329094],\"yaxis\":\"y5\",\"type\":\"bar\"},{\"alignmentgroup\":\"True\",\"hovertemplate\":\"employer_type=ClerkshipsStateLocal<br>Year=2020<br>SchoolName=%{x}<br>% of grads=%{y}<extra></extra>\",\"legendgroup\":\"ClerkshipsStateLocal\",\"marker\":{\"color\":\"#ab63fa\",\"pattern\":{\"shape\":\"\"}},\"name\":\"ClerkshipsStateLocal\",\"offsetgroup\":\"ClerkshipsStateLocal\",\"orientation\":\"v\",\"showlegend\":false,\"textposition\":\"auto\",\"x\":[\"GEORGETOWN UNIVERSITY\"],\"xaxis\":\"x6\",\"y\":[0.04192546583850932],\"yaxis\":\"y6\",\"type\":\"bar\"},{\"alignmentgroup\":\"True\",\"hovertemplate\":\"employer_type=ClerkshipsStateLocal<br>Year=2021<br>SchoolName=%{x}<br>% of grads=%{y}<extra></extra>\",\"legendgroup\":\"ClerkshipsStateLocal\",\"marker\":{\"color\":\"#ab63fa\",\"pattern\":{\"shape\":\"\"}},\"name\":\"ClerkshipsStateLocal\",\"offsetgroup\":\"ClerkshipsStateLocal\",\"orientation\":\"v\",\"showlegend\":false,\"textposition\":\"auto\",\"x\":[\"GEORGETOWN UNIVERSITY\"],\"xaxis\":\"x7\",\"y\":[0.05172413793103448],\"yaxis\":\"y7\",\"type\":\"bar\"},{\"alignmentgroup\":\"True\",\"hovertemplate\":\"employer_type=Education<br>Year=2015<br>SchoolName=%{x}<br>% of grads=%{y}<extra></extra>\",\"legendgroup\":\"Education\",\"marker\":{\"color\":\"#FFA15A\",\"pattern\":{\"shape\":\"\"}},\"name\":\"Education\",\"offsetgroup\":\"Education\",\"orientation\":\"v\",\"showlegend\":true,\"textposition\":\"auto\",\"x\":[\"GEORGETOWN UNIVERSITY\"],\"xaxis\":\"x\",\"y\":[0.01288244766505636],\"yaxis\":\"y\",\"type\":\"bar\"},{\"alignmentgroup\":\"True\",\"hovertemplate\":\"employer_type=Education<br>Year=2016<br>SchoolName=%{x}<br>% of grads=%{y}<extra></extra>\",\"legendgroup\":\"Education\",\"marker\":{\"color\":\"#FFA15A\",\"pattern\":{\"shape\":\"\"}},\"name\":\"Education\",\"offsetgroup\":\"Education\",\"orientation\":\"v\",\"showlegend\":false,\"textposition\":\"auto\",\"x\":[\"GEORGETOWN UNIVERSITY\"],\"xaxis\":\"x2\",\"y\":[0.008210180623973728],\"yaxis\":\"y2\",\"type\":\"bar\"},{\"alignmentgroup\":\"True\",\"hovertemplate\":\"employer_type=Education<br>Year=2017<br>SchoolName=%{x}<br>% of grads=%{y}<extra></extra>\",\"legendgroup\":\"Education\",\"marker\":{\"color\":\"#FFA15A\",\"pattern\":{\"shape\":\"\"}},\"name\":\"Education\",\"offsetgroup\":\"Education\",\"orientation\":\"v\",\"showlegend\":false,\"textposition\":\"auto\",\"x\":[\"GEORGETOWN UNIVERSITY\"],\"xaxis\":\"x3\",\"y\":[0.008116883116883116],\"yaxis\":\"y3\",\"type\":\"bar\"},{\"alignmentgroup\":\"True\",\"hovertemplate\":\"employer_type=Education<br>Year=2018<br>SchoolName=%{x}<br>% of grads=%{y}<extra></extra>\",\"legendgroup\":\"Education\",\"marker\":{\"color\":\"#FFA15A\",\"pattern\":{\"shape\":\"\"}},\"name\":\"Education\",\"offsetgroup\":\"Education\",\"orientation\":\"v\",\"showlegend\":false,\"textposition\":\"auto\",\"x\":[\"GEORGETOWN UNIVERSITY\"],\"xaxis\":\"x4\",\"y\":[0.0016181229773462784],\"yaxis\":\"y4\",\"type\":\"bar\"},{\"alignmentgroup\":\"True\",\"hovertemplate\":\"employer_type=Education<br>Year=2019<br>SchoolName=%{x}<br>% of grads=%{y}<extra></extra>\",\"legendgroup\":\"Education\",\"marker\":{\"color\":\"#FFA15A\",\"pattern\":{\"shape\":\"\"}},\"name\":\"Education\",\"offsetgroup\":\"Education\",\"orientation\":\"v\",\"showlegend\":false,\"textposition\":\"auto\",\"x\":[\"GEORGETOWN UNIVERSITY\"],\"xaxis\":\"x5\",\"y\":[0.003179650238473768],\"yaxis\":\"y5\",\"type\":\"bar\"},{\"alignmentgroup\":\"True\",\"hovertemplate\":\"employer_type=Education<br>Year=2020<br>SchoolName=%{x}<br>% of grads=%{y}<extra></extra>\",\"legendgroup\":\"Education\",\"marker\":{\"color\":\"#FFA15A\",\"pattern\":{\"shape\":\"\"}},\"name\":\"Education\",\"offsetgroup\":\"Education\",\"orientation\":\"v\",\"showlegend\":false,\"textposition\":\"auto\",\"x\":[\"GEORGETOWN UNIVERSITY\"],\"xaxis\":\"x6\",\"y\":[0.007763975155279503],\"yaxis\":\"y6\",\"type\":\"bar\"},{\"alignmentgroup\":\"True\",\"hovertemplate\":\"employer_type=Education<br>Year=2021<br>SchoolName=%{x}<br>% of grads=%{y}<extra></extra>\",\"legendgroup\":\"Education\",\"marker\":{\"color\":\"#FFA15A\",\"pattern\":{\"shape\":\"\"}},\"name\":\"Education\",\"offsetgroup\":\"Education\",\"orientation\":\"v\",\"showlegend\":false,\"textposition\":\"auto\",\"x\":[\"GEORGETOWN UNIVERSITY\"],\"xaxis\":\"x7\",\"y\":[0.003134796238244514],\"yaxis\":\"y7\",\"type\":\"bar\"},{\"alignmentgroup\":\"True\",\"hovertemplate\":\"employer_type=EmployerTypeUnknown<br>Year=2015<br>SchoolName=%{x}<br>% of grads=%{y}<extra></extra>\",\"legendgroup\":\"EmployerTypeUnknown\",\"marker\":{\"color\":\"#19d3f3\",\"pattern\":{\"shape\":\"\"}},\"name\":\"EmployerTypeUnknown\",\"offsetgroup\":\"EmployerTypeUnknown\",\"orientation\":\"v\",\"showlegend\":true,\"textposition\":\"auto\",\"x\":[\"GEORGETOWN UNIVERSITY\"],\"xaxis\":\"x\",\"y\":[0.001610305958132045],\"yaxis\":\"y\",\"type\":\"bar\"},{\"alignmentgroup\":\"True\",\"hovertemplate\":\"employer_type=EmployerTypeUnknown<br>Year=2016<br>SchoolName=%{x}<br>% of grads=%{y}<extra></extra>\",\"legendgroup\":\"EmployerTypeUnknown\",\"marker\":{\"color\":\"#19d3f3\",\"pattern\":{\"shape\":\"\"}},\"name\":\"EmployerTypeUnknown\",\"offsetgroup\":\"EmployerTypeUnknown\",\"orientation\":\"v\",\"showlegend\":false,\"textposition\":\"auto\",\"x\":[\"GEORGETOWN UNIVERSITY\"],\"xaxis\":\"x2\",\"y\":[0.0],\"yaxis\":\"y2\",\"type\":\"bar\"},{\"alignmentgroup\":\"True\",\"hovertemplate\":\"employer_type=EmployerTypeUnknown<br>Year=2017<br>SchoolName=%{x}<br>% of grads=%{y}<extra></extra>\",\"legendgroup\":\"EmployerTypeUnknown\",\"marker\":{\"color\":\"#19d3f3\",\"pattern\":{\"shape\":\"\"}},\"name\":\"EmployerTypeUnknown\",\"offsetgroup\":\"EmployerTypeUnknown\",\"orientation\":\"v\",\"showlegend\":false,\"textposition\":\"auto\",\"x\":[\"GEORGETOWN UNIVERSITY\"],\"xaxis\":\"x3\",\"y\":[0.0],\"yaxis\":\"y3\",\"type\":\"bar\"},{\"alignmentgroup\":\"True\",\"hovertemplate\":\"employer_type=EmployerTypeUnknown<br>Year=2018<br>SchoolName=%{x}<br>% of grads=%{y}<extra></extra>\",\"legendgroup\":\"EmployerTypeUnknown\",\"marker\":{\"color\":\"#19d3f3\",\"pattern\":{\"shape\":\"\"}},\"name\":\"EmployerTypeUnknown\",\"offsetgroup\":\"EmployerTypeUnknown\",\"orientation\":\"v\",\"showlegend\":false,\"textposition\":\"auto\",\"x\":[\"GEORGETOWN UNIVERSITY\"],\"xaxis\":\"x4\",\"y\":[0.0],\"yaxis\":\"y4\",\"type\":\"bar\"},{\"alignmentgroup\":\"True\",\"hovertemplate\":\"employer_type=EmployerTypeUnknown<br>Year=2019<br>SchoolName=%{x}<br>% of grads=%{y}<extra></extra>\",\"legendgroup\":\"EmployerTypeUnknown\",\"marker\":{\"color\":\"#19d3f3\",\"pattern\":{\"shape\":\"\"}},\"name\":\"EmployerTypeUnknown\",\"offsetgroup\":\"EmployerTypeUnknown\",\"orientation\":\"v\",\"showlegend\":false,\"textposition\":\"auto\",\"x\":[\"GEORGETOWN UNIVERSITY\"],\"xaxis\":\"x5\",\"y\":[0.0],\"yaxis\":\"y5\",\"type\":\"bar\"},{\"alignmentgroup\":\"True\",\"hovertemplate\":\"employer_type=EmployerTypeUnknown<br>Year=2020<br>SchoolName=%{x}<br>% of grads=%{y}<extra></extra>\",\"legendgroup\":\"EmployerTypeUnknown\",\"marker\":{\"color\":\"#19d3f3\",\"pattern\":{\"shape\":\"\"}},\"name\":\"EmployerTypeUnknown\",\"offsetgroup\":\"EmployerTypeUnknown\",\"orientation\":\"v\",\"showlegend\":false,\"textposition\":\"auto\",\"x\":[\"GEORGETOWN UNIVERSITY\"],\"xaxis\":\"x6\",\"y\":[0.0],\"yaxis\":\"y6\",\"type\":\"bar\"},{\"alignmentgroup\":\"True\",\"hovertemplate\":\"employer_type=EmployerTypeUnknown<br>Year=2021<br>SchoolName=%{x}<br>% of grads=%{y}<extra></extra>\",\"legendgroup\":\"EmployerTypeUnknown\",\"marker\":{\"color\":\"#19d3f3\",\"pattern\":{\"shape\":\"\"}},\"name\":\"EmployerTypeUnknown\",\"offsetgroup\":\"EmployerTypeUnknown\",\"orientation\":\"v\",\"showlegend\":false,\"textposition\":\"auto\",\"x\":[\"GEORGETOWN UNIVERSITY\"],\"xaxis\":\"x7\",\"y\":[0.0],\"yaxis\":\"y7\",\"type\":\"bar\"},{\"alignmentgroup\":\"True\",\"hovertemplate\":\"employer_type=Government<br>Year=2015<br>SchoolName=%{x}<br>% of grads=%{y}<extra></extra>\",\"legendgroup\":\"Government\",\"marker\":{\"color\":\"#FF6692\",\"pattern\":{\"shape\":\"\"}},\"name\":\"Government\",\"offsetgroup\":\"Government\",\"orientation\":\"v\",\"showlegend\":true,\"textposition\":\"auto\",\"x\":[\"GEORGETOWN UNIVERSITY\"],\"xaxis\":\"x\",\"y\":[0.1529790660225443],\"yaxis\":\"y\",\"type\":\"bar\"},{\"alignmentgroup\":\"True\",\"hovertemplate\":\"employer_type=Government<br>Year=2016<br>SchoolName=%{x}<br>% of grads=%{y}<extra></extra>\",\"legendgroup\":\"Government\",\"marker\":{\"color\":\"#FF6692\",\"pattern\":{\"shape\":\"\"}},\"name\":\"Government\",\"offsetgroup\":\"Government\",\"orientation\":\"v\",\"showlegend\":false,\"textposition\":\"auto\",\"x\":[\"GEORGETOWN UNIVERSITY\"],\"xaxis\":\"x2\",\"y\":[0.17077175697865354],\"yaxis\":\"y2\",\"type\":\"bar\"},{\"alignmentgroup\":\"True\",\"hovertemplate\":\"employer_type=Government<br>Year=2017<br>SchoolName=%{x}<br>% of grads=%{y}<extra></extra>\",\"legendgroup\":\"Government\",\"marker\":{\"color\":\"#FF6692\",\"pattern\":{\"shape\":\"\"}},\"name\":\"Government\",\"offsetgroup\":\"Government\",\"orientation\":\"v\",\"showlegend\":false,\"textposition\":\"auto\",\"x\":[\"GEORGETOWN UNIVERSITY\"],\"xaxis\":\"x3\",\"y\":[0.09902597402597403],\"yaxis\":\"y3\",\"type\":\"bar\"},{\"alignmentgroup\":\"True\",\"hovertemplate\":\"employer_type=Government<br>Year=2018<br>SchoolName=%{x}<br>% of grads=%{y}<extra></extra>\",\"legendgroup\":\"Government\",\"marker\":{\"color\":\"#FF6692\",\"pattern\":{\"shape\":\"\"}},\"name\":\"Government\",\"offsetgroup\":\"Government\",\"orientation\":\"v\",\"showlegend\":false,\"textposition\":\"auto\",\"x\":[\"GEORGETOWN UNIVERSITY\"],\"xaxis\":\"x4\",\"y\":[0.10679611650485436],\"yaxis\":\"y4\",\"type\":\"bar\"},{\"alignmentgroup\":\"True\",\"hovertemplate\":\"employer_type=Government<br>Year=2019<br>SchoolName=%{x}<br>% of grads=%{y}<extra></extra>\",\"legendgroup\":\"Government\",\"marker\":{\"color\":\"#FF6692\",\"pattern\":{\"shape\":\"\"}},\"name\":\"Government\",\"offsetgroup\":\"Government\",\"orientation\":\"v\",\"showlegend\":false,\"textposition\":\"auto\",\"x\":[\"GEORGETOWN UNIVERSITY\"],\"xaxis\":\"x5\",\"y\":[0.11764705882352941],\"yaxis\":\"y5\",\"type\":\"bar\"},{\"alignmentgroup\":\"True\",\"hovertemplate\":\"employer_type=Government<br>Year=2020<br>SchoolName=%{x}<br>% of grads=%{y}<extra></extra>\",\"legendgroup\":\"Government\",\"marker\":{\"color\":\"#FF6692\",\"pattern\":{\"shape\":\"\"}},\"name\":\"Government\",\"offsetgroup\":\"Government\",\"orientation\":\"v\",\"showlegend\":false,\"textposition\":\"auto\",\"x\":[\"GEORGETOWN UNIVERSITY\"],\"xaxis\":\"x6\",\"y\":[0.08540372670807453],\"yaxis\":\"y6\",\"type\":\"bar\"},{\"alignmentgroup\":\"True\",\"hovertemplate\":\"employer_type=Government<br>Year=2021<br>SchoolName=%{x}<br>% of grads=%{y}<extra></extra>\",\"legendgroup\":\"Government\",\"marker\":{\"color\":\"#FF6692\",\"pattern\":{\"shape\":\"\"}},\"name\":\"Government\",\"offsetgroup\":\"Government\",\"orientation\":\"v\",\"showlegend\":false,\"textposition\":\"auto\",\"x\":[\"GEORGETOWN UNIVERSITY\"],\"xaxis\":\"x7\",\"y\":[0.08463949843260188],\"yaxis\":\"y7\",\"type\":\"bar\"},{\"alignmentgroup\":\"True\",\"hovertemplate\":\"employer_type=Law Firm 1-10<br>Year=2015<br>SchoolName=%{x}<br>% of grads=%{y}<extra></extra>\",\"legendgroup\":\"Law Firm 1-10\",\"marker\":{\"color\":\"#B6E880\",\"pattern\":{\"shape\":\"\"}},\"name\":\"Law Firm 1-10\",\"offsetgroup\":\"Law Firm 1-10\",\"orientation\":\"v\",\"showlegend\":true,\"textposition\":\"auto\",\"x\":[\"GEORGETOWN UNIVERSITY\"],\"xaxis\":\"x\",\"y\":[0.027375201288244767],\"yaxis\":\"y\",\"type\":\"bar\"},{\"alignmentgroup\":\"True\",\"hovertemplate\":\"employer_type=Law Firm 1-10<br>Year=2016<br>SchoolName=%{x}<br>% of grads=%{y}<extra></extra>\",\"legendgroup\":\"Law Firm 1-10\",\"marker\":{\"color\":\"#B6E880\",\"pattern\":{\"shape\":\"\"}},\"name\":\"Law Firm 1-10\",\"offsetgroup\":\"Law Firm 1-10\",\"orientation\":\"v\",\"showlegend\":false,\"textposition\":\"auto\",\"x\":[\"GEORGETOWN UNIVERSITY\"],\"xaxis\":\"x2\",\"y\":[0.0361247947454844],\"yaxis\":\"y2\",\"type\":\"bar\"},{\"alignmentgroup\":\"True\",\"hovertemplate\":\"employer_type=Law Firm 1-10<br>Year=2017<br>SchoolName=%{x}<br>% of grads=%{y}<extra></extra>\",\"legendgroup\":\"Law Firm 1-10\",\"marker\":{\"color\":\"#B6E880\",\"pattern\":{\"shape\":\"\"}},\"name\":\"Law Firm 1-10\",\"offsetgroup\":\"Law Firm 1-10\",\"orientation\":\"v\",\"showlegend\":false,\"textposition\":\"auto\",\"x\":[\"GEORGETOWN UNIVERSITY\"],\"xaxis\":\"x3\",\"y\":[0.025974025974025976],\"yaxis\":\"y3\",\"type\":\"bar\"},{\"alignmentgroup\":\"True\",\"hovertemplate\":\"employer_type=Law Firm 1-10<br>Year=2018<br>SchoolName=%{x}<br>% of grads=%{y}<extra></extra>\",\"legendgroup\":\"Law Firm 1-10\",\"marker\":{\"color\":\"#B6E880\",\"pattern\":{\"shape\":\"\"}},\"name\":\"Law Firm 1-10\",\"offsetgroup\":\"Law Firm 1-10\",\"orientation\":\"v\",\"showlegend\":false,\"textposition\":\"auto\",\"x\":[\"GEORGETOWN UNIVERSITY\"],\"xaxis\":\"x4\",\"y\":[0.01779935275080906],\"yaxis\":\"y4\",\"type\":\"bar\"},{\"alignmentgroup\":\"True\",\"hovertemplate\":\"employer_type=Law Firm 1-10<br>Year=2019<br>SchoolName=%{x}<br>% of grads=%{y}<extra></extra>\",\"legendgroup\":\"Law Firm 1-10\",\"marker\":{\"color\":\"#B6E880\",\"pattern\":{\"shape\":\"\"}},\"name\":\"Law Firm 1-10\",\"offsetgroup\":\"Law Firm 1-10\",\"orientation\":\"v\",\"showlegend\":false,\"textposition\":\"auto\",\"x\":[\"GEORGETOWN UNIVERSITY\"],\"xaxis\":\"x5\",\"y\":[0.030206677265500796],\"yaxis\":\"y5\",\"type\":\"bar\"},{\"alignmentgroup\":\"True\",\"hovertemplate\":\"employer_type=Law Firm 1-10<br>Year=2020<br>SchoolName=%{x}<br>% of grads=%{y}<extra></extra>\",\"legendgroup\":\"Law Firm 1-10\",\"marker\":{\"color\":\"#B6E880\",\"pattern\":{\"shape\":\"\"}},\"name\":\"Law Firm 1-10\",\"offsetgroup\":\"Law Firm 1-10\",\"orientation\":\"v\",\"showlegend\":false,\"textposition\":\"auto\",\"x\":[\"GEORGETOWN UNIVERSITY\"],\"xaxis\":\"x6\",\"y\":[0.015527950310559006],\"yaxis\":\"y6\",\"type\":\"bar\"},{\"alignmentgroup\":\"True\",\"hovertemplate\":\"employer_type=Law Firm 1-10<br>Year=2021<br>SchoolName=%{x}<br>% of grads=%{y}<extra></extra>\",\"legendgroup\":\"Law Firm 1-10\",\"marker\":{\"color\":\"#B6E880\",\"pattern\":{\"shape\":\"\"}},\"name\":\"Law Firm 1-10\",\"offsetgroup\":\"Law Firm 1-10\",\"orientation\":\"v\",\"showlegend\":false,\"textposition\":\"auto\",\"x\":[\"GEORGETOWN UNIVERSITY\"],\"xaxis\":\"x7\",\"y\":[0.014106583072100314],\"yaxis\":\"y7\",\"type\":\"bar\"},{\"alignmentgroup\":\"True\",\"hovertemplate\":\"employer_type=Law Firm 101-250<br>Year=2015<br>SchoolName=%{x}<br>% of grads=%{y}<extra></extra>\",\"legendgroup\":\"Law Firm 101-250\",\"marker\":{\"color\":\"#FF97FF\",\"pattern\":{\"shape\":\"\"}},\"name\":\"Law Firm 101-250\",\"offsetgroup\":\"Law Firm 101-250\",\"orientation\":\"v\",\"showlegend\":true,\"textposition\":\"auto\",\"x\":[\"GEORGETOWN UNIVERSITY\"],\"xaxis\":\"x\",\"y\":[0.030595813204508857],\"yaxis\":\"y\",\"type\":\"bar\"},{\"alignmentgroup\":\"True\",\"hovertemplate\":\"employer_type=Law Firm 101-250<br>Year=2016<br>SchoolName=%{x}<br>% of grads=%{y}<extra></extra>\",\"legendgroup\":\"Law Firm 101-250\",\"marker\":{\"color\":\"#FF97FF\",\"pattern\":{\"shape\":\"\"}},\"name\":\"Law Firm 101-250\",\"offsetgroup\":\"Law Firm 101-250\",\"orientation\":\"v\",\"showlegend\":false,\"textposition\":\"auto\",\"x\":[\"GEORGETOWN UNIVERSITY\"],\"xaxis\":\"x2\",\"y\":[0.027914614121510674],\"yaxis\":\"y2\",\"type\":\"bar\"},{\"alignmentgroup\":\"True\",\"hovertemplate\":\"employer_type=Law Firm 101-250<br>Year=2017<br>SchoolName=%{x}<br>% of grads=%{y}<extra></extra>\",\"legendgroup\":\"Law Firm 101-250\",\"marker\":{\"color\":\"#FF97FF\",\"pattern\":{\"shape\":\"\"}},\"name\":\"Law Firm 101-250\",\"offsetgroup\":\"Law Firm 101-250\",\"orientation\":\"v\",\"showlegend\":false,\"textposition\":\"auto\",\"x\":[\"GEORGETOWN UNIVERSITY\"],\"xaxis\":\"x3\",\"y\":[0.03896103896103896],\"yaxis\":\"y3\",\"type\":\"bar\"},{\"alignmentgroup\":\"True\",\"hovertemplate\":\"employer_type=Law Firm 101-250<br>Year=2018<br>SchoolName=%{x}<br>% of grads=%{y}<extra></extra>\",\"legendgroup\":\"Law Firm 101-250\",\"marker\":{\"color\":\"#FF97FF\",\"pattern\":{\"shape\":\"\"}},\"name\":\"Law Firm 101-250\",\"offsetgroup\":\"Law Firm 101-250\",\"orientation\":\"v\",\"showlegend\":false,\"textposition\":\"auto\",\"x\":[\"GEORGETOWN UNIVERSITY\"],\"xaxis\":\"x4\",\"y\":[0.024271844660194174],\"yaxis\":\"y4\",\"type\":\"bar\"},{\"alignmentgroup\":\"True\",\"hovertemplate\":\"employer_type=Law Firm 101-250<br>Year=2019<br>SchoolName=%{x}<br>% of grads=%{y}<extra></extra>\",\"legendgroup\":\"Law Firm 101-250\",\"marker\":{\"color\":\"#FF97FF\",\"pattern\":{\"shape\":\"\"}},\"name\":\"Law Firm 101-250\",\"offsetgroup\":\"Law Firm 101-250\",\"orientation\":\"v\",\"showlegend\":false,\"textposition\":\"auto\",\"x\":[\"GEORGETOWN UNIVERSITY\"],\"xaxis\":\"x5\",\"y\":[0.02702702702702703],\"yaxis\":\"y5\",\"type\":\"bar\"},{\"alignmentgroup\":\"True\",\"hovertemplate\":\"employer_type=Law Firm 101-250<br>Year=2020<br>SchoolName=%{x}<br>% of grads=%{y}<extra></extra>\",\"legendgroup\":\"Law Firm 101-250\",\"marker\":{\"color\":\"#FF97FF\",\"pattern\":{\"shape\":\"\"}},\"name\":\"Law Firm 101-250\",\"offsetgroup\":\"Law Firm 101-250\",\"orientation\":\"v\",\"showlegend\":false,\"textposition\":\"auto\",\"x\":[\"GEORGETOWN UNIVERSITY\"],\"xaxis\":\"x6\",\"y\":[0.029503105590062112],\"yaxis\":\"y6\",\"type\":\"bar\"},{\"alignmentgroup\":\"True\",\"hovertemplate\":\"employer_type=Law Firm 101-250<br>Year=2021<br>SchoolName=%{x}<br>% of grads=%{y}<extra></extra>\",\"legendgroup\":\"Law Firm 101-250\",\"marker\":{\"color\":\"#FF97FF\",\"pattern\":{\"shape\":\"\"}},\"name\":\"Law Firm 101-250\",\"offsetgroup\":\"Law Firm 101-250\",\"orientation\":\"v\",\"showlegend\":false,\"textposition\":\"auto\",\"x\":[\"GEORGETOWN UNIVERSITY\"],\"xaxis\":\"x7\",\"y\":[0.029780564263322883],\"yaxis\":\"y7\",\"type\":\"bar\"},{\"alignmentgroup\":\"True\",\"hovertemplate\":\"employer_type=Law Firm 11-25<br>Year=2015<br>SchoolName=%{x}<br>% of grads=%{y}<extra></extra>\",\"legendgroup\":\"Law Firm 11-25\",\"marker\":{\"color\":\"#FECB52\",\"pattern\":{\"shape\":\"\"}},\"name\":\"Law Firm 11-25\",\"offsetgroup\":\"Law Firm 11-25\",\"orientation\":\"v\",\"showlegend\":true,\"textposition\":\"auto\",\"x\":[\"GEORGETOWN UNIVERSITY\"],\"xaxis\":\"x\",\"y\":[0.02254428341384863],\"yaxis\":\"y\",\"type\":\"bar\"},{\"alignmentgroup\":\"True\",\"hovertemplate\":\"employer_type=Law Firm 11-25<br>Year=2016<br>SchoolName=%{x}<br>% of grads=%{y}<extra></extra>\",\"legendgroup\":\"Law Firm 11-25\",\"marker\":{\"color\":\"#FECB52\",\"pattern\":{\"shape\":\"\"}},\"name\":\"Law Firm 11-25\",\"offsetgroup\":\"Law Firm 11-25\",\"orientation\":\"v\",\"showlegend\":false,\"textposition\":\"auto\",\"x\":[\"GEORGETOWN UNIVERSITY\"],\"xaxis\":\"x2\",\"y\":[0.019704433497536946],\"yaxis\":\"y2\",\"type\":\"bar\"},{\"alignmentgroup\":\"True\",\"hovertemplate\":\"employer_type=Law Firm 11-25<br>Year=2017<br>SchoolName=%{x}<br>% of grads=%{y}<extra></extra>\",\"legendgroup\":\"Law Firm 11-25\",\"marker\":{\"color\":\"#FECB52\",\"pattern\":{\"shape\":\"\"}},\"name\":\"Law Firm 11-25\",\"offsetgroup\":\"Law Firm 11-25\",\"orientation\":\"v\",\"showlegend\":false,\"textposition\":\"auto\",\"x\":[\"GEORGETOWN UNIVERSITY\"],\"xaxis\":\"x3\",\"y\":[0.008116883116883116],\"yaxis\":\"y3\",\"type\":\"bar\"},{\"alignmentgroup\":\"True\",\"hovertemplate\":\"employer_type=Law Firm 11-25<br>Year=2018<br>SchoolName=%{x}<br>% of grads=%{y}<extra></extra>\",\"legendgroup\":\"Law Firm 11-25\",\"marker\":{\"color\":\"#FECB52\",\"pattern\":{\"shape\":\"\"}},\"name\":\"Law Firm 11-25\",\"offsetgroup\":\"Law Firm 11-25\",\"orientation\":\"v\",\"showlegend\":false,\"textposition\":\"auto\",\"x\":[\"GEORGETOWN UNIVERSITY\"],\"xaxis\":\"x4\",\"y\":[0.014563106796116505],\"yaxis\":\"y4\",\"type\":\"bar\"},{\"alignmentgroup\":\"True\",\"hovertemplate\":\"employer_type=Law Firm 11-25<br>Year=2019<br>SchoolName=%{x}<br>% of grads=%{y}<extra></extra>\",\"legendgroup\":\"Law Firm 11-25\",\"marker\":{\"color\":\"#FECB52\",\"pattern\":{\"shape\":\"\"}},\"name\":\"Law Firm 11-25\",\"offsetgroup\":\"Law Firm 11-25\",\"orientation\":\"v\",\"showlegend\":false,\"textposition\":\"auto\",\"x\":[\"GEORGETOWN UNIVERSITY\"],\"xaxis\":\"x5\",\"y\":[0.014308426073131956],\"yaxis\":\"y5\",\"type\":\"bar\"},{\"alignmentgroup\":\"True\",\"hovertemplate\":\"employer_type=Law Firm 11-25<br>Year=2020<br>SchoolName=%{x}<br>% of grads=%{y}<extra></extra>\",\"legendgroup\":\"Law Firm 11-25\",\"marker\":{\"color\":\"#FECB52\",\"pattern\":{\"shape\":\"\"}},\"name\":\"Law Firm 11-25\",\"offsetgroup\":\"Law Firm 11-25\",\"orientation\":\"v\",\"showlegend\":false,\"textposition\":\"auto\",\"x\":[\"GEORGETOWN UNIVERSITY\"],\"xaxis\":\"x6\",\"y\":[0.007763975155279503],\"yaxis\":\"y6\",\"type\":\"bar\"},{\"alignmentgroup\":\"True\",\"hovertemplate\":\"employer_type=Law Firm 11-25<br>Year=2021<br>SchoolName=%{x}<br>% of grads=%{y}<extra></extra>\",\"legendgroup\":\"Law Firm 11-25\",\"marker\":{\"color\":\"#FECB52\",\"pattern\":{\"shape\":\"\"}},\"name\":\"Law Firm 11-25\",\"offsetgroup\":\"Law Firm 11-25\",\"orientation\":\"v\",\"showlegend\":false,\"textposition\":\"auto\",\"x\":[\"GEORGETOWN UNIVERSITY\"],\"xaxis\":\"x7\",\"y\":[0.017241379310344827],\"yaxis\":\"y7\",\"type\":\"bar\"},{\"alignmentgroup\":\"True\",\"hovertemplate\":\"employer_type=Law Firm 251-500<br>Year=2015<br>SchoolName=%{x}<br>% of grads=%{y}<extra></extra>\",\"legendgroup\":\"Law Firm 251-500\",\"marker\":{\"color\":\"#636efa\",\"pattern\":{\"shape\":\"\"}},\"name\":\"Law Firm 251-500\",\"offsetgroup\":\"Law Firm 251-500\",\"orientation\":\"v\",\"showlegend\":true,\"textposition\":\"auto\",\"x\":[\"GEORGETOWN UNIVERSITY\"],\"xaxis\":\"x\",\"y\":[0.0644122383252818],\"yaxis\":\"y\",\"type\":\"bar\"},{\"alignmentgroup\":\"True\",\"hovertemplate\":\"employer_type=Law Firm 251-500<br>Year=2016<br>SchoolName=%{x}<br>% of grads=%{y}<extra></extra>\",\"legendgroup\":\"Law Firm 251-500\",\"marker\":{\"color\":\"#636efa\",\"pattern\":{\"shape\":\"\"}},\"name\":\"Law Firm 251-500\",\"offsetgroup\":\"Law Firm 251-500\",\"orientation\":\"v\",\"showlegend\":false,\"textposition\":\"auto\",\"x\":[\"GEORGETOWN UNIVERSITY\"],\"xaxis\":\"x2\",\"y\":[0.052545155993431854],\"yaxis\":\"y2\",\"type\":\"bar\"},{\"alignmentgroup\":\"True\",\"hovertemplate\":\"employer_type=Law Firm 251-500<br>Year=2017<br>SchoolName=%{x}<br>% of grads=%{y}<extra></extra>\",\"legendgroup\":\"Law Firm 251-500\",\"marker\":{\"color\":\"#636efa\",\"pattern\":{\"shape\":\"\"}},\"name\":\"Law Firm 251-500\",\"offsetgroup\":\"Law Firm 251-500\",\"orientation\":\"v\",\"showlegend\":false,\"textposition\":\"auto\",\"x\":[\"GEORGETOWN UNIVERSITY\"],\"xaxis\":\"x3\",\"y\":[0.08766233766233766],\"yaxis\":\"y3\",\"type\":\"bar\"},{\"alignmentgroup\":\"True\",\"hovertemplate\":\"employer_type=Law Firm 251-500<br>Year=2018<br>SchoolName=%{x}<br>% of grads=%{y}<extra></extra>\",\"legendgroup\":\"Law Firm 251-500\",\"marker\":{\"color\":\"#636efa\",\"pattern\":{\"shape\":\"\"}},\"name\":\"Law Firm 251-500\",\"offsetgroup\":\"Law Firm 251-500\",\"orientation\":\"v\",\"showlegend\":false,\"textposition\":\"auto\",\"x\":[\"GEORGETOWN UNIVERSITY\"],\"xaxis\":\"x4\",\"y\":[0.06472491909385113],\"yaxis\":\"y4\",\"type\":\"bar\"},{\"alignmentgroup\":\"True\",\"hovertemplate\":\"employer_type=Law Firm 251-500<br>Year=2019<br>SchoolName=%{x}<br>% of grads=%{y}<extra></extra>\",\"legendgroup\":\"Law Firm 251-500\",\"marker\":{\"color\":\"#636efa\",\"pattern\":{\"shape\":\"\"}},\"name\":\"Law Firm 251-500\",\"offsetgroup\":\"Law Firm 251-500\",\"orientation\":\"v\",\"showlegend\":false,\"textposition\":\"auto\",\"x\":[\"GEORGETOWN UNIVERSITY\"],\"xaxis\":\"x5\",\"y\":[0.058823529411764705],\"yaxis\":\"y5\",\"type\":\"bar\"},{\"alignmentgroup\":\"True\",\"hovertemplate\":\"employer_type=Law Firm 251-500<br>Year=2020<br>SchoolName=%{x}<br>% of grads=%{y}<extra></extra>\",\"legendgroup\":\"Law Firm 251-500\",\"marker\":{\"color\":\"#636efa\",\"pattern\":{\"shape\":\"\"}},\"name\":\"Law Firm 251-500\",\"offsetgroup\":\"Law Firm 251-500\",\"orientation\":\"v\",\"showlegend\":false,\"textposition\":\"auto\",\"x\":[\"GEORGETOWN UNIVERSITY\"],\"xaxis\":\"x6\",\"y\":[0.06521739130434782],\"yaxis\":\"y6\",\"type\":\"bar\"},{\"alignmentgroup\":\"True\",\"hovertemplate\":\"employer_type=Law Firm 251-500<br>Year=2021<br>SchoolName=%{x}<br>% of grads=%{y}<extra></extra>\",\"legendgroup\":\"Law Firm 251-500\",\"marker\":{\"color\":\"#636efa\",\"pattern\":{\"shape\":\"\"}},\"name\":\"Law Firm 251-500\",\"offsetgroup\":\"Law Firm 251-500\",\"orientation\":\"v\",\"showlegend\":false,\"textposition\":\"auto\",\"x\":[\"GEORGETOWN UNIVERSITY\"],\"xaxis\":\"x7\",\"y\":[0.0768025078369906],\"yaxis\":\"y7\",\"type\":\"bar\"},{\"alignmentgroup\":\"True\",\"hovertemplate\":\"employer_type=Law Firm 26-50<br>Year=2015<br>SchoolName=%{x}<br>% of grads=%{y}<extra></extra>\",\"legendgroup\":\"Law Firm 26-50\",\"marker\":{\"color\":\"#EF553B\",\"pattern\":{\"shape\":\"\"}},\"name\":\"Law Firm 26-50\",\"offsetgroup\":\"Law Firm 26-50\",\"orientation\":\"v\",\"showlegend\":true,\"textposition\":\"auto\",\"x\":[\"GEORGETOWN UNIVERSITY\"],\"xaxis\":\"x\",\"y\":[0.00966183574879227],\"yaxis\":\"y\",\"type\":\"bar\"},{\"alignmentgroup\":\"True\",\"hovertemplate\":\"employer_type=Law Firm 26-50<br>Year=2016<br>SchoolName=%{x}<br>% of grads=%{y}<extra></extra>\",\"legendgroup\":\"Law Firm 26-50\",\"marker\":{\"color\":\"#EF553B\",\"pattern\":{\"shape\":\"\"}},\"name\":\"Law Firm 26-50\",\"offsetgroup\":\"Law Firm 26-50\",\"orientation\":\"v\",\"showlegend\":false,\"textposition\":\"auto\",\"x\":[\"GEORGETOWN UNIVERSITY\"],\"xaxis\":\"x2\",\"y\":[0.014778325123152709],\"yaxis\":\"y2\",\"type\":\"bar\"},{\"alignmentgroup\":\"True\",\"hovertemplate\":\"employer_type=Law Firm 26-50<br>Year=2017<br>SchoolName=%{x}<br>% of grads=%{y}<extra></extra>\",\"legendgroup\":\"Law Firm 26-50\",\"marker\":{\"color\":\"#EF553B\",\"pattern\":{\"shape\":\"\"}},\"name\":\"Law Firm 26-50\",\"offsetgroup\":\"Law Firm 26-50\",\"orientation\":\"v\",\"showlegend\":false,\"textposition\":\"auto\",\"x\":[\"GEORGETOWN UNIVERSITY\"],\"xaxis\":\"x3\",\"y\":[0.006493506493506494],\"yaxis\":\"y3\",\"type\":\"bar\"},{\"alignmentgroup\":\"True\",\"hovertemplate\":\"employer_type=Law Firm 26-50<br>Year=2018<br>SchoolName=%{x}<br>% of grads=%{y}<extra></extra>\",\"legendgroup\":\"Law Firm 26-50\",\"marker\":{\"color\":\"#EF553B\",\"pattern\":{\"shape\":\"\"}},\"name\":\"Law Firm 26-50\",\"offsetgroup\":\"Law Firm 26-50\",\"orientation\":\"v\",\"showlegend\":false,\"textposition\":\"auto\",\"x\":[\"GEORGETOWN UNIVERSITY\"],\"xaxis\":\"x4\",\"y\":[0.009708737864077669],\"yaxis\":\"y4\",\"type\":\"bar\"},{\"alignmentgroup\":\"True\",\"hovertemplate\":\"employer_type=Law Firm 26-50<br>Year=2019<br>SchoolName=%{x}<br>% of grads=%{y}<extra></extra>\",\"legendgroup\":\"Law Firm 26-50\",\"marker\":{\"color\":\"#EF553B\",\"pattern\":{\"shape\":\"\"}},\"name\":\"Law Firm 26-50\",\"offsetgroup\":\"Law Firm 26-50\",\"orientation\":\"v\",\"showlegend\":false,\"textposition\":\"auto\",\"x\":[\"GEORGETOWN UNIVERSITY\"],\"xaxis\":\"x5\",\"y\":[0.009538950715421303],\"yaxis\":\"y5\",\"type\":\"bar\"},{\"alignmentgroup\":\"True\",\"hovertemplate\":\"employer_type=Law Firm 26-50<br>Year=2020<br>SchoolName=%{x}<br>% of grads=%{y}<extra></extra>\",\"legendgroup\":\"Law Firm 26-50\",\"marker\":{\"color\":\"#EF553B\",\"pattern\":{\"shape\":\"\"}},\"name\":\"Law Firm 26-50\",\"offsetgroup\":\"Law Firm 26-50\",\"orientation\":\"v\",\"showlegend\":false,\"textposition\":\"auto\",\"x\":[\"GEORGETOWN UNIVERSITY\"],\"xaxis\":\"x6\",\"y\":[0.009316770186335404],\"yaxis\":\"y6\",\"type\":\"bar\"},{\"alignmentgroup\":\"True\",\"hovertemplate\":\"employer_type=Law Firm 26-50<br>Year=2021<br>SchoolName=%{x}<br>% of grads=%{y}<extra></extra>\",\"legendgroup\":\"Law Firm 26-50\",\"marker\":{\"color\":\"#EF553B\",\"pattern\":{\"shape\":\"\"}},\"name\":\"Law Firm 26-50\",\"offsetgroup\":\"Law Firm 26-50\",\"orientation\":\"v\",\"showlegend\":false,\"textposition\":\"auto\",\"x\":[\"GEORGETOWN UNIVERSITY\"],\"xaxis\":\"x7\",\"y\":[0.012539184952978056],\"yaxis\":\"y7\",\"type\":\"bar\"},{\"alignmentgroup\":\"True\",\"hovertemplate\":\"employer_type=Law Firm 500+<br>Year=2015<br>SchoolName=%{x}<br>% of grads=%{y}<extra></extra>\",\"legendgroup\":\"Law Firm 500+\",\"marker\":{\"color\":\"#00cc96\",\"pattern\":{\"shape\":\"\"}},\"name\":\"Law Firm 500+\",\"offsetgroup\":\"Law Firm 500+\",\"orientation\":\"v\",\"showlegend\":true,\"textposition\":\"auto\",\"x\":[\"GEORGETOWN UNIVERSITY\"],\"xaxis\":\"x\",\"y\":[0.3494363929146538],\"yaxis\":\"y\",\"type\":\"bar\"},{\"alignmentgroup\":\"True\",\"hovertemplate\":\"employer_type=Law Firm 500+<br>Year=2016<br>SchoolName=%{x}<br>% of grads=%{y}<extra></extra>\",\"legendgroup\":\"Law Firm 500+\",\"marker\":{\"color\":\"#00cc96\",\"pattern\":{\"shape\":\"\"}},\"name\":\"Law Firm 500+\",\"offsetgroup\":\"Law Firm 500+\",\"orientation\":\"v\",\"showlegend\":false,\"textposition\":\"auto\",\"x\":[\"GEORGETOWN UNIVERSITY\"],\"xaxis\":\"x2\",\"y\":[0.41379310344827586],\"yaxis\":\"y2\",\"type\":\"bar\"},{\"alignmentgroup\":\"True\",\"hovertemplate\":\"employer_type=Law Firm 500+<br>Year=2017<br>SchoolName=%{x}<br>% of grads=%{y}<extra></extra>\",\"legendgroup\":\"Law Firm 500+\",\"marker\":{\"color\":\"#00cc96\",\"pattern\":{\"shape\":\"\"}},\"name\":\"Law Firm 500+\",\"offsetgroup\":\"Law Firm 500+\",\"orientation\":\"v\",\"showlegend\":false,\"textposition\":\"auto\",\"x\":[\"GEORGETOWN UNIVERSITY\"],\"xaxis\":\"x3\",\"y\":[0.45454545454545453],\"yaxis\":\"y3\",\"type\":\"bar\"},{\"alignmentgroup\":\"True\",\"hovertemplate\":\"employer_type=Law Firm 500+<br>Year=2018<br>SchoolName=%{x}<br>% of grads=%{y}<extra></extra>\",\"legendgroup\":\"Law Firm 500+\",\"marker\":{\"color\":\"#00cc96\",\"pattern\":{\"shape\":\"\"}},\"name\":\"Law Firm 500+\",\"offsetgroup\":\"Law Firm 500+\",\"orientation\":\"v\",\"showlegend\":false,\"textposition\":\"auto\",\"x\":[\"GEORGETOWN UNIVERSITY\"],\"xaxis\":\"x4\",\"y\":[0.5016181229773463],\"yaxis\":\"y4\",\"type\":\"bar\"},{\"alignmentgroup\":\"True\",\"hovertemplate\":\"employer_type=Law Firm 500+<br>Year=2019<br>SchoolName=%{x}<br>% of grads=%{y}<extra></extra>\",\"legendgroup\":\"Law Firm 500+\",\"marker\":{\"color\":\"#00cc96\",\"pattern\":{\"shape\":\"\"}},\"name\":\"Law Firm 500+\",\"offsetgroup\":\"Law Firm 500+\",\"orientation\":\"v\",\"showlegend\":false,\"textposition\":\"auto\",\"x\":[\"GEORGETOWN UNIVERSITY\"],\"xaxis\":\"x5\",\"y\":[0.4483306836248013],\"yaxis\":\"y5\",\"type\":\"bar\"},{\"alignmentgroup\":\"True\",\"hovertemplate\":\"employer_type=Law Firm 500+<br>Year=2020<br>SchoolName=%{x}<br>% of grads=%{y}<extra></extra>\",\"legendgroup\":\"Law Firm 500+\",\"marker\":{\"color\":\"#00cc96\",\"pattern\":{\"shape\":\"\"}},\"name\":\"Law Firm 500+\",\"offsetgroup\":\"Law Firm 500+\",\"orientation\":\"v\",\"showlegend\":false,\"textposition\":\"auto\",\"x\":[\"GEORGETOWN UNIVERSITY\"],\"xaxis\":\"x6\",\"y\":[0.5062111801242236],\"yaxis\":\"y6\",\"type\":\"bar\"},{\"alignmentgroup\":\"True\",\"hovertemplate\":\"employer_type=Law Firm 500+<br>Year=2021<br>SchoolName=%{x}<br>% of grads=%{y}<extra></extra>\",\"legendgroup\":\"Law Firm 500+\",\"marker\":{\"color\":\"#00cc96\",\"pattern\":{\"shape\":\"\"}},\"name\":\"Law Firm 500+\",\"offsetgroup\":\"Law Firm 500+\",\"orientation\":\"v\",\"showlegend\":false,\"textposition\":\"auto\",\"x\":[\"GEORGETOWN UNIVERSITY\"],\"xaxis\":\"x7\",\"y\":[0.47648902821316613],\"yaxis\":\"y7\",\"type\":\"bar\"},{\"alignmentgroup\":\"True\",\"hovertemplate\":\"employer_type=Law Firm 51-100<br>Year=2015<br>SchoolName=%{x}<br>% of grads=%{y}<extra></extra>\",\"legendgroup\":\"Law Firm 51-100\",\"marker\":{\"color\":\"#ab63fa\",\"pattern\":{\"shape\":\"\"}},\"name\":\"Law Firm 51-100\",\"offsetgroup\":\"Law Firm 51-100\",\"orientation\":\"v\",\"showlegend\":true,\"textposition\":\"auto\",\"x\":[\"GEORGETOWN UNIVERSITY\"],\"xaxis\":\"x\",\"y\":[0.01288244766505636],\"yaxis\":\"y\",\"type\":\"bar\"},{\"alignmentgroup\":\"True\",\"hovertemplate\":\"employer_type=Law Firm 51-100<br>Year=2016<br>SchoolName=%{x}<br>% of grads=%{y}<extra></extra>\",\"legendgroup\":\"Law Firm 51-100\",\"marker\":{\"color\":\"#ab63fa\",\"pattern\":{\"shape\":\"\"}},\"name\":\"Law Firm 51-100\",\"offsetgroup\":\"Law Firm 51-100\",\"orientation\":\"v\",\"showlegend\":false,\"textposition\":\"auto\",\"x\":[\"GEORGETOWN UNIVERSITY\"],\"xaxis\":\"x2\",\"y\":[0.016420361247947456],\"yaxis\":\"y2\",\"type\":\"bar\"},{\"alignmentgroup\":\"True\",\"hovertemplate\":\"employer_type=Law Firm 51-100<br>Year=2017<br>SchoolName=%{x}<br>% of grads=%{y}<extra></extra>\",\"legendgroup\":\"Law Firm 51-100\",\"marker\":{\"color\":\"#ab63fa\",\"pattern\":{\"shape\":\"\"}},\"name\":\"Law Firm 51-100\",\"offsetgroup\":\"Law Firm 51-100\",\"orientation\":\"v\",\"showlegend\":false,\"textposition\":\"auto\",\"x\":[\"GEORGETOWN UNIVERSITY\"],\"xaxis\":\"x3\",\"y\":[0.01461038961038961],\"yaxis\":\"y3\",\"type\":\"bar\"},{\"alignmentgroup\":\"True\",\"hovertemplate\":\"employer_type=Law Firm 51-100<br>Year=2018<br>SchoolName=%{x}<br>% of grads=%{y}<extra></extra>\",\"legendgroup\":\"Law Firm 51-100\",\"marker\":{\"color\":\"#ab63fa\",\"pattern\":{\"shape\":\"\"}},\"name\":\"Law Firm 51-100\",\"offsetgroup\":\"Law Firm 51-100\",\"orientation\":\"v\",\"showlegend\":false,\"textposition\":\"auto\",\"x\":[\"GEORGETOWN UNIVERSITY\"],\"xaxis\":\"x4\",\"y\":[0.025889967637540454],\"yaxis\":\"y4\",\"type\":\"bar\"},{\"alignmentgroup\":\"True\",\"hovertemplate\":\"employer_type=Law Firm 51-100<br>Year=2019<br>SchoolName=%{x}<br>% of grads=%{y}<extra></extra>\",\"legendgroup\":\"Law Firm 51-100\",\"marker\":{\"color\":\"#ab63fa\",\"pattern\":{\"shape\":\"\"}},\"name\":\"Law Firm 51-100\",\"offsetgroup\":\"Law Firm 51-100\",\"orientation\":\"v\",\"showlegend\":false,\"textposition\":\"auto\",\"x\":[\"GEORGETOWN UNIVERSITY\"],\"xaxis\":\"x5\",\"y\":[0.011128775834658187],\"yaxis\":\"y5\",\"type\":\"bar\"},{\"alignmentgroup\":\"True\",\"hovertemplate\":\"employer_type=Law Firm 51-100<br>Year=2020<br>SchoolName=%{x}<br>% of grads=%{y}<extra></extra>\",\"legendgroup\":\"Law Firm 51-100\",\"marker\":{\"color\":\"#ab63fa\",\"pattern\":{\"shape\":\"\"}},\"name\":\"Law Firm 51-100\",\"offsetgroup\":\"Law Firm 51-100\",\"orientation\":\"v\",\"showlegend\":false,\"textposition\":\"auto\",\"x\":[\"GEORGETOWN UNIVERSITY\"],\"xaxis\":\"x6\",\"y\":[0.015527950310559006],\"yaxis\":\"y6\",\"type\":\"bar\"},{\"alignmentgroup\":\"True\",\"hovertemplate\":\"employer_type=Law Firm 51-100<br>Year=2021<br>SchoolName=%{x}<br>% of grads=%{y}<extra></extra>\",\"legendgroup\":\"Law Firm 51-100\",\"marker\":{\"color\":\"#ab63fa\",\"pattern\":{\"shape\":\"\"}},\"name\":\"Law Firm 51-100\",\"offsetgroup\":\"Law Firm 51-100\",\"orientation\":\"v\",\"showlegend\":false,\"textposition\":\"auto\",\"x\":[\"GEORGETOWN UNIVERSITY\"],\"xaxis\":\"x7\",\"y\":[0.0219435736677116],\"yaxis\":\"y7\",\"type\":\"bar\"},{\"alignmentgroup\":\"True\",\"hovertemplate\":\"employer_type=PublicInterest<br>Year=2015<br>SchoolName=%{x}<br>% of grads=%{y}<extra></extra>\",\"legendgroup\":\"PublicInterest\",\"marker\":{\"color\":\"#FFA15A\",\"pattern\":{\"shape\":\"\"}},\"name\":\"PublicInterest\",\"offsetgroup\":\"PublicInterest\",\"orientation\":\"v\",\"showlegend\":true,\"textposition\":\"auto\",\"x\":[\"GEORGETOWN UNIVERSITY\"],\"xaxis\":\"x\",\"y\":[0.15942028985507245],\"yaxis\":\"y\",\"type\":\"bar\"},{\"alignmentgroup\":\"True\",\"hovertemplate\":\"employer_type=PublicInterest<br>Year=2016<br>SchoolName=%{x}<br>% of grads=%{y}<extra></extra>\",\"legendgroup\":\"PublicInterest\",\"marker\":{\"color\":\"#FFA15A\",\"pattern\":{\"shape\":\"\"}},\"name\":\"PublicInterest\",\"offsetgroup\":\"PublicInterest\",\"orientation\":\"v\",\"showlegend\":false,\"textposition\":\"auto\",\"x\":[\"GEORGETOWN UNIVERSITY\"],\"xaxis\":\"x2\",\"y\":[0.090311986863711],\"yaxis\":\"y2\",\"type\":\"bar\"},{\"alignmentgroup\":\"True\",\"hovertemplate\":\"employer_type=PublicInterest<br>Year=2017<br>SchoolName=%{x}<br>% of grads=%{y}<extra></extra>\",\"legendgroup\":\"PublicInterest\",\"marker\":{\"color\":\"#FFA15A\",\"pattern\":{\"shape\":\"\"}},\"name\":\"PublicInterest\",\"offsetgroup\":\"PublicInterest\",\"orientation\":\"v\",\"showlegend\":false,\"textposition\":\"auto\",\"x\":[\"GEORGETOWN UNIVERSITY\"],\"xaxis\":\"x3\",\"y\":[0.11525974025974026],\"yaxis\":\"y3\",\"type\":\"bar\"},{\"alignmentgroup\":\"True\",\"hovertemplate\":\"employer_type=PublicInterest<br>Year=2018<br>SchoolName=%{x}<br>% of grads=%{y}<extra></extra>\",\"legendgroup\":\"PublicInterest\",\"marker\":{\"color\":\"#FFA15A\",\"pattern\":{\"shape\":\"\"}},\"name\":\"PublicInterest\",\"offsetgroup\":\"PublicInterest\",\"orientation\":\"v\",\"showlegend\":false,\"textposition\":\"auto\",\"x\":[\"GEORGETOWN UNIVERSITY\"],\"xaxis\":\"x4\",\"y\":[0.10194174757281553],\"yaxis\":\"y4\",\"type\":\"bar\"},{\"alignmentgroup\":\"True\",\"hovertemplate\":\"employer_type=PublicInterest<br>Year=2019<br>SchoolName=%{x}<br>% of grads=%{y}<extra></extra>\",\"legendgroup\":\"PublicInterest\",\"marker\":{\"color\":\"#FFA15A\",\"pattern\":{\"shape\":\"\"}},\"name\":\"PublicInterest\",\"offsetgroup\":\"PublicInterest\",\"orientation\":\"v\",\"showlegend\":false,\"textposition\":\"auto\",\"x\":[\"GEORGETOWN UNIVERSITY\"],\"xaxis\":\"x5\",\"y\":[0.10810810810810811],\"yaxis\":\"y5\",\"type\":\"bar\"},{\"alignmentgroup\":\"True\",\"hovertemplate\":\"employer_type=PublicInterest<br>Year=2020<br>SchoolName=%{x}<br>% of grads=%{y}<extra></extra>\",\"legendgroup\":\"PublicInterest\",\"marker\":{\"color\":\"#FFA15A\",\"pattern\":{\"shape\":\"\"}},\"name\":\"PublicInterest\",\"offsetgroup\":\"PublicInterest\",\"orientation\":\"v\",\"showlegend\":false,\"textposition\":\"auto\",\"x\":[\"GEORGETOWN UNIVERSITY\"],\"xaxis\":\"x6\",\"y\":[0.12422360248447205],\"yaxis\":\"y6\",\"type\":\"bar\"},{\"alignmentgroup\":\"True\",\"hovertemplate\":\"employer_type=PublicInterest<br>Year=2021<br>SchoolName=%{x}<br>% of grads=%{y}<extra></extra>\",\"legendgroup\":\"PublicInterest\",\"marker\":{\"color\":\"#FFA15A\",\"pattern\":{\"shape\":\"\"}},\"name\":\"PublicInterest\",\"offsetgroup\":\"PublicInterest\",\"orientation\":\"v\",\"showlegend\":false,\"textposition\":\"auto\",\"x\":[\"GEORGETOWN UNIVERSITY\"],\"xaxis\":\"x7\",\"y\":[0.10501567398119123],\"yaxis\":\"y7\",\"type\":\"bar\"}],                        {\"template\":{\"data\":{\"histogram2dcontour\":[{\"type\":\"histogram2dcontour\",\"colorbar\":{\"outlinewidth\":0,\"ticks\":\"\"},\"colorscale\":[[0.0,\"#0d0887\"],[0.1111111111111111,\"#46039f\"],[0.2222222222222222,\"#7201a8\"],[0.3333333333333333,\"#9c179e\"],[0.4444444444444444,\"#bd3786\"],[0.5555555555555556,\"#d8576b\"],[0.6666666666666666,\"#ed7953\"],[0.7777777777777778,\"#fb9f3a\"],[0.8888888888888888,\"#fdca26\"],[1.0,\"#f0f921\"]]}],\"choropleth\":[{\"type\":\"choropleth\",\"colorbar\":{\"outlinewidth\":0,\"ticks\":\"\"}}],\"histogram2d\":[{\"type\":\"histogram2d\",\"colorbar\":{\"outlinewidth\":0,\"ticks\":\"\"},\"colorscale\":[[0.0,\"#0d0887\"],[0.1111111111111111,\"#46039f\"],[0.2222222222222222,\"#7201a8\"],[0.3333333333333333,\"#9c179e\"],[0.4444444444444444,\"#bd3786\"],[0.5555555555555556,\"#d8576b\"],[0.6666666666666666,\"#ed7953\"],[0.7777777777777778,\"#fb9f3a\"],[0.8888888888888888,\"#fdca26\"],[1.0,\"#f0f921\"]]}],\"heatmap\":[{\"type\":\"heatmap\",\"colorbar\":{\"outlinewidth\":0,\"ticks\":\"\"},\"colorscale\":[[0.0,\"#0d0887\"],[0.1111111111111111,\"#46039f\"],[0.2222222222222222,\"#7201a8\"],[0.3333333333333333,\"#9c179e\"],[0.4444444444444444,\"#bd3786\"],[0.5555555555555556,\"#d8576b\"],[0.6666666666666666,\"#ed7953\"],[0.7777777777777778,\"#fb9f3a\"],[0.8888888888888888,\"#fdca26\"],[1.0,\"#f0f921\"]]}],\"heatmapgl\":[{\"type\":\"heatmapgl\",\"colorbar\":{\"outlinewidth\":0,\"ticks\":\"\"},\"colorscale\":[[0.0,\"#0d0887\"],[0.1111111111111111,\"#46039f\"],[0.2222222222222222,\"#7201a8\"],[0.3333333333333333,\"#9c179e\"],[0.4444444444444444,\"#bd3786\"],[0.5555555555555556,\"#d8576b\"],[0.6666666666666666,\"#ed7953\"],[0.7777777777777778,\"#fb9f3a\"],[0.8888888888888888,\"#fdca26\"],[1.0,\"#f0f921\"]]}],\"contourcarpet\":[{\"type\":\"contourcarpet\",\"colorbar\":{\"outlinewidth\":0,\"ticks\":\"\"}}],\"contour\":[{\"type\":\"contour\",\"colorbar\":{\"outlinewidth\":0,\"ticks\":\"\"},\"colorscale\":[[0.0,\"#0d0887\"],[0.1111111111111111,\"#46039f\"],[0.2222222222222222,\"#7201a8\"],[0.3333333333333333,\"#9c179e\"],[0.4444444444444444,\"#bd3786\"],[0.5555555555555556,\"#d8576b\"],[0.6666666666666666,\"#ed7953\"],[0.7777777777777778,\"#fb9f3a\"],[0.8888888888888888,\"#fdca26\"],[1.0,\"#f0f921\"]]}],\"surface\":[{\"type\":\"surface\",\"colorbar\":{\"outlinewidth\":0,\"ticks\":\"\"},\"colorscale\":[[0.0,\"#0d0887\"],[0.1111111111111111,\"#46039f\"],[0.2222222222222222,\"#7201a8\"],[0.3333333333333333,\"#9c179e\"],[0.4444444444444444,\"#bd3786\"],[0.5555555555555556,\"#d8576b\"],[0.6666666666666666,\"#ed7953\"],[0.7777777777777778,\"#fb9f3a\"],[0.8888888888888888,\"#fdca26\"],[1.0,\"#f0f921\"]]}],\"mesh3d\":[{\"type\":\"mesh3d\",\"colorbar\":{\"outlinewidth\":0,\"ticks\":\"\"}}],\"scatter\":[{\"fillpattern\":{\"fillmode\":\"overlay\",\"size\":10,\"solidity\":0.2},\"type\":\"scatter\"}],\"parcoords\":[{\"type\":\"parcoords\",\"line\":{\"colorbar\":{\"outlinewidth\":0,\"ticks\":\"\"}}}],\"scatterpolargl\":[{\"type\":\"scatterpolargl\",\"marker\":{\"colorbar\":{\"outlinewidth\":0,\"ticks\":\"\"}}}],\"bar\":[{\"error_x\":{\"color\":\"#2a3f5f\"},\"error_y\":{\"color\":\"#2a3f5f\"},\"marker\":{\"line\":{\"color\":\"#E5ECF6\",\"width\":0.5},\"pattern\":{\"fillmode\":\"overlay\",\"size\":10,\"solidity\":0.2}},\"type\":\"bar\"}],\"scattergeo\":[{\"type\":\"scattergeo\",\"marker\":{\"colorbar\":{\"outlinewidth\":0,\"ticks\":\"\"}}}],\"scatterpolar\":[{\"type\":\"scatterpolar\",\"marker\":{\"colorbar\":{\"outlinewidth\":0,\"ticks\":\"\"}}}],\"histogram\":[{\"marker\":{\"pattern\":{\"fillmode\":\"overlay\",\"size\":10,\"solidity\":0.2}},\"type\":\"histogram\"}],\"scattergl\":[{\"type\":\"scattergl\",\"marker\":{\"colorbar\":{\"outlinewidth\":0,\"ticks\":\"\"}}}],\"scatter3d\":[{\"type\":\"scatter3d\",\"line\":{\"colorbar\":{\"outlinewidth\":0,\"ticks\":\"\"}},\"marker\":{\"colorbar\":{\"outlinewidth\":0,\"ticks\":\"\"}}}],\"scattermapbox\":[{\"type\":\"scattermapbox\",\"marker\":{\"colorbar\":{\"outlinewidth\":0,\"ticks\":\"\"}}}],\"scatterternary\":[{\"type\":\"scatterternary\",\"marker\":{\"colorbar\":{\"outlinewidth\":0,\"ticks\":\"\"}}}],\"scattercarpet\":[{\"type\":\"scattercarpet\",\"marker\":{\"colorbar\":{\"outlinewidth\":0,\"ticks\":\"\"}}}],\"carpet\":[{\"aaxis\":{\"endlinecolor\":\"#2a3f5f\",\"gridcolor\":\"white\",\"linecolor\":\"white\",\"minorgridcolor\":\"white\",\"startlinecolor\":\"#2a3f5f\"},\"baxis\":{\"endlinecolor\":\"#2a3f5f\",\"gridcolor\":\"white\",\"linecolor\":\"white\",\"minorgridcolor\":\"white\",\"startlinecolor\":\"#2a3f5f\"},\"type\":\"carpet\"}],\"table\":[{\"cells\":{\"fill\":{\"color\":\"#EBF0F8\"},\"line\":{\"color\":\"white\"}},\"header\":{\"fill\":{\"color\":\"#C8D4E3\"},\"line\":{\"color\":\"white\"}},\"type\":\"table\"}],\"barpolar\":[{\"marker\":{\"line\":{\"color\":\"#E5ECF6\",\"width\":0.5},\"pattern\":{\"fillmode\":\"overlay\",\"size\":10,\"solidity\":0.2}},\"type\":\"barpolar\"}],\"pie\":[{\"automargin\":true,\"type\":\"pie\"}]},\"layout\":{\"autotypenumbers\":\"strict\",\"colorway\":[\"#636efa\",\"#EF553B\",\"#00cc96\",\"#ab63fa\",\"#FFA15A\",\"#19d3f3\",\"#FF6692\",\"#B6E880\",\"#FF97FF\",\"#FECB52\"],\"font\":{\"color\":\"#2a3f5f\"},\"hovermode\":\"closest\",\"hoverlabel\":{\"align\":\"left\"},\"paper_bgcolor\":\"white\",\"plot_bgcolor\":\"#E5ECF6\",\"polar\":{\"bgcolor\":\"#E5ECF6\",\"angularaxis\":{\"gridcolor\":\"white\",\"linecolor\":\"white\",\"ticks\":\"\"},\"radialaxis\":{\"gridcolor\":\"white\",\"linecolor\":\"white\",\"ticks\":\"\"}},\"ternary\":{\"bgcolor\":\"#E5ECF6\",\"aaxis\":{\"gridcolor\":\"white\",\"linecolor\":\"white\",\"ticks\":\"\"},\"baxis\":{\"gridcolor\":\"white\",\"linecolor\":\"white\",\"ticks\":\"\"},\"caxis\":{\"gridcolor\":\"white\",\"linecolor\":\"white\",\"ticks\":\"\"}},\"coloraxis\":{\"colorbar\":{\"outlinewidth\":0,\"ticks\":\"\"}},\"colorscale\":{\"sequential\":[[0.0,\"#0d0887\"],[0.1111111111111111,\"#46039f\"],[0.2222222222222222,\"#7201a8\"],[0.3333333333333333,\"#9c179e\"],[0.4444444444444444,\"#bd3786\"],[0.5555555555555556,\"#d8576b\"],[0.6666666666666666,\"#ed7953\"],[0.7777777777777778,\"#fb9f3a\"],[0.8888888888888888,\"#fdca26\"],[1.0,\"#f0f921\"]],\"sequentialminus\":[[0.0,\"#0d0887\"],[0.1111111111111111,\"#46039f\"],[0.2222222222222222,\"#7201a8\"],[0.3333333333333333,\"#9c179e\"],[0.4444444444444444,\"#bd3786\"],[0.5555555555555556,\"#d8576b\"],[0.6666666666666666,\"#ed7953\"],[0.7777777777777778,\"#fb9f3a\"],[0.8888888888888888,\"#fdca26\"],[1.0,\"#f0f921\"]],\"diverging\":[[0,\"#8e0152\"],[0.1,\"#c51b7d\"],[0.2,\"#de77ae\"],[0.3,\"#f1b6da\"],[0.4,\"#fde0ef\"],[0.5,\"#f7f7f7\"],[0.6,\"#e6f5d0\"],[0.7,\"#b8e186\"],[0.8,\"#7fbc41\"],[0.9,\"#4d9221\"],[1,\"#276419\"]]},\"xaxis\":{\"gridcolor\":\"white\",\"linecolor\":\"white\",\"ticks\":\"\",\"title\":{\"standoff\":15},\"zerolinecolor\":\"white\",\"automargin\":true,\"zerolinewidth\":2},\"yaxis\":{\"gridcolor\":\"white\",\"linecolor\":\"white\",\"ticks\":\"\",\"title\":{\"standoff\":15},\"zerolinecolor\":\"white\",\"automargin\":true,\"zerolinewidth\":2},\"scene\":{\"xaxis\":{\"backgroundcolor\":\"#E5ECF6\",\"gridcolor\":\"white\",\"linecolor\":\"white\",\"showbackground\":true,\"ticks\":\"\",\"zerolinecolor\":\"white\",\"gridwidth\":2},\"yaxis\":{\"backgroundcolor\":\"#E5ECF6\",\"gridcolor\":\"white\",\"linecolor\":\"white\",\"showbackground\":true,\"ticks\":\"\",\"zerolinecolor\":\"white\",\"gridwidth\":2},\"zaxis\":{\"backgroundcolor\":\"#E5ECF6\",\"gridcolor\":\"white\",\"linecolor\":\"white\",\"showbackground\":true,\"ticks\":\"\",\"zerolinecolor\":\"white\",\"gridwidth\":2}},\"shapedefaults\":{\"line\":{\"color\":\"#2a3f5f\"}},\"annotationdefaults\":{\"arrowcolor\":\"#2a3f5f\",\"arrowhead\":0,\"arrowwidth\":1},\"geo\":{\"bgcolor\":\"white\",\"landcolor\":\"#E5ECF6\",\"subunitcolor\":\"white\",\"showland\":true,\"showlakes\":true,\"lakecolor\":\"white\"},\"title\":{\"x\":0.05},\"mapbox\":{\"style\":\"light\"}}},\"xaxis\":{\"anchor\":\"y\",\"domain\":[0.0,0.1257142857142857],\"title\":{\"text\":\"SchoolName\"}},\"yaxis\":{\"anchor\":\"x\",\"domain\":[0.0,1.0],\"title\":{\"text\":\"% of grads\"}},\"xaxis2\":{\"anchor\":\"y2\",\"domain\":[0.14571428571428569,0.27142857142857135],\"matches\":\"x\",\"title\":{\"text\":\"SchoolName\"}},\"yaxis2\":{\"anchor\":\"x2\",\"domain\":[0.0,1.0],\"matches\":\"y\",\"showticklabels\":false},\"xaxis3\":{\"anchor\":\"y3\",\"domain\":[0.29142857142857137,0.41714285714285704],\"matches\":\"x\",\"title\":{\"text\":\"SchoolName\"}},\"yaxis3\":{\"anchor\":\"x3\",\"domain\":[0.0,1.0],\"matches\":\"y\",\"showticklabels\":false},\"xaxis4\":{\"anchor\":\"y4\",\"domain\":[0.4371428571428571,0.5628571428571428],\"matches\":\"x\",\"title\":{\"text\":\"SchoolName\"}},\"yaxis4\":{\"anchor\":\"x4\",\"domain\":[0.0,1.0],\"matches\":\"y\",\"showticklabels\":false},\"xaxis5\":{\"anchor\":\"y5\",\"domain\":[0.5828571428571427,0.7085714285714284],\"matches\":\"x\",\"title\":{\"text\":\"SchoolName\"}},\"yaxis5\":{\"anchor\":\"x5\",\"domain\":[0.0,1.0],\"matches\":\"y\",\"showticklabels\":false},\"xaxis6\":{\"anchor\":\"y6\",\"domain\":[0.7285714285714284,0.8542857142857141],\"matches\":\"x\",\"title\":{\"text\":\"SchoolName\"}},\"yaxis6\":{\"anchor\":\"x6\",\"domain\":[0.0,1.0],\"matches\":\"y\",\"showticklabels\":false},\"xaxis7\":{\"anchor\":\"y7\",\"domain\":[0.8742857142857141,0.9999999999999998],\"matches\":\"x\",\"title\":{\"text\":\"SchoolName\"}},\"yaxis7\":{\"anchor\":\"x7\",\"domain\":[0.0,1.0],\"matches\":\"y\",\"showticklabels\":false},\"annotations\":[{\"font\":{},\"showarrow\":false,\"text\":\"Year=2015\",\"x\":0.06285714285714285,\"xanchor\":\"center\",\"xref\":\"paper\",\"y\":1.0,\"yanchor\":\"bottom\",\"yref\":\"paper\"},{\"font\":{},\"showarrow\":false,\"text\":\"Year=2016\",\"x\":0.20857142857142852,\"xanchor\":\"center\",\"xref\":\"paper\",\"y\":1.0,\"yanchor\":\"bottom\",\"yref\":\"paper\"},{\"font\":{},\"showarrow\":false,\"text\":\"Year=2017\",\"x\":0.3542857142857142,\"xanchor\":\"center\",\"xref\":\"paper\",\"y\":1.0,\"yanchor\":\"bottom\",\"yref\":\"paper\"},{\"font\":{},\"showarrow\":false,\"text\":\"Year=2018\",\"x\":0.5,\"xanchor\":\"center\",\"xref\":\"paper\",\"y\":1.0,\"yanchor\":\"bottom\",\"yref\":\"paper\"},{\"font\":{},\"showarrow\":false,\"text\":\"Year=2019\",\"x\":0.6457142857142856,\"xanchor\":\"center\",\"xref\":\"paper\",\"y\":1.0,\"yanchor\":\"bottom\",\"yref\":\"paper\"},{\"font\":{},\"showarrow\":false,\"text\":\"Year=2020\",\"x\":0.7914285714285713,\"xanchor\":\"center\",\"xref\":\"paper\",\"y\":1.0,\"yanchor\":\"bottom\",\"yref\":\"paper\"},{\"font\":{},\"showarrow\":false,\"text\":\"Year=2021\",\"x\":0.9371428571428569,\"xanchor\":\"center\",\"xref\":\"paper\",\"y\":1.0,\"yanchor\":\"bottom\",\"yref\":\"paper\"}],\"legend\":{\"title\":{\"text\":\"employer_type\"},\"tracegroupgap\":0},\"margin\":{\"t\":60},\"barmode\":\"relative\"},                        {\"responsive\": true}                    ).then(function(){\n",
       "                            \n",
       "var gd = document.getElementById('383c92d3-214b-4929-9d1f-20d9240e3452');\n",
       "var x = new MutationObserver(function (mutations, observer) {{\n",
       "        var display = window.getComputedStyle(gd).display;\n",
       "        if (!display || display === 'none') {{\n",
       "            console.log([gd, 'removed!']);\n",
       "            Plotly.purge(gd);\n",
       "            observer.disconnect();\n",
       "        }}\n",
       "}});\n",
       "\n",
       "// Listen for the removal of the full notebook cells\n",
       "var notebookContainer = gd.closest('#notebook-container');\n",
       "if (notebookContainer) {{\n",
       "    x.observe(notebookContainer, {childList: true});\n",
       "}}\n",
       "\n",
       "// Listen for the clearing of the current output cell\n",
       "var outputEl = gd.closest('.output');\n",
       "if (outputEl) {{\n",
       "    x.observe(outputEl, {childList: true});\n",
       "}}\n",
       "\n",
       "                        })                };                });            </script>        </div>"
      ]
     },
     "metadata": {},
     "output_type": "display_data"
    }
   ],
   "source": [
    "employer = pd.read_csv(\"employerClean.csv\")\n",
    "employer\n",
    "\n",
    "employerPlotData = employer[(employer.SchoolName.isin(schoolinput)) & \n",
    "                                (employer.Year.isin(yearinputs)) &\n",
    "                                (employer.term.isin(terminputs)) &\n",
    "                                (employer.time.isin(timeinputs))].copy()\n",
    "employerPlotData = employerPlotData.groupby(['SchoolName', 'Year', 'employer_type'], as_index = False).agg({'number_grads': 'sum'})\n",
    "employerPlotData['% of grads'] = employerPlotData['number_grads']/employerPlotData.groupby(['SchoolName','Year'])['number_grads'].transform('sum')\n",
    "employer_comparison = px.bar(employerPlotData,\n",
    "              x='SchoolName', y='% of grads', color = 'employer_type', \n",
    "             facet_col=\"Year\")\n",
    "employer_comparison"
   ]
  },
  {
   "cell_type": "code",
   "execution_count": 193,
   "id": "0c10bcd2",
   "metadata": {},
   "outputs": [
    {
     "data": {
      "application/vnd.plotly.v1+json": {
       "config": {
        "plotlyServerURL": "https://plot.ly"
       },
       "data": [
        {
         "domain": {
          "x": [
           0,
           0.45
          ],
          "y": [
           0,
           1
          ]
         },
         "hole": 0.4,
         "hoverinfo": "label+percent+name",
         "labels": [
          "Employed_BarPassageRequired",
          "Employed_JDAdvantage",
          "Employed_Undeterminable",
          "Employed_BarPassageRequired",
          "Employed_JDAdvantage"
         ],
         "name": "YALE UNIVERSITY",
         "type": "pie",
         "values": [
          172,
          9,
          1,
          170,
          12
         ]
        },
        {
         "domain": {
          "x": [
           0.55,
           1
          ],
          "y": [
           0,
           1
          ]
         },
         "hole": 0.4,
         "hoverinfo": "label+percent+name",
         "labels": [
          "Employed_BarPassageRequired",
          "Employed_JDAdvantage",
          "Employed_OtherPosition",
          "Employed_ProfessionPosition",
          "Employed_BarPassageRequired",
          "Employed_JDAdvantage",
          "Employed_OtherPosition",
          "Employed_ProfessionPosition"
         ],
         "name": "DISTRICT OF COLUMBIA",
         "type": "pie",
         "values": [
          21,
          20,
          1,
          6,
          27,
          14,
          1,
          7
         ]
        }
       ],
       "layout": {
        "annotations": [
         {
          "font": {
           "size": 12
          },
          "showarrow": false,
          "text": "YALE UNIVERSITY",
          "x": 0.13,
          "y": 0
         },
         {
          "font": {
           "size": 12
          },
          "showarrow": false,
          "text": "DISTRICT OF COLUMBIA",
          "x": 0.92,
          "y": 0
         }
        ],
        "template": {
         "data": {
          "bar": [
           {
            "error_x": {
             "color": "#2a3f5f"
            },
            "error_y": {
             "color": "#2a3f5f"
            },
            "marker": {
             "line": {
              "color": "#E5ECF6",
              "width": 0.5
             },
             "pattern": {
              "fillmode": "overlay",
              "size": 10,
              "solidity": 0.2
             }
            },
            "type": "bar"
           }
          ],
          "barpolar": [
           {
            "marker": {
             "line": {
              "color": "#E5ECF6",
              "width": 0.5
             },
             "pattern": {
              "fillmode": "overlay",
              "size": 10,
              "solidity": 0.2
             }
            },
            "type": "barpolar"
           }
          ],
          "carpet": [
           {
            "aaxis": {
             "endlinecolor": "#2a3f5f",
             "gridcolor": "white",
             "linecolor": "white",
             "minorgridcolor": "white",
             "startlinecolor": "#2a3f5f"
            },
            "baxis": {
             "endlinecolor": "#2a3f5f",
             "gridcolor": "white",
             "linecolor": "white",
             "minorgridcolor": "white",
             "startlinecolor": "#2a3f5f"
            },
            "type": "carpet"
           }
          ],
          "choropleth": [
           {
            "colorbar": {
             "outlinewidth": 0,
             "ticks": ""
            },
            "type": "choropleth"
           }
          ],
          "contour": [
           {
            "colorbar": {
             "outlinewidth": 0,
             "ticks": ""
            },
            "colorscale": [
             [
              0,
              "#0d0887"
             ],
             [
              0.1111111111111111,
              "#46039f"
             ],
             [
              0.2222222222222222,
              "#7201a8"
             ],
             [
              0.3333333333333333,
              "#9c179e"
             ],
             [
              0.4444444444444444,
              "#bd3786"
             ],
             [
              0.5555555555555556,
              "#d8576b"
             ],
             [
              0.6666666666666666,
              "#ed7953"
             ],
             [
              0.7777777777777778,
              "#fb9f3a"
             ],
             [
              0.8888888888888888,
              "#fdca26"
             ],
             [
              1,
              "#f0f921"
             ]
            ],
            "type": "contour"
           }
          ],
          "contourcarpet": [
           {
            "colorbar": {
             "outlinewidth": 0,
             "ticks": ""
            },
            "type": "contourcarpet"
           }
          ],
          "heatmap": [
           {
            "colorbar": {
             "outlinewidth": 0,
             "ticks": ""
            },
            "colorscale": [
             [
              0,
              "#0d0887"
             ],
             [
              0.1111111111111111,
              "#46039f"
             ],
             [
              0.2222222222222222,
              "#7201a8"
             ],
             [
              0.3333333333333333,
              "#9c179e"
             ],
             [
              0.4444444444444444,
              "#bd3786"
             ],
             [
              0.5555555555555556,
              "#d8576b"
             ],
             [
              0.6666666666666666,
              "#ed7953"
             ],
             [
              0.7777777777777778,
              "#fb9f3a"
             ],
             [
              0.8888888888888888,
              "#fdca26"
             ],
             [
              1,
              "#f0f921"
             ]
            ],
            "type": "heatmap"
           }
          ],
          "heatmapgl": [
           {
            "colorbar": {
             "outlinewidth": 0,
             "ticks": ""
            },
            "colorscale": [
             [
              0,
              "#0d0887"
             ],
             [
              0.1111111111111111,
              "#46039f"
             ],
             [
              0.2222222222222222,
              "#7201a8"
             ],
             [
              0.3333333333333333,
              "#9c179e"
             ],
             [
              0.4444444444444444,
              "#bd3786"
             ],
             [
              0.5555555555555556,
              "#d8576b"
             ],
             [
              0.6666666666666666,
              "#ed7953"
             ],
             [
              0.7777777777777778,
              "#fb9f3a"
             ],
             [
              0.8888888888888888,
              "#fdca26"
             ],
             [
              1,
              "#f0f921"
             ]
            ],
            "type": "heatmapgl"
           }
          ],
          "histogram": [
           {
            "marker": {
             "pattern": {
              "fillmode": "overlay",
              "size": 10,
              "solidity": 0.2
             }
            },
            "type": "histogram"
           }
          ],
          "histogram2d": [
           {
            "colorbar": {
             "outlinewidth": 0,
             "ticks": ""
            },
            "colorscale": [
             [
              0,
              "#0d0887"
             ],
             [
              0.1111111111111111,
              "#46039f"
             ],
             [
              0.2222222222222222,
              "#7201a8"
             ],
             [
              0.3333333333333333,
              "#9c179e"
             ],
             [
              0.4444444444444444,
              "#bd3786"
             ],
             [
              0.5555555555555556,
              "#d8576b"
             ],
             [
              0.6666666666666666,
              "#ed7953"
             ],
             [
              0.7777777777777778,
              "#fb9f3a"
             ],
             [
              0.8888888888888888,
              "#fdca26"
             ],
             [
              1,
              "#f0f921"
             ]
            ],
            "type": "histogram2d"
           }
          ],
          "histogram2dcontour": [
           {
            "colorbar": {
             "outlinewidth": 0,
             "ticks": ""
            },
            "colorscale": [
             [
              0,
              "#0d0887"
             ],
             [
              0.1111111111111111,
              "#46039f"
             ],
             [
              0.2222222222222222,
              "#7201a8"
             ],
             [
              0.3333333333333333,
              "#9c179e"
             ],
             [
              0.4444444444444444,
              "#bd3786"
             ],
             [
              0.5555555555555556,
              "#d8576b"
             ],
             [
              0.6666666666666666,
              "#ed7953"
             ],
             [
              0.7777777777777778,
              "#fb9f3a"
             ],
             [
              0.8888888888888888,
              "#fdca26"
             ],
             [
              1,
              "#f0f921"
             ]
            ],
            "type": "histogram2dcontour"
           }
          ],
          "mesh3d": [
           {
            "colorbar": {
             "outlinewidth": 0,
             "ticks": ""
            },
            "type": "mesh3d"
           }
          ],
          "parcoords": [
           {
            "line": {
             "colorbar": {
              "outlinewidth": 0,
              "ticks": ""
             }
            },
            "type": "parcoords"
           }
          ],
          "pie": [
           {
            "automargin": true,
            "type": "pie"
           }
          ],
          "scatter": [
           {
            "fillpattern": {
             "fillmode": "overlay",
             "size": 10,
             "solidity": 0.2
            },
            "type": "scatter"
           }
          ],
          "scatter3d": [
           {
            "line": {
             "colorbar": {
              "outlinewidth": 0,
              "ticks": ""
             }
            },
            "marker": {
             "colorbar": {
              "outlinewidth": 0,
              "ticks": ""
             }
            },
            "type": "scatter3d"
           }
          ],
          "scattercarpet": [
           {
            "marker": {
             "colorbar": {
              "outlinewidth": 0,
              "ticks": ""
             }
            },
            "type": "scattercarpet"
           }
          ],
          "scattergeo": [
           {
            "marker": {
             "colorbar": {
              "outlinewidth": 0,
              "ticks": ""
             }
            },
            "type": "scattergeo"
           }
          ],
          "scattergl": [
           {
            "marker": {
             "colorbar": {
              "outlinewidth": 0,
              "ticks": ""
             }
            },
            "type": "scattergl"
           }
          ],
          "scattermapbox": [
           {
            "marker": {
             "colorbar": {
              "outlinewidth": 0,
              "ticks": ""
             }
            },
            "type": "scattermapbox"
           }
          ],
          "scatterpolar": [
           {
            "marker": {
             "colorbar": {
              "outlinewidth": 0,
              "ticks": ""
             }
            },
            "type": "scatterpolar"
           }
          ],
          "scatterpolargl": [
           {
            "marker": {
             "colorbar": {
              "outlinewidth": 0,
              "ticks": ""
             }
            },
            "type": "scatterpolargl"
           }
          ],
          "scatterternary": [
           {
            "marker": {
             "colorbar": {
              "outlinewidth": 0,
              "ticks": ""
             }
            },
            "type": "scatterternary"
           }
          ],
          "surface": [
           {
            "colorbar": {
             "outlinewidth": 0,
             "ticks": ""
            },
            "colorscale": [
             [
              0,
              "#0d0887"
             ],
             [
              0.1111111111111111,
              "#46039f"
             ],
             [
              0.2222222222222222,
              "#7201a8"
             ],
             [
              0.3333333333333333,
              "#9c179e"
             ],
             [
              0.4444444444444444,
              "#bd3786"
             ],
             [
              0.5555555555555556,
              "#d8576b"
             ],
             [
              0.6666666666666666,
              "#ed7953"
             ],
             [
              0.7777777777777778,
              "#fb9f3a"
             ],
             [
              0.8888888888888888,
              "#fdca26"
             ],
             [
              1,
              "#f0f921"
             ]
            ],
            "type": "surface"
           }
          ],
          "table": [
           {
            "cells": {
             "fill": {
              "color": "#EBF0F8"
             },
             "line": {
              "color": "white"
             }
            },
            "header": {
             "fill": {
              "color": "#C8D4E3"
             },
             "line": {
              "color": "white"
             }
            },
            "type": "table"
           }
          ]
         },
         "layout": {
          "annotationdefaults": {
           "arrowcolor": "#2a3f5f",
           "arrowhead": 0,
           "arrowwidth": 1
          },
          "autotypenumbers": "strict",
          "coloraxis": {
           "colorbar": {
            "outlinewidth": 0,
            "ticks": ""
           }
          },
          "colorscale": {
           "diverging": [
            [
             0,
             "#8e0152"
            ],
            [
             0.1,
             "#c51b7d"
            ],
            [
             0.2,
             "#de77ae"
            ],
            [
             0.3,
             "#f1b6da"
            ],
            [
             0.4,
             "#fde0ef"
            ],
            [
             0.5,
             "#f7f7f7"
            ],
            [
             0.6,
             "#e6f5d0"
            ],
            [
             0.7,
             "#b8e186"
            ],
            [
             0.8,
             "#7fbc41"
            ],
            [
             0.9,
             "#4d9221"
            ],
            [
             1,
             "#276419"
            ]
           ],
           "sequential": [
            [
             0,
             "#0d0887"
            ],
            [
             0.1111111111111111,
             "#46039f"
            ],
            [
             0.2222222222222222,
             "#7201a8"
            ],
            [
             0.3333333333333333,
             "#9c179e"
            ],
            [
             0.4444444444444444,
             "#bd3786"
            ],
            [
             0.5555555555555556,
             "#d8576b"
            ],
            [
             0.6666666666666666,
             "#ed7953"
            ],
            [
             0.7777777777777778,
             "#fb9f3a"
            ],
            [
             0.8888888888888888,
             "#fdca26"
            ],
            [
             1,
             "#f0f921"
            ]
           ],
           "sequentialminus": [
            [
             0,
             "#0d0887"
            ],
            [
             0.1111111111111111,
             "#46039f"
            ],
            [
             0.2222222222222222,
             "#7201a8"
            ],
            [
             0.3333333333333333,
             "#9c179e"
            ],
            [
             0.4444444444444444,
             "#bd3786"
            ],
            [
             0.5555555555555556,
             "#d8576b"
            ],
            [
             0.6666666666666666,
             "#ed7953"
            ],
            [
             0.7777777777777778,
             "#fb9f3a"
            ],
            [
             0.8888888888888888,
             "#fdca26"
            ],
            [
             1,
             "#f0f921"
            ]
           ]
          },
          "colorway": [
           "#636efa",
           "#EF553B",
           "#00cc96",
           "#ab63fa",
           "#FFA15A",
           "#19d3f3",
           "#FF6692",
           "#B6E880",
           "#FF97FF",
           "#FECB52"
          ],
          "font": {
           "color": "#2a3f5f"
          },
          "geo": {
           "bgcolor": "white",
           "lakecolor": "white",
           "landcolor": "#E5ECF6",
           "showlakes": true,
           "showland": true,
           "subunitcolor": "white"
          },
          "hoverlabel": {
           "align": "left"
          },
          "hovermode": "closest",
          "mapbox": {
           "style": "light"
          },
          "paper_bgcolor": "white",
          "plot_bgcolor": "#E5ECF6",
          "polar": {
           "angularaxis": {
            "gridcolor": "white",
            "linecolor": "white",
            "ticks": ""
           },
           "bgcolor": "#E5ECF6",
           "radialaxis": {
            "gridcolor": "white",
            "linecolor": "white",
            "ticks": ""
           }
          },
          "scene": {
           "xaxis": {
            "backgroundcolor": "#E5ECF6",
            "gridcolor": "white",
            "gridwidth": 2,
            "linecolor": "white",
            "showbackground": true,
            "ticks": "",
            "zerolinecolor": "white"
           },
           "yaxis": {
            "backgroundcolor": "#E5ECF6",
            "gridcolor": "white",
            "gridwidth": 2,
            "linecolor": "white",
            "showbackground": true,
            "ticks": "",
            "zerolinecolor": "white"
           },
           "zaxis": {
            "backgroundcolor": "#E5ECF6",
            "gridcolor": "white",
            "gridwidth": 2,
            "linecolor": "white",
            "showbackground": true,
            "ticks": "",
            "zerolinecolor": "white"
           }
          },
          "shapedefaults": {
           "line": {
            "color": "#2a3f5f"
           }
          },
          "ternary": {
           "aaxis": {
            "gridcolor": "white",
            "linecolor": "white",
            "ticks": ""
           },
           "baxis": {
            "gridcolor": "white",
            "linecolor": "white",
            "ticks": ""
           },
           "bgcolor": "#E5ECF6",
           "caxis": {
            "gridcolor": "white",
            "linecolor": "white",
            "ticks": ""
           }
          },
          "title": {
           "x": 0.05
          },
          "xaxis": {
           "automargin": true,
           "gridcolor": "white",
           "linecolor": "white",
           "ticks": "",
           "title": {
            "standoff": 15
           },
           "zerolinecolor": "white",
           "zerolinewidth": 2
          },
          "yaxis": {
           "automargin": true,
           "gridcolor": "white",
           "linecolor": "white",
           "ticks": "",
           "title": {
            "standoff": 15
           },
           "zerolinecolor": "white",
           "zerolinewidth": 2
          }
         }
        },
        "title": {
         "text": "Comparison of Employment Outcomes For Selected Years"
        }
       }
      },
      "text/html": [
       "<div>                            <div id=\"2454e81f-7294-41fb-b2e7-fed3b67dedb7\" class=\"plotly-graph-div\" style=\"height:525px; width:100%;\"></div>            <script type=\"text/javascript\">                require([\"plotly\"], function(Plotly) {                    window.PLOTLYENV=window.PLOTLYENV || {};                                    if (document.getElementById(\"2454e81f-7294-41fb-b2e7-fed3b67dedb7\")) {                    Plotly.newPlot(                        \"2454e81f-7294-41fb-b2e7-fed3b67dedb7\",                        [{\"labels\":[\"Employed_BarPassageRequired\",\"Employed_JDAdvantage\",\"Employed_Undeterminable\",\"Employed_BarPassageRequired\",\"Employed_JDAdvantage\"],\"name\":\"YALE UNIVERSITY\",\"values\":[172.0,9.0,1.0,170.0,12.0],\"type\":\"pie\",\"domain\":{\"x\":[0.0,0.45],\"y\":[0.0,1.0]},\"hole\":0.4,\"hoverinfo\":\"label+percent+name\"},{\"labels\":[\"Employed_BarPassageRequired\",\"Employed_JDAdvantage\",\"Employed_OtherPosition\",\"Employed_ProfessionPosition\",\"Employed_BarPassageRequired\",\"Employed_JDAdvantage\",\"Employed_OtherPosition\",\"Employed_ProfessionPosition\"],\"name\":\"DISTRICT OF COLUMBIA\",\"values\":[21.0,20.0,1.0,6.0,27.0,14.0,1.0,7.0],\"type\":\"pie\",\"domain\":{\"x\":[0.55,1.0],\"y\":[0.0,1.0]},\"hole\":0.4,\"hoverinfo\":\"label+percent+name\"}],                        {\"template\":{\"data\":{\"histogram2dcontour\":[{\"type\":\"histogram2dcontour\",\"colorbar\":{\"outlinewidth\":0,\"ticks\":\"\"},\"colorscale\":[[0.0,\"#0d0887\"],[0.1111111111111111,\"#46039f\"],[0.2222222222222222,\"#7201a8\"],[0.3333333333333333,\"#9c179e\"],[0.4444444444444444,\"#bd3786\"],[0.5555555555555556,\"#d8576b\"],[0.6666666666666666,\"#ed7953\"],[0.7777777777777778,\"#fb9f3a\"],[0.8888888888888888,\"#fdca26\"],[1.0,\"#f0f921\"]]}],\"choropleth\":[{\"type\":\"choropleth\",\"colorbar\":{\"outlinewidth\":0,\"ticks\":\"\"}}],\"histogram2d\":[{\"type\":\"histogram2d\",\"colorbar\":{\"outlinewidth\":0,\"ticks\":\"\"},\"colorscale\":[[0.0,\"#0d0887\"],[0.1111111111111111,\"#46039f\"],[0.2222222222222222,\"#7201a8\"],[0.3333333333333333,\"#9c179e\"],[0.4444444444444444,\"#bd3786\"],[0.5555555555555556,\"#d8576b\"],[0.6666666666666666,\"#ed7953\"],[0.7777777777777778,\"#fb9f3a\"],[0.8888888888888888,\"#fdca26\"],[1.0,\"#f0f921\"]]}],\"heatmap\":[{\"type\":\"heatmap\",\"colorbar\":{\"outlinewidth\":0,\"ticks\":\"\"},\"colorscale\":[[0.0,\"#0d0887\"],[0.1111111111111111,\"#46039f\"],[0.2222222222222222,\"#7201a8\"],[0.3333333333333333,\"#9c179e\"],[0.4444444444444444,\"#bd3786\"],[0.5555555555555556,\"#d8576b\"],[0.6666666666666666,\"#ed7953\"],[0.7777777777777778,\"#fb9f3a\"],[0.8888888888888888,\"#fdca26\"],[1.0,\"#f0f921\"]]}],\"heatmapgl\":[{\"type\":\"heatmapgl\",\"colorbar\":{\"outlinewidth\":0,\"ticks\":\"\"},\"colorscale\":[[0.0,\"#0d0887\"],[0.1111111111111111,\"#46039f\"],[0.2222222222222222,\"#7201a8\"],[0.3333333333333333,\"#9c179e\"],[0.4444444444444444,\"#bd3786\"],[0.5555555555555556,\"#d8576b\"],[0.6666666666666666,\"#ed7953\"],[0.7777777777777778,\"#fb9f3a\"],[0.8888888888888888,\"#fdca26\"],[1.0,\"#f0f921\"]]}],\"contourcarpet\":[{\"type\":\"contourcarpet\",\"colorbar\":{\"outlinewidth\":0,\"ticks\":\"\"}}],\"contour\":[{\"type\":\"contour\",\"colorbar\":{\"outlinewidth\":0,\"ticks\":\"\"},\"colorscale\":[[0.0,\"#0d0887\"],[0.1111111111111111,\"#46039f\"],[0.2222222222222222,\"#7201a8\"],[0.3333333333333333,\"#9c179e\"],[0.4444444444444444,\"#bd3786\"],[0.5555555555555556,\"#d8576b\"],[0.6666666666666666,\"#ed7953\"],[0.7777777777777778,\"#fb9f3a\"],[0.8888888888888888,\"#fdca26\"],[1.0,\"#f0f921\"]]}],\"surface\":[{\"type\":\"surface\",\"colorbar\":{\"outlinewidth\":0,\"ticks\":\"\"},\"colorscale\":[[0.0,\"#0d0887\"],[0.1111111111111111,\"#46039f\"],[0.2222222222222222,\"#7201a8\"],[0.3333333333333333,\"#9c179e\"],[0.4444444444444444,\"#bd3786\"],[0.5555555555555556,\"#d8576b\"],[0.6666666666666666,\"#ed7953\"],[0.7777777777777778,\"#fb9f3a\"],[0.8888888888888888,\"#fdca26\"],[1.0,\"#f0f921\"]]}],\"mesh3d\":[{\"type\":\"mesh3d\",\"colorbar\":{\"outlinewidth\":0,\"ticks\":\"\"}}],\"scatter\":[{\"fillpattern\":{\"fillmode\":\"overlay\",\"size\":10,\"solidity\":0.2},\"type\":\"scatter\"}],\"parcoords\":[{\"type\":\"parcoords\",\"line\":{\"colorbar\":{\"outlinewidth\":0,\"ticks\":\"\"}}}],\"scatterpolargl\":[{\"type\":\"scatterpolargl\",\"marker\":{\"colorbar\":{\"outlinewidth\":0,\"ticks\":\"\"}}}],\"bar\":[{\"error_x\":{\"color\":\"#2a3f5f\"},\"error_y\":{\"color\":\"#2a3f5f\"},\"marker\":{\"line\":{\"color\":\"#E5ECF6\",\"width\":0.5},\"pattern\":{\"fillmode\":\"overlay\",\"size\":10,\"solidity\":0.2}},\"type\":\"bar\"}],\"scattergeo\":[{\"type\":\"scattergeo\",\"marker\":{\"colorbar\":{\"outlinewidth\":0,\"ticks\":\"\"}}}],\"scatterpolar\":[{\"type\":\"scatterpolar\",\"marker\":{\"colorbar\":{\"outlinewidth\":0,\"ticks\":\"\"}}}],\"histogram\":[{\"marker\":{\"pattern\":{\"fillmode\":\"overlay\",\"size\":10,\"solidity\":0.2}},\"type\":\"histogram\"}],\"scattergl\":[{\"type\":\"scattergl\",\"marker\":{\"colorbar\":{\"outlinewidth\":0,\"ticks\":\"\"}}}],\"scatter3d\":[{\"type\":\"scatter3d\",\"line\":{\"colorbar\":{\"outlinewidth\":0,\"ticks\":\"\"}},\"marker\":{\"colorbar\":{\"outlinewidth\":0,\"ticks\":\"\"}}}],\"scattermapbox\":[{\"type\":\"scattermapbox\",\"marker\":{\"colorbar\":{\"outlinewidth\":0,\"ticks\":\"\"}}}],\"scatterternary\":[{\"type\":\"scatterternary\",\"marker\":{\"colorbar\":{\"outlinewidth\":0,\"ticks\":\"\"}}}],\"scattercarpet\":[{\"type\":\"scattercarpet\",\"marker\":{\"colorbar\":{\"outlinewidth\":0,\"ticks\":\"\"}}}],\"carpet\":[{\"aaxis\":{\"endlinecolor\":\"#2a3f5f\",\"gridcolor\":\"white\",\"linecolor\":\"white\",\"minorgridcolor\":\"white\",\"startlinecolor\":\"#2a3f5f\"},\"baxis\":{\"endlinecolor\":\"#2a3f5f\",\"gridcolor\":\"white\",\"linecolor\":\"white\",\"minorgridcolor\":\"white\",\"startlinecolor\":\"#2a3f5f\"},\"type\":\"carpet\"}],\"table\":[{\"cells\":{\"fill\":{\"color\":\"#EBF0F8\"},\"line\":{\"color\":\"white\"}},\"header\":{\"fill\":{\"color\":\"#C8D4E3\"},\"line\":{\"color\":\"white\"}},\"type\":\"table\"}],\"barpolar\":[{\"marker\":{\"line\":{\"color\":\"#E5ECF6\",\"width\":0.5},\"pattern\":{\"fillmode\":\"overlay\",\"size\":10,\"solidity\":0.2}},\"type\":\"barpolar\"}],\"pie\":[{\"automargin\":true,\"type\":\"pie\"}]},\"layout\":{\"autotypenumbers\":\"strict\",\"colorway\":[\"#636efa\",\"#EF553B\",\"#00cc96\",\"#ab63fa\",\"#FFA15A\",\"#19d3f3\",\"#FF6692\",\"#B6E880\",\"#FF97FF\",\"#FECB52\"],\"font\":{\"color\":\"#2a3f5f\"},\"hovermode\":\"closest\",\"hoverlabel\":{\"align\":\"left\"},\"paper_bgcolor\":\"white\",\"plot_bgcolor\":\"#E5ECF6\",\"polar\":{\"bgcolor\":\"#E5ECF6\",\"angularaxis\":{\"gridcolor\":\"white\",\"linecolor\":\"white\",\"ticks\":\"\"},\"radialaxis\":{\"gridcolor\":\"white\",\"linecolor\":\"white\",\"ticks\":\"\"}},\"ternary\":{\"bgcolor\":\"#E5ECF6\",\"aaxis\":{\"gridcolor\":\"white\",\"linecolor\":\"white\",\"ticks\":\"\"},\"baxis\":{\"gridcolor\":\"white\",\"linecolor\":\"white\",\"ticks\":\"\"},\"caxis\":{\"gridcolor\":\"white\",\"linecolor\":\"white\",\"ticks\":\"\"}},\"coloraxis\":{\"colorbar\":{\"outlinewidth\":0,\"ticks\":\"\"}},\"colorscale\":{\"sequential\":[[0.0,\"#0d0887\"],[0.1111111111111111,\"#46039f\"],[0.2222222222222222,\"#7201a8\"],[0.3333333333333333,\"#9c179e\"],[0.4444444444444444,\"#bd3786\"],[0.5555555555555556,\"#d8576b\"],[0.6666666666666666,\"#ed7953\"],[0.7777777777777778,\"#fb9f3a\"],[0.8888888888888888,\"#fdca26\"],[1.0,\"#f0f921\"]],\"sequentialminus\":[[0.0,\"#0d0887\"],[0.1111111111111111,\"#46039f\"],[0.2222222222222222,\"#7201a8\"],[0.3333333333333333,\"#9c179e\"],[0.4444444444444444,\"#bd3786\"],[0.5555555555555556,\"#d8576b\"],[0.6666666666666666,\"#ed7953\"],[0.7777777777777778,\"#fb9f3a\"],[0.8888888888888888,\"#fdca26\"],[1.0,\"#f0f921\"]],\"diverging\":[[0,\"#8e0152\"],[0.1,\"#c51b7d\"],[0.2,\"#de77ae\"],[0.3,\"#f1b6da\"],[0.4,\"#fde0ef\"],[0.5,\"#f7f7f7\"],[0.6,\"#e6f5d0\"],[0.7,\"#b8e186\"],[0.8,\"#7fbc41\"],[0.9,\"#4d9221\"],[1,\"#276419\"]]},\"xaxis\":{\"gridcolor\":\"white\",\"linecolor\":\"white\",\"ticks\":\"\",\"title\":{\"standoff\":15},\"zerolinecolor\":\"white\",\"automargin\":true,\"zerolinewidth\":2},\"yaxis\":{\"gridcolor\":\"white\",\"linecolor\":\"white\",\"ticks\":\"\",\"title\":{\"standoff\":15},\"zerolinecolor\":\"white\",\"automargin\":true,\"zerolinewidth\":2},\"scene\":{\"xaxis\":{\"backgroundcolor\":\"#E5ECF6\",\"gridcolor\":\"white\",\"linecolor\":\"white\",\"showbackground\":true,\"ticks\":\"\",\"zerolinecolor\":\"white\",\"gridwidth\":2},\"yaxis\":{\"backgroundcolor\":\"#E5ECF6\",\"gridcolor\":\"white\",\"linecolor\":\"white\",\"showbackground\":true,\"ticks\":\"\",\"zerolinecolor\":\"white\",\"gridwidth\":2},\"zaxis\":{\"backgroundcolor\":\"#E5ECF6\",\"gridcolor\":\"white\",\"linecolor\":\"white\",\"showbackground\":true,\"ticks\":\"\",\"zerolinecolor\":\"white\",\"gridwidth\":2}},\"shapedefaults\":{\"line\":{\"color\":\"#2a3f5f\"}},\"annotationdefaults\":{\"arrowcolor\":\"#2a3f5f\",\"arrowhead\":0,\"arrowwidth\":1},\"geo\":{\"bgcolor\":\"white\",\"landcolor\":\"#E5ECF6\",\"subunitcolor\":\"white\",\"showland\":true,\"showlakes\":true,\"lakecolor\":\"white\"},\"title\":{\"x\":0.05},\"mapbox\":{\"style\":\"light\"}}},\"title\":{\"text\":\"Comparison of Employment Outcomes For Selected Years\"},\"annotations\":[{\"showarrow\":false,\"text\":\"YALE UNIVERSITY\",\"x\":0.13,\"y\":0,\"font\":{\"size\":12}},{\"showarrow\":false,\"text\":\"DISTRICT OF COLUMBIA\",\"x\":0.92,\"y\":0,\"font\":{\"size\":12}}]},                        {\"responsive\": true}                    ).then(function(){\n",
       "                            \n",
       "var gd = document.getElementById('2454e81f-7294-41fb-b2e7-fed3b67dedb7');\n",
       "var x = new MutationObserver(function (mutations, observer) {{\n",
       "        var display = window.getComputedStyle(gd).display;\n",
       "        if (!display || display === 'none') {{\n",
       "            console.log([gd, 'removed!']);\n",
       "            Plotly.purge(gd);\n",
       "            observer.disconnect();\n",
       "        }}\n",
       "}});\n",
       "\n",
       "// Listen for the removal of the full notebook cells\n",
       "var notebookContainer = gd.closest('#notebook-container');\n",
       "if (notebookContainer) {{\n",
       "    x.observe(notebookContainer, {childList: true});\n",
       "}}\n",
       "\n",
       "// Listen for the clearing of the current output cell\n",
       "var outputEl = gd.closest('.output');\n",
       "if (outputEl) {{\n",
       "    x.observe(outputEl, {childList: true});\n",
       "}}\n",
       "\n",
       "                        })                };                });            </script>        </div>"
      ]
     },
     "metadata": {},
     "output_type": "display_data"
    }
   ],
   "source": [
    "import plotly.graph_objects as go\n",
    "from plotly.subplots import make_subplots\n",
    "\n",
    "employmentPieData = employmentPlotData[employmentPlotData['number_grads'] >0 ].copy()\n",
    "\n",
    "\n",
    "employment_comp = make_subplots(rows=1, cols=2, specs=[[{'type':'domain'}, {'type':'domain'}]])\n",
    "\n",
    "employment_comp.add_trace(go.Pie(\n",
    "    labels=employmentPieData.loc[employmentPlotData['SchoolName'] == schoolinput[0], \"employment_type\"], \n",
    "    values= employmentPieData.loc[employmentPlotData['SchoolName'] == schoolinput[0], \"number_grads\"], \n",
    "    name= schoolinput[0] ),1, 1)\n",
    "\n",
    "employment_comp.add_trace(go.Pie(\n",
    "    labels=employmentPieData.loc[employmentPlotData['SchoolName'] == schoolinput[1], \"employment_type\"], \n",
    "    values= employmentPieData.loc[employmentPlotData['SchoolName'] == schoolinput[1], \"number_grads\"], \n",
    "    name= schoolinput[1] ),1, 2)\n",
    "\n",
    "employment_comp.update_traces(hole=.4, hoverinfo=\"label+percent+name\")\n",
    "\n",
    "employment_comp.update_layout(\n",
    "    title_text=\"Comparison of Employment Outcomes For Selected Years\",\n",
    "    annotations=[dict(text=schoolinput[0], x=0.13, y=0, font_size=12, showarrow=False),\n",
    "                 dict(text=schoolinput[1], x=0.92, y=0, font_size=12, showarrow=False)])\n",
    "employment_comp.show()\n"
   ]
  }
 ],
 "metadata": {
  "kernelspec": {
   "display_name": "Python 3 (ipykernel)",
   "language": "python",
   "name": "python3"
  },
  "language_info": {
   "codemirror_mode": {
    "name": "ipython",
    "version": 3
   },
   "file_extension": ".py",
   "mimetype": "text/x-python",
   "name": "python",
   "nbconvert_exporter": "python",
   "pygments_lexer": "ipython3",
   "version": "3.9.12"
  }
 },
 "nbformat": 4,
 "nbformat_minor": 5
}
